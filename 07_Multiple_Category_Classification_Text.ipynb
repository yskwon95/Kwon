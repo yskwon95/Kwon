{
 "cells": [
  {
   "cell_type": "code",
   "execution_count": 492,
   "metadata": {},
   "outputs": [],
   "source": [
    "import numpy as np\n",
    "import pandas as pd \n",
    "import matplotlib as mpl\n",
    "import matplotlib.pyplot as plt \n",
    "import seaborn as sns \n",
    "import os \n",
    "import re"
   ]
  },
  {
   "cell_type": "code",
   "execution_count": 493,
   "metadata": {},
   "outputs": [],
   "source": [
    "mpl.rc('font',family='Malgun Gothic')"
   ]
  },
  {
   "cell_type": "code",
   "execution_count": 494,
   "metadata": {},
   "outputs": [
    {
     "data": {
      "text/html": [
       "<div>\n",
       "<style scoped>\n",
       "    .dataframe tbody tr th:only-of-type {\n",
       "        vertical-align: middle;\n",
       "    }\n",
       "\n",
       "    .dataframe tbody tr th {\n",
       "        vertical-align: top;\n",
       "    }\n",
       "\n",
       "    .dataframe thead th {\n",
       "        text-align: right;\n",
       "    }\n",
       "</style>\n",
       "<table border=\"1\" class=\"dataframe\">\n",
       "  <thead>\n",
       "    <tr style=\"text-align: right;\">\n",
       "      <th></th>\n",
       "      <th>Unnamed: 0</th>\n",
       "      <th>Unnamed: 0.1</th>\n",
       "      <th>직종</th>\n",
       "      <th>재직여부</th>\n",
       "      <th>지역</th>\n",
       "      <th>작성시간</th>\n",
       "      <th>Label</th>\n",
       "      <th>한줄평</th>\n",
       "      <th>기업장점</th>\n",
       "      <th>기업단점</th>\n",
       "      <th>바라는점</th>\n",
       "      <th>기업성장여부</th>\n",
       "      <th>기업추천여부</th>\n",
       "    </tr>\n",
       "  </thead>\n",
       "  <tbody>\n",
       "    <tr>\n",
       "      <td>0</td>\n",
       "      <td>0</td>\n",
       "      <td>0</td>\n",
       "      <td>경영/기획/컨설팅</td>\n",
       "      <td>현직원</td>\n",
       "      <td>서울</td>\n",
       "      <td>2019. 01. 03</td>\n",
       "      <td>성장</td>\n",
       "      <td>무섭도록 빠른 속도로 성장중인 대한민국 스타트업의 상징!\\n회사도 성장하고 그 안에...</td>\n",
       "      <td>1. 내부구성원들을 위하는 기업문화가 형성되어있고, 실제로 운영측면에서도 배려마인드...</td>\n",
       "      <td>빠르게 성장하는회사의 특징! 바뀌는 업무가 많습니다. 하루하루 다이나믹해요.</td>\n",
       "      <td>향후 회사가 어떤 방향으로 성장해야 할지 지속적으로 고민하시고 공유해주셔서 감사합니...</td>\n",
       "      <td>성장</td>\n",
       "      <td>추천</td>\n",
       "    </tr>\n",
       "    <tr>\n",
       "      <td>1</td>\n",
       "      <td>1</td>\n",
       "      <td>1</td>\n",
       "      <td>경영/기획/컨설팅</td>\n",
       "      <td>현직원</td>\n",
       "      <td>서울</td>\n",
       "      <td>2019. 03. 08</td>\n",
       "      <td>체계적</td>\n",
       "      <td>체계적인 업무분담으로 자율성을 강조하며 사내분위기로 실무를 극대화할 수 있는 좋은 회사</td>\n",
       "      <td>그 누구의 눈치도 보지 않으며, 자유로운 의사소통에 내부 분위기, 팀별로 케바케 이...</td>\n",
       "      <td>팀별로 케바케, 외근 및 인테리어관련 부서는 낮과 밤이 없어보이지만 그들에게도 얼굴...</td>\n",
       "      <td>너무 좋아서 변하지 않을까 걱정이 됩니다\\n지금처럼 고객, 파트너사, 직원들을 생각...</td>\n",
       "      <td>성장</td>\n",
       "      <td>추천</td>\n",
       "    </tr>\n",
       "    <tr>\n",
       "      <td>2</td>\n",
       "      <td>2</td>\n",
       "      <td>2</td>\n",
       "      <td>인사/총무</td>\n",
       "      <td>현직원</td>\n",
       "      <td>서울</td>\n",
       "      <td>2019. 01. 25</td>\n",
       "      <td>워라벨</td>\n",
       "      <td>개발자가 대우받으며 일할 수 있는곳, 워라밸 좋음</td>\n",
       "      <td>도서구입비 무제한 지원, 주 35시간 근무, 월요일은 오후1시 출근,</td>\n",
       "      <td>아직 커가는 회사라서 이것저것 세팅해 나가는 단계. 그러나 세팅해 나갈때에도 경쟁사...</td>\n",
       "      <td>없다. 비전이 뚜렷하고 가고자하는 방향이 있어 좋음.</td>\n",
       "      <td>성장</td>\n",
       "      <td>추천</td>\n",
       "    </tr>\n",
       "    <tr>\n",
       "      <td>3</td>\n",
       "      <td>3</td>\n",
       "      <td>3</td>\n",
       "      <td>전문직</td>\n",
       "      <td>전직원</td>\n",
       "      <td>서울</td>\n",
       "      <td>2019. 01. 15</td>\n",
       "      <td>사람</td>\n",
       "      <td>일하기 좋은 회사. 누구라도 잘 알고 있는 회사인만큼 실제로도 매우 만족스러운 회사...</td>\n",
       "      <td>자율적인 분위기와 좋은 복지를 많이 갖춘 곳. 좋은 사람들이 많이 모여있고 그 안에...</td>\n",
       "      <td>팀내 팀장과의 소통이 많이 있지 않았던터라 팀끼리 협업이 부족했다. 속해있던 팀 내...</td>\n",
       "      <td>조금 더 폭넓은 관심이 필요 할 것 같다. 이래도 되나? 싶을 정도에 사람이 많이 ...</td>\n",
       "      <td>성장</td>\n",
       "      <td>추천</td>\n",
       "    </tr>\n",
       "    <tr>\n",
       "      <td>4</td>\n",
       "      <td>4</td>\n",
       "      <td>4</td>\n",
       "      <td>경영/기획/컨설팅</td>\n",
       "      <td>현직원</td>\n",
       "      <td>서울</td>\n",
       "      <td>2019. 01. 03</td>\n",
       "      <td>성장</td>\n",
       "      <td>무섭도록 빠른 속도로 성장중인 대한민국 스타트업의 상징!\\n회사도 성장하고 그 안에...</td>\n",
       "      <td>1. 내부구성원들을 위하는 기업문화가 형성되어있고, 실제로 운영측면에서도 배려마인드...</td>\n",
       "      <td>빠르게 성장하는회사의 특징! 바뀌는 업무가 많습니다. 하루하루 다이나믹해요.</td>\n",
       "      <td>향후 회사가 어떤 방향으로 성장해야 할지 지속적으로 고민하시고 공유해주셔서 감사합니...</td>\n",
       "      <td>성장</td>\n",
       "      <td>추천</td>\n",
       "    </tr>\n",
       "  </tbody>\n",
       "</table>\n",
       "</div>"
      ],
      "text/plain": [
       "   Unnamed: 0  Unnamed: 0.1         직종 재직여부  지역          작성시간 Label  \\\n",
       "0           0             0  경영/기획/컨설팅  현직원  서울  2019. 01. 03    성장   \n",
       "1           1             1  경영/기획/컨설팅  현직원  서울  2019. 03. 08   체계적   \n",
       "2           2             2      인사/총무  현직원  서울  2019. 01. 25   워라벨   \n",
       "3           3             3        전문직  전직원  서울  2019. 01. 15    사람   \n",
       "4           4             4  경영/기획/컨설팅  현직원  서울  2019. 01. 03    성장   \n",
       "\n",
       "                                                 한줄평  \\\n",
       "0  무섭도록 빠른 속도로 성장중인 대한민국 스타트업의 상징!\\n회사도 성장하고 그 안에...   \n",
       "1   체계적인 업무분담으로 자율성을 강조하며 사내분위기로 실무를 극대화할 수 있는 좋은 회사   \n",
       "2                        개발자가 대우받으며 일할 수 있는곳, 워라밸 좋음   \n",
       "3  일하기 좋은 회사. 누구라도 잘 알고 있는 회사인만큼 실제로도 매우 만족스러운 회사...   \n",
       "4  무섭도록 빠른 속도로 성장중인 대한민국 스타트업의 상징!\\n회사도 성장하고 그 안에...   \n",
       "\n",
       "                                                기업장점  \\\n",
       "0  1. 내부구성원들을 위하는 기업문화가 형성되어있고, 실제로 운영측면에서도 배려마인드...   \n",
       "1  그 누구의 눈치도 보지 않으며, 자유로운 의사소통에 내부 분위기, 팀별로 케바케 이...   \n",
       "2             도서구입비 무제한 지원, 주 35시간 근무, 월요일은 오후1시 출근,   \n",
       "3  자율적인 분위기와 좋은 복지를 많이 갖춘 곳. 좋은 사람들이 많이 모여있고 그 안에...   \n",
       "4  1. 내부구성원들을 위하는 기업문화가 형성되어있고, 실제로 운영측면에서도 배려마인드...   \n",
       "\n",
       "                                                기업단점  \\\n",
       "0         빠르게 성장하는회사의 특징! 바뀌는 업무가 많습니다. 하루하루 다이나믹해요.   \n",
       "1  팀별로 케바케, 외근 및 인테리어관련 부서는 낮과 밤이 없어보이지만 그들에게도 얼굴...   \n",
       "2  아직 커가는 회사라서 이것저것 세팅해 나가는 단계. 그러나 세팅해 나갈때에도 경쟁사...   \n",
       "3  팀내 팀장과의 소통이 많이 있지 않았던터라 팀끼리 협업이 부족했다. 속해있던 팀 내...   \n",
       "4         빠르게 성장하는회사의 특징! 바뀌는 업무가 많습니다. 하루하루 다이나믹해요.   \n",
       "\n",
       "                                                바라는점 기업성장여부 기업추천여부  \n",
       "0  향후 회사가 어떤 방향으로 성장해야 할지 지속적으로 고민하시고 공유해주셔서 감사합니...     성장     추천  \n",
       "1  너무 좋아서 변하지 않을까 걱정이 됩니다\\n지금처럼 고객, 파트너사, 직원들을 생각...     성장     추천  \n",
       "2                      없다. 비전이 뚜렷하고 가고자하는 방향이 있어 좋음.     성장     추천  \n",
       "3  조금 더 폭넓은 관심이 필요 할 것 같다. 이래도 되나? 싶을 정도에 사람이 많이 ...     성장     추천  \n",
       "4  향후 회사가 어떤 방향으로 성장해야 할지 지속적으로 고민하시고 공유해주셔서 감사합니...     성장     추천  "
      ]
     },
     "execution_count": 494,
     "metadata": {},
     "output_type": "execute_result"
    }
   ],
   "source": [
    "df1 = pd.read_csv('web_crawling_data2.csv',encoding='cp949')\n",
    "df1.head()"
   ]
  },
  {
   "cell_type": "markdown",
   "metadata": {},
   "source": [
    "# Label 분류기"
   ]
  },
  {
   "cell_type": "code",
   "execution_count": 495,
   "metadata": {},
   "outputs": [
    {
     "data": {
      "text/plain": [
       "<matplotlib.axes._subplots.AxesSubplot at 0x21b13474948>"
      ]
     },
     "execution_count": 495,
     "metadata": {},
     "output_type": "execute_result"
    },
    {
     "data": {
      "image/png": "[encoded data removed]",
      "text/plain": [
       "<Figure size 720x360 with 1 Axes>"
      ]
     },
     "metadata": {
      "needs_background": "light"
     },
     "output_type": "display_data"
    }
   ],
   "source": [
    "plt.figure(figsize=[10,5])\n",
    "sns.countplot(data=df1, x='Label')"
   ]
  },
  {
   "cell_type": "code",
   "execution_count": 496,
   "metadata": {},
   "outputs": [],
   "source": [
    "import konlpy\n",
    "from konlpy.tag import Okt\n",
    "from sklearn.model_selection import train_test_split\n",
    "from tensorflow.keras import layers\n",
    "from tensorflow.keras.preprocessing.sequence import pad_sequences\n",
    "from tensorflow.keras.preprocessing.text import Tokenizer\n",
    "from keras.models import Sequential\n",
    "from keras.layers import Flatten, Dense, Embedding,SimpleRNN,LSTM\n",
    "from keras.datasets import imdb\n",
    "from keras import preprocessing"
   ]
  },
  {
   "cell_type": "code",
   "execution_count": 497,
   "metadata": {},
   "outputs": [
    {
     "data": {
      "text/html": [
       "<div>\n",
       "<style scoped>\n",
       "    .dataframe tbody tr th:only-of-type {\n",
       "        vertical-align: middle;\n",
       "    }\n",
       "\n",
       "    .dataframe tbody tr th {\n",
       "        vertical-align: top;\n",
       "    }\n",
       "\n",
       "    .dataframe thead th {\n",
       "        text-align: right;\n",
       "    }\n",
       "</style>\n",
       "<table border=\"1\" class=\"dataframe\">\n",
       "  <thead>\n",
       "    <tr style=\"text-align: right;\">\n",
       "      <th></th>\n",
       "      <th>text</th>\n",
       "      <th>Label</th>\n",
       "    </tr>\n",
       "  </thead>\n",
       "  <tbody>\n",
       "    <tr>\n",
       "      <td>0</td>\n",
       "      <td>무섭도록 빠른 속도로 성장중인 대한민국 스타트업의 상징!\\n회사도 성장하고 그 안에...</td>\n",
       "      <td>1.0</td>\n",
       "    </tr>\n",
       "    <tr>\n",
       "      <td>1</td>\n",
       "      <td>체계적인 업무분담으로 자율성을 강조하며 사내분위기로 실무를 극대화할 수 있는 좋은 회사</td>\n",
       "      <td>2.0</td>\n",
       "    </tr>\n",
       "    <tr>\n",
       "      <td>2</td>\n",
       "      <td>개발자가 대우받으며 일할 수 있는곳, 워라밸 좋음</td>\n",
       "      <td>3.0</td>\n",
       "    </tr>\n",
       "    <tr>\n",
       "      <td>3</td>\n",
       "      <td>일하기 좋은 회사. 누구라도 잘 알고 있는 회사인만큼 실제로도 매우 만족스러운 회사...</td>\n",
       "      <td>4.0</td>\n",
       "    </tr>\n",
       "    <tr>\n",
       "      <td>4</td>\n",
       "      <td>무섭도록 빠른 속도로 성장중인 대한민국 스타트업의 상징!\\n회사도 성장하고 그 안에...</td>\n",
       "      <td>1.0</td>\n",
       "    </tr>\n",
       "  </tbody>\n",
       "</table>\n",
       "</div>"
      ],
      "text/plain": [
       "                                                text  Label\n",
       "0  무섭도록 빠른 속도로 성장중인 대한민국 스타트업의 상징!\\n회사도 성장하고 그 안에...    1.0\n",
       "1   체계적인 업무분담으로 자율성을 강조하며 사내분위기로 실무를 극대화할 수 있는 좋은 회사    2.0\n",
       "2                        개발자가 대우받으며 일할 수 있는곳, 워라밸 좋음    3.0\n",
       "3  일하기 좋은 회사. 누구라도 잘 알고 있는 회사인만큼 실제로도 매우 만족스러운 회사...    4.0\n",
       "4  무섭도록 빠른 속도로 성장중인 대한민국 스타트업의 상징!\\n회사도 성장하고 그 안에...    1.0"
      ]
     },
     "execution_count": 497,
     "metadata": {},
     "output_type": "execute_result"
    }
   ],
   "source": [
    "category1_comm = df1[['한줄평','Label']].rename(columns={'한줄평':'text'}).replace({'성장':1,'체계적':2,'워라벨':3,'사람':4})\n",
    "category1_comm.head()"
   ]
  },
  {
   "cell_type": "code",
   "execution_count": 498,
   "metadata": {},
   "outputs": [],
   "source": [
    "cond1 = (category1_comm['Label'].isnull())\n",
    "train_set = category1_comm.loc[~cond1]\n",
    "test_set = category1_comm.loc[cond1]"
   ]
  },
  {
   "cell_type": "code",
   "execution_count": 499,
   "metadata": {},
   "outputs": [
    {
     "name": "stdout",
     "output_type": "stream",
     "text": [
      "(57, 1)\n",
      "(95, 1)\n",
      "(57, 1)\n",
      "(95, 1)\n"
     ]
    }
   ],
   "source": [
    "X = train_set[['text']]\n",
    "Y = train_set[['Label']]\n",
    "\n",
    "X_test = test_set[['text']]\n",
    "Y_test = test_set[['Label']]\n",
    "\n",
    "print(X.shape)\n",
    "print(X_test.shape)\n",
    "print(Y.shape)\n",
    "print(Y_test.shape)"
   ]
  },
  {
   "cell_type": "markdown",
   "metadata": {},
   "source": [
    "**Text length**"
   ]
  },
  {
   "cell_type": "code",
   "execution_count": 500,
   "metadata": {},
   "outputs": [
    {
     "data": {
      "text/plain": [
       "count    152.000000\n",
       "mean      45.138158\n",
       "std       22.458512\n",
       "min       20.000000\n",
       "25%       30.000000\n",
       "50%       39.000000\n",
       "75%       52.000000\n",
       "max      177.000000\n",
       "Name: text, dtype: float64"
      ]
     },
     "execution_count": 500,
     "metadata": {},
     "output_type": "execute_result"
    }
   ],
   "source": [
    "Train_data_length = category1_comm['text'].apply(len)\n",
    "Train_data_length.describe()"
   ]
  },
  {
   "cell_type": "code",
   "execution_count": 501,
   "metadata": {},
   "outputs": [
    {
     "data": {
      "text/plain": [
       "<matplotlib.axes._subplots.AxesSubplot at 0x21b1357afc8>"
      ]
     },
     "execution_count": 501,
     "metadata": {},
     "output_type": "execute_result"
    },
    {
     "data": {
      "image/png": "[encoded data removed]",
      "text/plain": [
       "<Figure size 432x288 with 1 Axes>"
      ]
     },
     "metadata": {
      "needs_background": "light"
     },
     "output_type": "display_data"
    }
   ],
   "source": [
    "sns.distplot(Train_data_length)"
   ]
  },
  {
   "cell_type": "code",
   "execution_count": 502,
   "metadata": {},
   "outputs": [],
   "source": [
    "okt = Okt()"
   ]
  },
  {
   "cell_type": "code",
   "execution_count": 503,
   "metadata": {},
   "outputs": [],
   "source": [
    "# 불용어 또는 특수문자 제거 \n",
    "clean_word = [] \n",
    "for i in X['text']:\n",
    "    review_text = re.sub(\"[12?~3.,()''->\\n]\", \" \", i)\n",
    "    word_text = okt.morphs(review_text, stem=True)\n",
    "\n",
    "    if True: word_text = [token for token in word_text if not token in set(['를','을','에','도'])]\n",
    "        \n",
    "    clean_word.append(word_text)"
   ]
  },
  {
   "cell_type": "code",
   "execution_count": 504,
   "metadata": {},
   "outputs": [],
   "source": [
    "tokenizer = Tokenizer()\n",
    "tokenizer.fit_on_texts(clean_word)\n",
    "\n",
    "train_seq = tokenizer.texts_to_sequences(clean_word)\n",
    "\n",
    "# tokenizer.word_index"
   ]
  },
  {
   "cell_type": "code",
   "execution_count": 505,
   "metadata": {},
   "outputs": [],
   "source": [
    "# 불용어 또는 특수문자 제거 \n",
    "clean_word = [] \n",
    "for i in X_test['text']:\n",
    "    review_text = re.sub(\"[12?~3.,()''->\\n]\", \" \", i)\n",
    "    word_text = okt.morphs(review_text, stem=True)\n",
    "\n",
    "    if True: word_text = [token for token in word_text if not token in set(['를','을','에','도'])]\n",
    "        \n",
    "    clean_word.append(word_text)"
   ]
  },
  {
   "cell_type": "code",
   "execution_count": 506,
   "metadata": {},
   "outputs": [],
   "source": [
    "tokenizer = Tokenizer()\n",
    "tokenizer.fit_on_texts(clean_word)\n",
    "\n",
    "test_seq = tokenizer.texts_to_sequences(clean_word)\n",
    "\n",
    "# tokenizer.word_index"
   ]
  },
  {
   "cell_type": "code",
   "execution_count": 507,
   "metadata": {},
   "outputs": [],
   "source": [
    "# 특성으로 사용할 단어의 수\n",
    "max_features = 10000\n",
    "# 사용할 텍스트의 길이(가장 빈번한 max_features 개의 단어만 사용합니다)\n",
    "maxlen = 80\n",
    "\n",
    "# 리스트를 (samples, maxlen) 크기의 2D 정수 텐서로 변환합니다.\n",
    "x_train_vec = pad_sequences(train_seq, maxlen=80, padding='post')\n",
    "x_test_vec = pad_sequences(test_seq, maxlen=80, padding='post')"
   ]
  },
  {
   "cell_type": "code",
   "execution_count": 508,
   "metadata": {},
   "outputs": [],
   "source": [
    "Y_train = Y.astype(int)"
   ]
  },
  {
   "cell_type": "code",
   "execution_count": 509,
   "metadata": {
    "scrolled": false
   },
   "outputs": [
    {
     "name": "stdout",
     "output_type": "stream",
     "text": [
      "Model: \"sequential_56\"\n",
      "_________________________________________________________________\n",
      "Layer (type)                 Output Shape              Param #   \n",
      "=================================================================\n",
      "embedding_56 (Embedding)     (None, 80, 8)             80000     \n",
      "_________________________________________________________________\n",
      "conv1d_79 (Conv1D)           (None, 74, 32)            1824      \n",
      "_________________________________________________________________\n",
      "max_pooling1d_40 (MaxPooling (None, 14, 32)            0         \n",
      "_________________________________________________________________\n",
      "conv1d_80 (Conv1D)           (None, 8, 32)             7200      \n",
      "_________________________________________________________________\n",
      "global_max_pooling1d_40 (Glo (None, 32)                0         \n",
      "_________________________________________________________________\n",
      "dense_59 (Dense)             (None, 7)                 231       \n",
      "=================================================================\n",
      "Total params: 89,255\n",
      "Trainable params: 89,255\n",
      "Non-trainable params: 0\n",
      "_________________________________________________________________\n"
     ]
    },
    {
     "name": "stderr",
     "output_type": "stream",
     "text": [
      "C:\\Users\\ainbd\\AppData\\Roaming\\Python\\Python37\\site-packages\\tensorflow_core\\python\\framework\\indexed_slices.py:433: UserWarning: Converting sparse IndexedSlices to a dense Tensor of unknown shape. This may consume a large amount of memory.\n",
      "  \"Converting sparse IndexedSlices to a dense Tensor of unknown shape. \"\n"
     ]
    },
    {
     "name": "stdout",
     "output_type": "stream",
     "text": [
      "Train on 45 samples, validate on 12 samples\n",
      "Epoch 1/75\n",
      "45/45 [==============================] - 0s 2ms/step - loss: 1.9340 - acc: 0.3556 - val_loss: 1.9289 - val_acc: 0.3333\n",
      "Epoch 2/75\n",
      "45/45 [==============================] - 0s 133us/step - loss: 1.9169 - acc: 0.3556 - val_loss: 1.9168 - val_acc: 0.3333\n",
      "Epoch 3/75\n",
      "45/45 [==============================] - 0s 155us/step - loss: 1.9014 - acc: 0.3556 - val_loss: 1.9041 - val_acc: 0.3333\n",
      "Epoch 4/75\n",
      "45/45 [==============================] - 0s 132us/step - loss: 1.8851 - acc: 0.3556 - val_loss: 1.8893 - val_acc: 0.3333\n",
      "Epoch 5/75\n",
      "45/45 [==============================] - 0s 134us/step - loss: 1.8676 - acc: 0.3556 - val_loss: 1.8720 - val_acc: 0.3333\n",
      "Epoch 6/75\n",
      "45/45 [==============================] - 0s 155us/step - loss: 1.8459 - acc: 0.3556 - val_loss: 1.8520 - val_acc: 0.3333\n",
      "Epoch 7/75\n",
      "45/45 [==============================] - 0s 155us/step - loss: 1.8215 - acc: 0.3556 - val_loss: 1.8287 - val_acc: 0.3333\n",
      "Epoch 8/75\n",
      "45/45 [==============================] - 0s 155us/step - loss: 1.7949 - acc: 0.3556 - val_loss: 1.8022 - val_acc: 0.3333\n",
      "Epoch 9/75\n",
      "45/45 [==============================] - 0s 134us/step - loss: 1.7635 - acc: 0.3556 - val_loss: 1.7726 - val_acc: 0.3333\n",
      "Epoch 10/75\n",
      "45/45 [==============================] - 0s 155us/step - loss: 1.7294 - acc: 0.3556 - val_loss: 1.7393 - val_acc: 0.3333\n",
      "Epoch 11/75\n",
      "45/45 [==============================] - 0s 155us/step - loss: 1.6935 - acc: 0.3556 - val_loss: 1.7035 - val_acc: 0.3333\n",
      "Epoch 12/75\n",
      "45/45 [==============================] - 0s 132us/step - loss: 1.6545 - acc: 0.3556 - val_loss: 1.6664 - val_acc: 0.3333\n",
      "Epoch 13/75\n",
      "45/45 [==============================] - 0s 133us/step - loss: 1.6135 - acc: 0.3556 - val_loss: 1.6289 - val_acc: 0.3333\n",
      "Epoch 14/75\n",
      "45/45 [==============================] - 0s 132us/step - loss: 1.5748 - acc: 0.3556 - val_loss: 1.5930 - val_acc: 0.3333\n",
      "Epoch 15/75\n",
      "45/45 [==============================] - 0s 132us/step - loss: 1.5367 - acc: 0.3556 - val_loss: 1.5602 - val_acc: 0.3333\n",
      "Epoch 16/75\n",
      "45/45 [==============================] - 0s 155us/step - loss: 1.5036 - acc: 0.3556 - val_loss: 1.5310 - val_acc: 0.3333\n",
      "Epoch 17/75\n",
      "45/45 [==============================] - 0s 133us/step - loss: 1.4703 - acc: 0.3556 - val_loss: 1.5050 - val_acc: 0.3333\n",
      "Epoch 18/75\n",
      "45/45 [==============================] - 0s 133us/step - loss: 1.4462 - acc: 0.3556 - val_loss: 1.4826 - val_acc: 0.3333\n",
      "Epoch 19/75\n",
      "45/45 [==============================] - 0s 132us/step - loss: 1.4209 - acc: 0.3556 - val_loss: 1.4613 - val_acc: 0.3333\n",
      "Epoch 20/75\n",
      "45/45 [==============================] - 0s 133us/step - loss: 1.3993 - acc: 0.3556 - val_loss: 1.4417 - val_acc: 0.3333\n",
      "Epoch 21/75\n",
      "45/45 [==============================] - 0s 132us/step - loss: 1.3782 - acc: 0.3556 - val_loss: 1.4229 - val_acc: 0.3333\n",
      "Epoch 22/75\n",
      "45/45 [==============================] - 0s 133us/step - loss: 1.3628 - acc: 0.3556 - val_loss: 1.4059 - val_acc: 0.3333\n",
      "Epoch 23/75\n",
      "45/45 [==============================] - 0s 177us/step - loss: 1.3436 - acc: 0.3556 - val_loss: 1.3915 - val_acc: 0.3333\n",
      "Epoch 24/75\n",
      "45/45 [==============================] - 0s 133us/step - loss: 1.3259 - acc: 0.3556 - val_loss: 1.3798 - val_acc: 0.3333\n",
      "Epoch 25/75\n",
      "45/45 [==============================] - 0s 145us/step - loss: 1.3139 - acc: 0.3556 - val_loss: 1.3703 - val_acc: 0.3333\n",
      "Epoch 26/75\n",
      "45/45 [==============================] - 0s 133us/step - loss: 1.3007 - acc: 0.5111 - val_loss: 1.3633 - val_acc: 0.3333\n",
      "Epoch 27/75\n",
      "45/45 [==============================] - 0s 155us/step - loss: 1.2898 - acc: 0.6667 - val_loss: 1.3580 - val_acc: 0.3333\n",
      "Epoch 28/75\n",
      "45/45 [==============================] - 0s 133us/step - loss: 1.2818 - acc: 0.6222 - val_loss: 1.3542 - val_acc: 0.4167\n",
      "Epoch 29/75\n",
      "45/45 [==============================] - 0s 155us/step - loss: 1.2702 - acc: 0.6000 - val_loss: 1.3510 - val_acc: 0.3333\n",
      "Epoch 30/75\n",
      "45/45 [==============================] - 0s 155us/step - loss: 1.2621 - acc: 0.5778 - val_loss: 1.3477 - val_acc: 0.4167\n",
      "Epoch 31/75\n",
      "45/45 [==============================] - 0s 133us/step - loss: 1.2522 - acc: 0.6000 - val_loss: 1.3449 - val_acc: 0.3333\n",
      "Epoch 32/75\n",
      "45/45 [==============================] - 0s 133us/step - loss: 1.2377 - acc: 0.6444 - val_loss: 1.3435 - val_acc: 0.3333\n",
      "Epoch 33/75\n",
      "45/45 [==============================] - 0s 155us/step - loss: 1.2269 - acc: 0.6444 - val_loss: 1.3425 - val_acc: 0.3333\n",
      "Epoch 34/75\n",
      "45/45 [==============================] - 0s 155us/step - loss: 1.2143 - acc: 0.6444 - val_loss: 1.3413 - val_acc: 0.4167\n",
      "Epoch 35/75\n",
      "45/45 [==============================] - 0s 133us/step - loss: 1.2029 - acc: 0.6667 - val_loss: 1.3422 - val_acc: 0.4167\n",
      "Epoch 36/75\n",
      "45/45 [==============================] - 0s 133us/step - loss: 1.1893 - acc: 0.6444 - val_loss: 1.3430 - val_acc: 0.3333\n",
      "Epoch 37/75\n",
      "45/45 [==============================] - 0s 133us/step - loss: 1.1781 - acc: 0.6222 - val_loss: 1.3441 - val_acc: 0.3333\n",
      "Epoch 38/75\n",
      "45/45 [==============================] - 0s 155us/step - loss: 1.1661 - acc: 0.5556 - val_loss: 1.3450 - val_acc: 0.3333\n",
      "Epoch 39/75\n",
      "45/45 [==============================] - 0s 124us/step - loss: 1.1542 - acc: 0.5556 - val_loss: 1.3463 - val_acc: 0.3333\n",
      "Epoch 40/75\n",
      "45/45 [==============================] - 0s 133us/step - loss: 1.1425 - acc: 0.5556 - val_loss: 1.3443 - val_acc: 0.3333\n",
      "Epoch 41/75\n",
      "45/45 [==============================] - 0s 133us/step - loss: 1.1251 - acc: 0.5778 - val_loss: 1.3375 - val_acc: 0.4167\n",
      "Epoch 42/75\n",
      "45/45 [==============================] - 0s 155us/step - loss: 1.1101 - acc: 0.6222 - val_loss: 1.3301 - val_acc: 0.4167\n",
      "Epoch 43/75\n",
      "45/45 [==============================] - 0s 111us/step - loss: 1.0923 - acc: 0.6667 - val_loss: 1.3252 - val_acc: 0.4167\n",
      "Epoch 44/75\n",
      "45/45 [==============================] - 0s 155us/step - loss: 1.0766 - acc: 0.6667 - val_loss: 1.3223 - val_acc: 0.4167\n",
      "Epoch 45/75\n",
      "45/45 [==============================] - 0s 155us/step - loss: 1.0614 - acc: 0.6667 - val_loss: 1.3203 - val_acc: 0.3333\n",
      "Epoch 46/75\n",
      "45/45 [==============================] - 0s 155us/step - loss: 1.0469 - acc: 0.6667 - val_loss: 1.3198 - val_acc: 0.4167\n",
      "Epoch 47/75\n",
      "45/45 [==============================] - 0s 133us/step - loss: 1.0309 - acc: 0.6667 - val_loss: 1.3200 - val_acc: 0.4167\n",
      "Epoch 48/75\n",
      "45/45 [==============================] - 0s 133us/step - loss: 1.0093 - acc: 0.6667 - val_loss: 1.3202 - val_acc: 0.4167\n",
      "Epoch 49/75\n",
      "45/45 [==============================] - 0s 155us/step - loss: 0.9877 - acc: 0.6667 - val_loss: 1.3215 - val_acc: 0.4167\n",
      "Epoch 50/75\n",
      "45/45 [==============================] - 0s 133us/step - loss: 0.9657 - acc: 0.6667 - val_loss: 1.3231 - val_acc: 0.3333\n",
      "Epoch 51/75\n",
      "45/45 [==============================] - 0s 133us/step - loss: 0.9412 - acc: 0.6667 - val_loss: 1.3252 - val_acc: 0.4167\n",
      "Epoch 52/75\n",
      "45/45 [==============================] - 0s 133us/step - loss: 0.9204 - acc: 0.6667 - val_loss: 1.3267 - val_acc: 0.3333\n",
      "Epoch 53/75\n",
      "45/45 [==============================] - 0s 111us/step - loss: 0.9008 - acc: 0.6667 - val_loss: 1.3277 - val_acc: 0.4167\n",
      "Epoch 54/75\n",
      "45/45 [==============================] - 0s 133us/step - loss: 0.8781 - acc: 0.6667 - val_loss: 1.3283 - val_acc: 0.4167\n",
      "Epoch 55/75\n",
      "45/45 [==============================] - 0s 133us/step - loss: 0.8550 - acc: 0.6444 - val_loss: 1.3281 - val_acc: 0.3333\n",
      "Epoch 56/75\n",
      "45/45 [==============================] - 0s 133us/step - loss: 0.8323 - acc: 0.6889 - val_loss: 1.3298 - val_acc: 0.3333\n",
      "Epoch 57/75\n",
      "45/45 [==============================] - 0s 133us/step - loss: 0.8080 - acc: 0.6889 - val_loss: 1.3280 - val_acc: 0.3333\n",
      "Epoch 58/75\n",
      "45/45 [==============================] - 0s 155us/step - loss: 0.7821 - acc: 0.7556 - val_loss: 1.3249 - val_acc: 0.4167\n",
      "Epoch 59/75\n",
      "45/45 [==============================] - 0s 155us/step - loss: 0.7564 - acc: 0.7778 - val_loss: 1.3217 - val_acc: 0.4167\n",
      "Epoch 60/75\n",
      "45/45 [==============================] - 0s 133us/step - loss: 0.7310 - acc: 0.8444 - val_loss: 1.3182 - val_acc: 0.4167\n",
      "Epoch 61/75\n",
      "45/45 [==============================] - 0s 155us/step - loss: 0.7069 - acc: 0.8444 - val_loss: 1.3157 - val_acc: 0.4167\n",
      "Epoch 62/75\n",
      "45/45 [==============================] - 0s 133us/step - loss: 0.6829 - acc: 0.8889 - val_loss: 1.3149 - val_acc: 0.4167\n",
      "Epoch 63/75\n",
      "45/45 [==============================] - 0s 111us/step - loss: 0.6619 - acc: 0.8889 - val_loss: 1.3154 - val_acc: 0.4167\n",
      "Epoch 64/75\n",
      "45/45 [==============================] - 0s 133us/step - loss: 0.6367 - acc: 0.9111 - val_loss: 1.3182 - val_acc: 0.4167\n",
      "Epoch 65/75\n",
      "45/45 [==============================] - 0s 133us/step - loss: 0.6130 - acc: 0.9333 - val_loss: 1.3192 - val_acc: 0.4167\n",
      "Epoch 66/75\n",
      "45/45 [==============================] - 0s 155us/step - loss: 0.5882 - acc: 0.9111 - val_loss: 1.3197 - val_acc: 0.4167\n",
      "Epoch 67/75\n",
      "45/45 [==============================] - 0s 133us/step - loss: 0.5652 - acc: 0.9111 - val_loss: 1.3225 - val_acc: 0.4167\n",
      "Epoch 68/75\n",
      "45/45 [==============================] - 0s 144us/step - loss: 0.5439 - acc: 0.9111 - val_loss: 1.3287 - val_acc: 0.4167\n",
      "Epoch 69/75\n",
      "45/45 [==============================] - 0s 133us/step - loss: 0.5240 - acc: 0.9111 - val_loss: 1.3341 - val_acc: 0.4167\n",
      "Epoch 70/75\n",
      "45/45 [==============================] - 0s 155us/step - loss: 0.5039 - acc: 0.9111 - val_loss: 1.3371 - val_acc: 0.4167\n",
      "Epoch 71/75\n",
      "45/45 [==============================] - 0s 133us/step - loss: 0.4826 - acc: 0.9111 - val_loss: 1.3404 - val_acc: 0.4167\n",
      "Epoch 72/75\n",
      "45/45 [==============================] - 0s 133us/step - loss: 0.4622 - acc: 0.9556 - val_loss: 1.3421 - val_acc: 0.4167\n",
      "Epoch 73/75\n",
      "45/45 [==============================] - 0s 133us/step - loss: 0.4405 - acc: 0.9556 - val_loss: 1.3459 - val_acc: 0.4167\n",
      "Epoch 74/75\n",
      "45/45 [==============================] - 0s 133us/step - loss: 0.4204 - acc: 0.9556 - val_loss: 1.3513 - val_acc: 0.4167\n",
      "Epoch 75/75\n",
      "45/45 [==============================] - 0s 133us/step - loss: 0.4016 - acc: 0.9556 - val_loss: 1.3545 - val_acc: 0.4167\n"
     ]
    }
   ],
   "source": [
    "from keras.models import Sequential\n",
    "from keras import layers\n",
    "from keras.optimizers import RMSprop, SGD\n",
    "from keras.utils import to_categorical\n",
    "y_binary = to_categorical(Y_train)\n",
    "\n",
    "model = Sequential()\n",
    "model.add(Embedding(10000, 8, input_length=maxlen))\n",
    "model.add(layers.Conv1D(32, 7, activation='relu'))\n",
    "model.add(layers.MaxPooling1D(5))\n",
    "model.add(layers.Conv1D(32, 7, activation='relu'))\n",
    "model.add(layers.GlobalMaxPooling1D())\n",
    "model.add(Dense(7, activation='softmax'))\n",
    "\n",
    "model.summary()\n",
    "\n",
    "model.compile(optimizer='adam', loss='sparse_categorical_crossentropy', metrics=['acc'])\n",
    "\n",
    "history = model.fit(x_train_vec, Y_train,\n",
    "                    epochs=75,\n",
    "                    batch_size=32,\n",
    "                    validation_split=0.2)"
   ]
  },
  {
   "cell_type": "code",
   "execution_count": 510,
   "metadata": {},
   "outputs": [
    {
     "data": {
      "image/png": "[encoded data removed]",
      "text/plain": [
       "<Figure size 432x288 with 1 Axes>"
      ]
     },
     "metadata": {
      "needs_background": "light"
     },
     "output_type": "display_data"
    },
    {
     "data": {
      "image/png": "[encoded data removed]",
      "text/plain": [
       "<Figure size 432x288 with 1 Axes>"
      ]
     },
     "metadata": {
      "needs_background": "light"
     },
     "output_type": "display_data"
    }
   ],
   "source": [
    "acc = history.history['acc']\n",
    "val_acc = history.history['val_acc']\n",
    "loss = history.history['loss']\n",
    "val_loss = history.history['val_loss']\n",
    "\n",
    "epochs = range(1, len(acc) + 1)\n",
    "\n",
    "plt.plot(epochs, acc, 'bo', label='Training acc')\n",
    "plt.plot(epochs, val_acc, 'b', label='Validation acc')\n",
    "plt.title('Training and validation accuracy')\n",
    "plt.legend()\n",
    "\n",
    "plt.figure()\n",
    "\n",
    "plt.plot(epochs, loss, 'bo', label='Training loss')\n",
    "plt.plot(epochs, val_loss, 'b', label='Validation loss')\n",
    "plt.title('Training and validation loss')\n",
    "plt.legend()\n",
    "\n",
    "plt.show()"
   ]
  },
  {
   "cell_type": "markdown",
   "metadata": {},
   "source": [
    "**test Set 대입**"
   ]
  },
  {
   "cell_type": "code",
   "execution_count": 511,
   "metadata": {},
   "outputs": [
    {
     "data": {
      "text/html": [
       "<div>\n",
       "<style scoped>\n",
       "    .dataframe tbody tr th:only-of-type {\n",
       "        vertical-align: middle;\n",
       "    }\n",
       "\n",
       "    .dataframe tbody tr th {\n",
       "        vertical-align: top;\n",
       "    }\n",
       "\n",
       "    .dataframe thead th {\n",
       "        text-align: right;\n",
       "    }\n",
       "</style>\n",
       "<table border=\"1\" class=\"dataframe\">\n",
       "  <thead>\n",
       "    <tr style=\"text-align: right;\">\n",
       "      <th></th>\n",
       "      <th>text</th>\n",
       "      <th>label</th>\n",
       "    </tr>\n",
       "  </thead>\n",
       "  <tbody>\n",
       "    <tr>\n",
       "      <td>57</td>\n",
       "      <td>직원들을 위한 회사, 스타트업이기에 미숙한 부분도 있을 수 있지만 업계에서 좋은 문...</td>\n",
       "      <td>4</td>\n",
       "    </tr>\n",
       "    <tr>\n",
       "      <td>58</td>\n",
       "      <td>개발자가 대우받으며 일할 수 있는 환경이며, 자유롭게 의견을 건의할 수 있다</td>\n",
       "      <td>4</td>\n",
       "    </tr>\n",
       "    <tr>\n",
       "      <td>59</td>\n",
       "      <td>소중한 경험이지만 아직회사가 작다는 느낌이 큽니다ㅠㅠ</td>\n",
       "      <td>1</td>\n",
       "    </tr>\n",
       "    <tr>\n",
       "      <td>60</td>\n",
       "      <td>개발자 우대하는 분위기인듯하고 그래서 다른 직군이 개발자만 우대하는 분위기를 조금 ...</td>\n",
       "      <td>4</td>\n",
       "    </tr>\n",
       "    <tr>\n",
       "      <td>61</td>\n",
       "      <td>다양한 개발환경과 함께 일하는 동료들의 수준이 높고 배울 수 있는 것이 많다.</td>\n",
       "      <td>4</td>\n",
       "    </tr>\n",
       "    <tr>\n",
       "      <td>...</td>\n",
       "      <td>...</td>\n",
       "      <td>...</td>\n",
       "    </tr>\n",
       "    <tr>\n",
       "      <td>147</td>\n",
       "      <td>조직문화가 최대 강점! 구성원 모두가 일도 잘하지만 인격적으로도 우수하신 분들이 많음</td>\n",
       "      <td>4</td>\n",
       "    </tr>\n",
       "    <tr>\n",
       "      <td>148</td>\n",
       "      <td>신입직으로는 사실 불행일 수도 있습니다. 이런 회사가 흔치 않으니까요.</td>\n",
       "      <td>1</td>\n",
       "    </tr>\n",
       "    <tr>\n",
       "      <td>149</td>\n",
       "      <td>자유롭고 편안한 분위기 미래가 보이는 곳</td>\n",
       "      <td>1</td>\n",
       "    </tr>\n",
       "    <tr>\n",
       "      <td>150</td>\n",
       "      <td>BEST\\nIT업계치고 야근없는 회사가 있을까. 그래도 매우 만족하는 이유는 회사와...</td>\n",
       "      <td>4</td>\n",
       "    </tr>\n",
       "    <tr>\n",
       "      <td>151</td>\n",
       "      <td>자신이 하는 일에 대한 성과를 바로 볼 수있고 진짜 대단한 분들 아래에서 일을 배울...</td>\n",
       "      <td>3</td>\n",
       "    </tr>\n",
       "  </tbody>\n",
       "</table>\n",
       "<p>95 rows × 2 columns</p>\n",
       "</div>"
      ],
      "text/plain": [
       "                                                  text  label\n",
       "57   직원들을 위한 회사, 스타트업이기에 미숙한 부분도 있을 수 있지만 업계에서 좋은 문...      4\n",
       "58          개발자가 대우받으며 일할 수 있는 환경이며, 자유롭게 의견을 건의할 수 있다      4\n",
       "59                       소중한 경험이지만 아직회사가 작다는 느낌이 큽니다ㅠㅠ      1\n",
       "60   개발자 우대하는 분위기인듯하고 그래서 다른 직군이 개발자만 우대하는 분위기를 조금 ...      4\n",
       "61         다양한 개발환경과 함께 일하는 동료들의 수준이 높고 배울 수 있는 것이 많다.      4\n",
       "..                                                 ...    ...\n",
       "147    조직문화가 최대 강점! 구성원 모두가 일도 잘하지만 인격적으로도 우수하신 분들이 많음      4\n",
       "148            신입직으로는 사실 불행일 수도 있습니다. 이런 회사가 흔치 않으니까요.      1\n",
       "149                             자유롭고 편안한 분위기 미래가 보이는 곳      1\n",
       "150  BEST\\nIT업계치고 야근없는 회사가 있을까. 그래도 매우 만족하는 이유는 회사와...      4\n",
       "151  자신이 하는 일에 대한 성과를 바로 볼 수있고 진짜 대단한 분들 아래에서 일을 배울...      3\n",
       "\n",
       "[95 rows x 2 columns]"
      ]
     },
     "execution_count": 511,
     "metadata": {},
     "output_type": "execute_result"
    }
   ],
   "source": [
    "X_test['label']= model.predict_classes(x_test_vec, batch_size=32)\n",
    "X_test"
   ]
  },
  {
   "cell_type": "code",
   "execution_count": 512,
   "metadata": {
    "scrolled": true
   },
   "outputs": [],
   "source": [
    "X_test['Label'] = X_test['label'].replace({1:'성장',2:'체계적',3:'워라벨',4:'사람'})"
   ]
  },
  {
   "cell_type": "code",
   "execution_count": 513,
   "metadata": {},
   "outputs": [
    {
     "data": {
      "text/plain": [
       "<matplotlib.axes._subplots.AxesSubplot at 0x21b15cc9988>"
      ]
     },
     "execution_count": 513,
     "metadata": {},
     "output_type": "execute_result"
    },
    {
     "data": {
      "image/png": "[encoded data removed]",
      "text/plain": [
       "<Figure size 720x360 with 1 Axes>"
      ]
     },
     "metadata": {
      "needs_background": "light"
     },
     "output_type": "display_data"
    }
   ],
   "source": [
    "plt.figure(figsize=[10,5])\n",
    "sns.countplot(data=X_test, x='Label', order=['사람','성장','체계적','워라벨'])"
   ]
  },
  {
   "cell_type": "code",
   "execution_count": 514,
   "metadata": {},
   "outputs": [],
   "source": [
    "X_train['label'] = Y_train"
   ]
  },
  {
   "cell_type": "code",
   "execution_count": 515,
   "metadata": {},
   "outputs": [],
   "source": [
    "X_train['Label'] = X_train['label'].replace({1:'성장',2:'체계적',3:'워라벨',4:'사람'})"
   ]
  },
  {
   "cell_type": "code",
   "execution_count": 516,
   "metadata": {},
   "outputs": [
    {
     "data": {
      "text/plain": [
       "<matplotlib.axes._subplots.AxesSubplot at 0x21b15d1ed08>"
      ]
     },
     "execution_count": 516,
     "metadata": {},
     "output_type": "execute_result"
    },
    {
     "data": {
      "image/png": "[encoded data removed]",
      "text/plain": [
       "<Figure size 720x360 with 1 Axes>"
      ]
     },
     "metadata": {
      "needs_background": "light"
     },
     "output_type": "display_data"
    }
   ],
   "source": [
    "data = pd.concat([X_train,X_test])\n",
    "plt.figure(figsize=[10,5])\n",
    "sns.countplot(data=data, x='Label', order=['사람','성장','체계적','워라벨'])"
   ]
  },
  {
   "cell_type": "markdown",
   "metadata": {},
   "source": [
    "**기업장점데이터 넣기**"
   ]
  },
  {
   "cell_type": "code",
   "execution_count": 517,
   "metadata": {},
   "outputs": [],
   "source": [
    "X_test2 = pd.DataFrame()\n",
    "X_test2['text'] = df1['기업장점']"
   ]
  },
  {
   "cell_type": "code",
   "execution_count": 518,
   "metadata": {},
   "outputs": [],
   "source": [
    "# 불용어 또는 특수문자 제거 \n",
    "clean_word = [] \n",
    "for i in X_test2['text']:\n",
    "    review_text = re.sub(\"[12?~3.,()''->\\n]\", \" \", i)\n",
    "    word_text = okt.morphs(review_text, stem=True)\n",
    "\n",
    "    if True: word_text = [token for token in word_text if not token in set(['를','을','에','도'])]\n",
    "        \n",
    "    clean_word.append(word_text)\n",
    "\n",
    "tokenizer = Tokenizer()\n",
    "tokenizer.fit_on_texts(clean_word)\n",
    "\n",
    "test_seq = tokenizer.texts_to_sequences(clean_word)\n",
    "\n",
    "# tokenizer.word_index\n",
    "\n",
    "x_test_vec = pad_sequences(test_seq, maxlen=80, padding='post')"
   ]
  },
  {
   "cell_type": "code",
   "execution_count": 519,
   "metadata": {},
   "outputs": [],
   "source": [
    "X_test2['label']= model.predict_classes(x_test_vec, batch_size=32)\n",
    "X_test2['Label'] = X_test2['label'].replace({1:'성장',2:'체계적',3:'워라벨',4:'사람'})"
   ]
  },
  {
   "cell_type": "code",
   "execution_count": 520,
   "metadata": {},
   "outputs": [
    {
     "data": {
      "text/plain": [
       "<matplotlib.axes._subplots.AxesSubplot at 0x21b15d5fb08>"
      ]
     },
     "execution_count": 520,
     "metadata": {},
     "output_type": "execute_result"
    },
    {
     "data": {
      "image/png": "[encoded data removed]",
      "text/plain": [
       "<Figure size 720x360 with 1 Axes>"
      ]
     },
     "metadata": {
      "needs_background": "light"
     },
     "output_type": "display_data"
    }
   ],
   "source": [
    "plt.figure(figsize=[10,5])\n",
    "sns.countplot(data=X_test2, x='Label', order=['사람','성장','체계적','워라벨'])"
   ]
  },
  {
   "cell_type": "markdown",
   "metadata": {},
   "source": [
    "**기업 단점 데이터 넣기**"
   ]
  },
  {
   "cell_type": "code",
   "execution_count": 521,
   "metadata": {},
   "outputs": [],
   "source": [
    "X_test3 = pd.DataFrame()\n",
    "X_test3['text'] = df1['기업단점']"
   ]
  },
  {
   "cell_type": "code",
   "execution_count": 522,
   "metadata": {},
   "outputs": [],
   "source": [
    "# 불용어 또는 특수문자 제거 \n",
    "clean_word = [] \n",
    "for i in X_test3['text']:\n",
    "    review_text = re.sub(\"[12?~3.,()''->\\n]\", \" \", i)\n",
    "    word_text = okt.morphs(review_text, stem=True)\n",
    "\n",
    "    if True: word_text = [token for token in word_text if not token in set(['를','을','에','도'])]\n",
    "        \n",
    "    clean_word.append(word_text)\n",
    "\n",
    "tokenizer = Tokenizer()\n",
    "tokenizer.fit_on_texts(clean_word)\n",
    "\n",
    "test_seq = tokenizer.texts_to_sequences(clean_word)\n",
    "\n",
    "# tokenizer.word_index\n",
    "\n",
    "x_test_vec = pad_sequences(test_seq, maxlen=80, padding='post')"
   ]
  },
  {
   "cell_type": "code",
   "execution_count": 523,
   "metadata": {},
   "outputs": [],
   "source": [
    "X_test3['label']= model.predict_classes(x_test_vec, batch_size=32)\n",
    "X_test3['Label'] = X_test3['label'].replace({1:'성장',2:'체계적',3:'워라벨',4:'사람'})"
   ]
  },
  {
   "cell_type": "code",
   "execution_count": 524,
   "metadata": {},
   "outputs": [
    {
     "data": {
      "text/plain": [
       "<matplotlib.axes._subplots.AxesSubplot at 0x21b15d9ac08>"
      ]
     },
     "execution_count": 524,
     "metadata": {},
     "output_type": "execute_result"
    },
    {
     "data": {
      "image/png": "[encoded data removed]",
      "text/plain": [
       "<Figure size 720x360 with 1 Axes>"
      ]
     },
     "metadata": {
      "needs_background": "light"
     },
     "output_type": "display_data"
    }
   ],
   "source": [
    "plt.figure(figsize=[10,5])\n",
    "sns.countplot(data=X_test3, x='Label', order=['사람','성장','체계적','워라벨'])"
   ]
  },
  {
   "cell_type": "markdown",
   "metadata": {},
   "source": [
    "**바라는 점 넣기**"
   ]
  },
  {
   "cell_type": "code",
   "execution_count": 525,
   "metadata": {},
   "outputs": [],
   "source": [
    "X_test4 = pd.DataFrame()\n",
    "X_test4['text'] = df1['바라는점']"
   ]
  },
  {
   "cell_type": "code",
   "execution_count": 526,
   "metadata": {},
   "outputs": [],
   "source": [
    "# 불용어 또는 특수문자 제거 \n",
    "clean_word = [] \n",
    "for i in X_test4['text']:\n",
    "    review_text = re.sub(\"[12?~3.,()''->\\n]\", \" \", i)\n",
    "    word_text = okt.morphs(review_text, stem=True)\n",
    "\n",
    "    if True: word_text = [token for token in word_text if not token in set(['를','을','에','도'])]\n",
    "        \n",
    "    clean_word.append(word_text)\n",
    "\n",
    "tokenizer = Tokenizer()\n",
    "tokenizer.fit_on_texts(clean_word)\n",
    "\n",
    "test_seq = tokenizer.texts_to_sequences(clean_word)\n",
    "\n",
    "# tokenizer.word_index\n",
    "\n",
    "x_test_vec = pad_sequences(test_seq, maxlen=80, padding='post')"
   ]
  },
  {
   "cell_type": "code",
   "execution_count": 527,
   "metadata": {},
   "outputs": [],
   "source": [
    "X_test4['label']= model.predict_classes(x_test_vec, batch_size=32)\n",
    "X_test4['Label'] = X_test4['label'].replace({1:'성장',2:'체계적',3:'워라벨',4:'사람'})"
   ]
  },
  {
   "cell_type": "code",
   "execution_count": 528,
   "metadata": {},
   "outputs": [
    {
     "data": {
      "text/plain": [
       "<matplotlib.axes._subplots.AxesSubplot at 0x21b15e9d548>"
      ]
     },
     "execution_count": 528,
     "metadata": {},
     "output_type": "execute_result"
    },
    {
     "data": {
      "image/png": "[encoded data removed]",
      "text/plain": [
       "<Figure size 720x360 with 1 Axes>"
      ]
     },
     "metadata": {
      "needs_background": "light"
     },
     "output_type": "display_data"
    }
   ],
   "source": [
    "plt.figure(figsize=[10,5])\n",
    "sns.countplot(data=X_test4, x='Label', order=['사람','성장','체계적','워라벨'])"
   ]
  }
 ],
 "metadata": {
  "hide_input": false,
  "kernelspec": {
   "display_name": "Python 3",
   "language": "python",
   "name": "python3"
  },
  "language_info": {
   "codemirror_mode": {
    "name": "ipython",
    "version": 3
   },
   "file_extension": ".py",
   "mimetype": "text/x-python",
   "name": "python",
   "nbconvert_exporter": "python",
   "pygments_lexer": "ipython3",
   "version": "3.7.3"
  },
  "toc": {
   "base_numbering": 1,
   "nav_menu": {},
   "number_sections": true,
   "sideBar": true,
   "skip_h1_title": false,
   "title_cell": "Table of Contents",
   "title_sidebar": "Contents",
   "toc_cell": false,
   "toc_position": {},
   "toc_section_display": true,
   "toc_window_display": false
  },
  "varInspector": {
   "cols": {
    "lenName": 16,
    "lenType": 16,
    "lenVar": 40
   },
   "kernels_config": {
    "python": {
     "delete_cmd_postfix": "",
     "delete_cmd_prefix": "del ",
     "library": "var_list.py",
     "varRefreshCmd": "print(var_dic_list())"
    },
    "r": {
     "delete_cmd_postfix": ") ",
     "delete_cmd_prefix": "rm(",
     "library": "var_list.r",
     "varRefreshCmd": "cat(var_dic_list()) "
    }
   },
   "types_to_exclude": [
    "module",
    "function",
    "builtin_function_or_method",
    "instance",
    "_Feature"
   ],
   "window_display": false
  }
 },
 "nbformat": 4,
 "nbformat_minor": 2
}
