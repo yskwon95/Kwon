{
 "cells": [
  {
   "cell_type": "markdown",
   "metadata": {},
   "source": [
    "# Crawling & Scraping\n",
    "\n",
    "**Crawling : 웹 페이지의 하이퍼링크를 돌아다니며, 웹 페이지를 다운로드 하는 작업**\n",
    "\n",
    "**Scraping : 다운로드한 웹 페이지에서 필요한 정보를 추출하는 작업**\n",
    "\n",
    "\n",
    "\n",
    "1. Python에서 Crawling \n",
    "\n",
    "    - 언어적 특성 : 언어가 매우 쉬우며, 라이브러리를 활용할 수 있어, 바로 실무적인 사용이 가능하다. \n",
    "    - 라이브러리 활용도 : 객체지향적 특성을 가진 파이썬의 클래스를 이용해, 라이브러리의 기능을 극대화 하여 사용할 수 있다. (함수가 목록형이 아닌 독립적 객체로 사용이 가능한 형태) \n",
    "    - 스크레핑 후처리 편리성 : 수집한 데이터를 쉽게 정형데이터 형태로 변환이 가능하다. (Pandas / Numpy 라이브러리 활용) \n",
    "    \n",
    "\n",
    "2. Crawling에 사용되는 주요 Library\n",
    "\n",
    "    - Beautiful Soup : HTML & XML 문서 분석 라이브러리\n",
    "    - Selenium : Application Testing 라이브러리 \n",
    "    - Scrapy : API 및 클래스를 이용한 웹 데이터 수집 라이브러리 "
   ]
  },
  {
   "cell_type": "markdown",
   "metadata": {},
   "source": [
    "# Selenium "
   ]
  },
  {
   "cell_type": "markdown",
   "metadata": {},
   "source": [
    "## MacOS Install\n",
    "\n",
    "- 크롬 드라이버 다운로드\n",
    "    - 크롬 브라우져를 사용하기 위해 크롬 드라이버를 다운로드 \n",
    "    - 본인의 크롬 브라우져 버전에 맞는 드라이버를 다운로드\n",
    "        - 크롬 브라우져의 설정 -> 도움말 -> Chrome 정보를 확인\n",
    "    - https://sites.google.com/a/chromium.org/chromedriver/downloads\n",
    "\n",
    "- 경로 변경\n",
    "    - 크롬 드라이버를 글로벌하게 사용하기 위해서 경로를 변경해 줍니다. \n",
    "    - 경로를 수정하지 않으면 코드에서 크롬드라이버 경로를 항상 작성해 줘야 합니다.\n",
    "    - `$ mv ~/Download/chromedriver /usr/local/bin`\n",
    "\n",
    "- 셀레니움 파이썬 패키지 설치\n",
    "    - `$ sudo pip install selenium`\n",
    "    - `$ conda install -c conda-forge selenium`"
   ]
  },
  {
   "cell_type": "markdown",
   "metadata": {},
   "source": [
    "## Windows Install\n",
    "\n",
    "\n",
    "- 크롬 드라이버 다운로드\n",
    "    - 크롬 브라우져를 사용하기 위해 크롬 드라이버를 다운로드\n",
    "    - https://sites.google.com/a/chromium.org/chromedriver/downloads\n",
    "    - https://chromedriver.storage.googleapis.com/index.html?path=2.42/\n",
    "\n",
    "\n",
    "- 환경변수 추가\n",
    "    - 내컴퓨터 오른쪽 클릭 -> 속성 -> 고급시스템설정 -> 환경변수 -> 시스템변수의 Path 더블클릭 -> chromedriver path를\n",
    "추가\n",
    "    - 예: C:₩Users₩(사용자계정이름)₩chromdriver 으로 추가\n",
    "    - 환경변수 추가 후에도 드라이버가 실행되지 않는 경우에는 아래의 두가지 방법의 사용이 가능\n",
    "        - 크롬 드라이버 파일을 동일한 디렉토리에 위치해서 실행\n",
    "        - 크롬 드라이버를 호출하는 함수에 아규먼트로 크롬 드라이버의 파일경로를 추가\n",
    " \n",
    " \n",
    "- 셀레니움 파이썬 패키지 설치\n",
    "    - `$ conda install -c conda-forge selenium`\n",
    "    또는\n",
    "    - `$ pip install --user selenium`"
   ]
  },
  {
   "cell_type": "markdown",
   "metadata": {},
   "source": [
    "**기본 사용법**"
   ]
  },
  {
   "cell_type": "code",
   "execution_count": 1,
   "metadata": {},
   "outputs": [],
   "source": [
    "from selenium import webdriver"
   ]
  },
  {
   "cell_type": "code",
   "execution_count": 2,
   "metadata": {},
   "outputs": [],
   "source": [
    "# 드라이버를 실행하여, 웹페이지 열기\n",
    "driver = webdriver.Chrome('chromedriver')"
   ]
  },
  {
   "cell_type": "code",
   "execution_count": 3,
   "metadata": {},
   "outputs": [],
   "source": [
    "# 드라이버 종료하여 웹페이지 끄기 \n",
    "driver.quit()"
   ]
  },
  {
   "cell_type": "markdown",
   "metadata": {},
   "source": [
    "## 예제1. 이마트 물품데이터 크롤링 "
   ]
  },
  {
   "cell_type": "markdown",
   "metadata": {},
   "source": [
    "**웹사이트 접속**"
   ]
  },
  {
   "cell_type": "code",
   "execution_count": 4,
   "metadata": {},
   "outputs": [],
   "source": [
    "driver = webdriver.Chrome('chromedriver')\n",
    "driver.get('http://emart.ssg.com/')"
   ]
  },
  {
   "cell_type": "code",
   "execution_count": 5,
   "metadata": {},
   "outputs": [],
   "source": [
    "driver.find_element_by_xpath('//*[@id=\"e_gnb\"]/div/div[1]/div[2]/ul[1]/li[5]/a').click()"
   ]
  },
  {
   "cell_type": "code",
   "execution_count": 6,
   "metadata": {},
   "outputs": [],
   "source": [
    "# (가로, 세로) - 800 * 600 픽셀의 사이즈로 오픈 \n",
    "driver.set_window_size(800, 600)"
   ]
  },
  {
   "cell_type": "code",
   "execution_count": 7,
   "metadata": {},
   "outputs": [
    {
     "name": "stderr",
     "output_type": "stream",
     "text": [
      "C:\\ProgramData\\Anaconda3\\lib\\site-packages\\ipykernel_launcher.py:5: DeprecationWarning: use options instead of chrome_options\n",
      "  \"\"\"\n"
     ]
    }
   ],
   "source": [
    "# 전체화면으로 전환 하여 실행 \n",
    "options = webdriver.chrome.options.Options()\n",
    "options.add_argument('--start-fullscreen')\n",
    "\n",
    "driver = webdriver.Chrome('chromedriver', chrome_options=options)\n",
    "driver.get('http://emart.ssg.com/')"
   ]
  },
  {
   "cell_type": "code",
   "execution_count": 8,
   "metadata": {},
   "outputs": [],
   "source": [
    "# 좌측 메뉴에 과일 항목 추출하기 \n",
    "driver.find_element_by_xpath('//*[@id=\"e_gnb\"]/div/div[1]/div[2]/ul[1]/li[1]/a').click()"
   ]
  },
  {
   "cell_type": "markdown",
   "metadata": {},
   "source": [
    "**데이터 추출해 변수로 선언하기**"
   ]
  },
  {
   "cell_type": "code",
   "execution_count": 9,
   "metadata": {},
   "outputs": [],
   "source": [
    "# 데이터 추출하기 \n",
    "product_name = driver.find_element_by_xpath('//*[@id=\"ty_thmb_view\"]/ul/li[1]/div[2]/div[2]/div/a/em[1]')\n",
    "product_price = driver.find_element_by_xpath('//*[@id=\"ty_thmb_view\"]/ul/li[1]/div[2]/div[3]/div/em')"
   ]
  },
  {
   "cell_type": "code",
   "execution_count": 10,
   "metadata": {},
   "outputs": [
    {
     "data": {
      "text/plain": [
       "'[콜롬비아산] 바나밸리 프레쉬 바나나 1송이'"
      ]
     },
     "execution_count": 10,
     "metadata": {},
     "output_type": "execute_result"
    }
   ],
   "source": [
    "# 제품 이름 가져오기 \n",
    "product_name.text"
   ]
  },
  {
   "cell_type": "code",
   "execution_count": 11,
   "metadata": {},
   "outputs": [
    {
     "data": {
      "text/plain": [
       "'2,980'"
      ]
     },
     "execution_count": 11,
     "metadata": {},
     "output_type": "execute_result"
    }
   ],
   "source": [
    "# 제품 가격 가져오기 \n",
    "product_price.text"
   ]
  },
  {
   "cell_type": "markdown",
   "metadata": {},
   "source": [
    "**반복적으로 구성되어 있는 여러 항목 추출 하기**"
   ]
  },
  {
   "cell_type": "code",
   "execution_count": 12,
   "metadata": {},
   "outputs": [
    {
     "data": {
      "text/plain": [
       "'//*[@id=\"ty_thmb_view\"]/ul/li[3]/div[2]/div[2]/div/a/em[1]'"
      ]
     },
     "execution_count": 12,
     "metadata": {},
     "output_type": "execute_result"
    }
   ],
   "source": [
    "'//*[@id=\"ty_thmb_view\"]/ul/li[1]/div[2]/div[2]/div/a/em[1]'\n",
    "'//*[@id=\"ty_thmb_view\"]/ul/li[3]/div[2]/div[2]/div/a/em[1]'"
   ]
  },
  {
   "cell_type": "code",
   "execution_count": 13,
   "metadata": {},
   "outputs": [],
   "source": [
    "product_name_list = [ ]\n",
    "for i in range(1,80+1):\n",
    "    product_name = driver.find_element_by_xpath('//*[@id=\"ty_thmb_view\"]/ul/li['+str(i)+']/div[2]/div[2]/div/a/em[1]')\n",
    "    product_name_list.append(product_name.text)"
   ]
  },
  {
   "cell_type": "code",
   "execution_count": 14,
   "metadata": {},
   "outputs": [
    {
     "data": {
      "text/plain": [
       "['[콜롬비아산] 바나밸리 프레쉬 바나나 1송이',\n",
       " '[국내산] 초록사과 5~8입/봉',\n",
       " '[국내산] 당도선별 하우스감귤 1.4kg/팩',\n",
       " '[필리핀산] Dole 스위티오바나나 1.3kg 내외',\n",
       " '[국내산] 친환경 대추방울토마토 750g/팩',\n",
       " '[국내산] 무농약 토마토 1kg/봉',\n",
       " '[뉴질랜드산] 제스프리 썬골드키위 7~14입/팩',\n",
       " '[국내산] 990 세척사과/봉',\n",
       " '[국내산] 산(山) 수박 9kg미만',\n",
       " '[국산의 힘] 무지개 방울토마토 900g/팩',\n",
       " '[국내산] 당찬사과 4-7입/봉',\n",
       " '[국내산] 완숙토마토 6~8입/팩',\n",
       " '[국내산] 아삭 복숭아 7~12입/박스',\n",
       " '[미국산] 냉동 블루베리 1.5kg/봉',\n",
       " '[국내산] 친환경 방울토마토 기획 500g*2입/팩',\n",
       " '[국내산] 산(山) 수박 10kg이상',\n",
       " '[국내산] 하루과일 배 1입',\n",
       " '[국내산] 지리산 흥부골 포도 1.5kg/박스',\n",
       " '[필리핀산] 델몬트 컷파인애플 540g/팩',\n",
       " '[페루산] 냉동 애플 망고 300g',\n",
       " '[페루산] 냉동 애플망고 2.27kg',\n",
       " '[국내산] 친환경 토마토 3kg/박스',\n",
       " '[국내산] 천도복숭아 2kg/팩',\n",
       " '[국내산] 성주참외 3~8입/봉',\n",
       " '[미국산] 씨없는 청포도 900g/팩',\n",
       " '[국내산] 산(山) 수박 10kg미만',\n",
       " '[국내산] 거봉 2~4송이/박스',\n",
       " '[미국산] 문(Moon)체리 100g',\n",
       " '[콜롬비아산] 유기농 바나나 1.2kg 내외',\n",
       " '[국내산] 샤인머스켓 500g/팩',\n",
       " '[국내산] 무농약 블루베리 200g/팩',\n",
       " '저탄소 아삭 복숭아 5~7입/팩',\n",
       " '[국내산] 부드러운 복숭아 5~12입/박스',\n",
       " '[콜롬비아산] 하루하나 바나나 6개/팩',\n",
       " '[에콰도르산] 하루과일 바나나 2입/봉',\n",
       " '[페루산] 아보카도 4입/망',\n",
       " '[미국산] 냉동 블루베리 1.13kg/팩',\n",
       " '[국내산] 두번 엄선한 국산 냉동딸기1kg x 2봉',\n",
       " '[국내산] 프리미엄 탑감귤 1kg',\n",
       " '[국내산] 깜빠리 토마토 1kg/팩',\n",
       " '[미국산] 레몬 9~15입/봉',\n",
       " '[칠레산] 레몬 1개',\n",
       " '[국내산] 하루과일 토마토/봉',\n",
       " '[뉴질랜드산] 제스프리 썬골드키위 2입/봉',\n",
       " '[미국산] 씨없는 혼합포도 1.36kg/팩',\n",
       " '[국내산] 왕 천도복숭아 6입/팩',\n",
       " '크리스피 야채믹스칩 180g',\n",
       " '건크랜베리 500g',\n",
       " '[베트남산] 스위트망고 1.3kg',\n",
       " '[미국산] 허니듀 1통 (특대)',\n",
       " '[국내산] 방울토마토 1kg/팩',\n",
       " '[국내산] 청정강원 쿠마토 1.2kg/팩',\n",
       " '[국내산] 맑은청 대추 방울 토마토 1kg/팩',\n",
       " '[국내산] 천도복숭아 1개 (특)',\n",
       " '유기농 테일러푸룬 건자두 210g',\n",
       " '저탄소 인증 천도복숭아 1.5kg/팩',\n",
       " '요리하기 좋은 반쪽 아보카도 1kg(500g*2개입)',\n",
       " '[필리핀산] Dole 컷파인애플 540g',\n",
       " '[국내산] 대추방울토마토 1kg/팩',\n",
       " '[국내산] 달짝이 토마토 750g/팩',\n",
       " '저탄소 인증 초록사과 4~7입/봉',\n",
       " '[미국산] 오레곤 블루베리 510g/팩',\n",
       " '[국산의 힘] 원황배 4~7입/박스',\n",
       " '[국내산] 친환경 대추방울토마토 기획 2kg/박스',\n",
       " '다바오 바나나칩 450g',\n",
       " '[국내산] 건대추 (200g)',\n",
       " '[뉴질랜드산] 유기농 제스프리 썬골드키위/팩',\n",
       " '[피코크] 딸기 그대로 10g',\n",
       " '[미국산] 생블루베리 310g/팩',\n",
       " '[국내산] 친환경 칼라방울토마토 500g/팩',\n",
       " '[국내산] 그린 머스크메론 1통 (1.5kg 이상)',\n",
       " '[국내산] 나 혼자 수박',\n",
       " '[국내산] 강원 찰토마토 7~10입/팩',\n",
       " '[필리핀산]델몬트 파인애플스틱 6입/팩',\n",
       " '두번 엄선한 오색베리 500g',\n",
       " '땅끝 해남에서 온 고구마말랭이 180g (60g*3개입)',\n",
       " '냉동블루베리+망고 기획세트',\n",
       " '[뉴질랜드산] 제스프리그린키위/팩',\n",
       " '[칠레산] 냉동 트리플베리 300g',\n",
       " '[미국산] 뿌려먹는 레몬 5입/팩']"
      ]
     },
     "execution_count": 14,
     "metadata": {},
     "output_type": "execute_result"
    }
   ],
   "source": [
    "product_name_list"
   ]
  },
  {
   "cell_type": "markdown",
   "metadata": {},
   "source": [
    "**이미지 데이터 가져오기**"
   ]
  },
  {
   "cell_type": "code",
   "execution_count": 15,
   "metadata": {
    "scrolled": true
   },
   "outputs": [
    {
     "data": {
      "text/plain": [
       "'http://item.ssgcdn.com/53/94/67/item/1000048679453_i1_290.jpg'"
      ]
     },
     "execution_count": 15,
     "metadata": {},
     "output_type": "execute_result"
    }
   ],
   "source": [
    "# 이미지 URL 가져오기 \n",
    "img = driver.find_element_by_xpath('//*[@id=\"ty_thmb_view\"]/ul/li[1]/div[1]/div[2]/a/img[1]')\n",
    "img.get_attribute('src')"
   ]
  },
  {
   "cell_type": "code",
   "execution_count": 16,
   "metadata": {},
   "outputs": [
    {
     "data": {
      "text/plain": [
       "('img001.png', <http.client.HTTPMessage at 0x260dc3af5c8>)"
      ]
     },
     "execution_count": 16,
     "metadata": {},
     "output_type": "execute_result"
    }
   ],
   "source": [
    "# 이미지 데이터를 현재 작업공간에 저장 \n",
    "import urllib.request\n",
    "img1 = img.get_attribute('src')\n",
    "urllib.request.urlretrieve(img1, 'image_data/img001.png')"
   ]
  },
  {
   "cell_type": "code",
   "execution_count": 17,
   "metadata": {},
   "outputs": [],
   "source": [
    "# For 문을 이용하여, 페이지 내 모든 이미지 저장 \n",
    "for i in range(1,80+1):\n",
    "    img = driver.find_element_by_xpath('//*[@id=\"ty_thmb_view\"]/ul/li['+str(i)+']/div[1]/div[2]/a/img[1]')\n",
    "    img1 = img.get_attribute('src')\n",
    "    urllib.request.urlretrieve(img1, 'Image_data/img00'+str(i)+'.png')"
   ]
  },
  {
   "cell_type": "markdown",
   "metadata": {},
   "source": [
    "**데이터를 불러와 파일 형태로 저장하기**"
   ]
  },
  {
   "cell_type": "code",
   "execution_count": 18,
   "metadata": {},
   "outputs": [],
   "source": [
    "product_name_list = [ ]\n",
    "price_list = [ ]\n",
    "img_list = [ ]\n",
    "for i in range(1,80+1):\n",
    "    product_name = driver.find_element_by_xpath('//*[@id=\"ty_thmb_view\"]/ul/li['+str(i)+']/div[2]/div[2]/div/a/em[1]')\n",
    "    price = driver.find_element_by_xpath('//*[@id=\"ty_thmb_view\"]/ul/li['+str(i)+']/div[2]/div[3]/div/em')\n",
    "    img = driver.find_element_by_xpath('//*[@id=\"ty_thmb_view\"]/ul/li['+str(i)+']/div[1]/div[2]/a/img[1]')\n",
    "    img_url = img.get_attribute('src')\n",
    "    \n",
    "    product_name_list.append(product_name.text)\n",
    "    price_list.append(price.text)\n",
    "    img_list.append(img_url)"
   ]
  },
  {
   "cell_type": "code",
   "execution_count": 19,
   "metadata": {},
   "outputs": [
    {
     "data": {
      "text/plain": [
       "['[콜롬비아산] 바나밸리 프레쉬 바나나 1송이',\n",
       " '[국내산] 초록사과 5~8입/봉',\n",
       " '[국내산] 당도선별 하우스감귤 1.4kg/팩',\n",
       " '[필리핀산] Dole 스위티오바나나 1.3kg 내외',\n",
       " '[국내산] 친환경 대추방울토마토 750g/팩',\n",
       " '[국내산] 무농약 토마토 1kg/봉',\n",
       " '[뉴질랜드산] 제스프리 썬골드키위 7~14입/팩',\n",
       " '[국내산] 990 세척사과/봉',\n",
       " '[국내산] 산(山) 수박 9kg미만',\n",
       " '[국산의 힘] 무지개 방울토마토 900g/팩',\n",
       " '[국내산] 당찬사과 4-7입/봉',\n",
       " '[국내산] 완숙토마토 6~8입/팩',\n",
       " '[국내산] 아삭 복숭아 7~12입/박스',\n",
       " '[미국산] 냉동 블루베리 1.5kg/봉',\n",
       " '[국내산] 친환경 방울토마토 기획 500g*2입/팩',\n",
       " '[국내산] 산(山) 수박 10kg이상',\n",
       " '[국내산] 하루과일 배 1입',\n",
       " '[국내산] 지리산 흥부골 포도 1.5kg/박스',\n",
       " '[필리핀산] 델몬트 컷파인애플 540g/팩',\n",
       " '[페루산] 냉동 애플 망고 300g',\n",
       " '[페루산] 냉동 애플망고 2.27kg',\n",
       " '[국내산] 친환경 토마토 3kg/박스',\n",
       " '[국내산] 천도복숭아 2kg/팩',\n",
       " '[국내산] 성주참외 3~8입/봉',\n",
       " '[미국산] 씨없는 청포도 900g/팩',\n",
       " '[국내산] 산(山) 수박 10kg미만',\n",
       " '[국내산] 거봉 2~4송이/박스',\n",
       " '[미국산] 문(Moon)체리 100g',\n",
       " '[콜롬비아산] 유기농 바나나 1.2kg 내외',\n",
       " '[국내산] 샤인머스켓 500g/팩',\n",
       " '[국내산] 무농약 블루베리 200g/팩',\n",
       " '저탄소 아삭 복숭아 5~7입/팩',\n",
       " '[국내산] 부드러운 복숭아 5~12입/박스',\n",
       " '[콜롬비아산] 하루하나 바나나 6개/팩',\n",
       " '[에콰도르산] 하루과일 바나나 2입/봉',\n",
       " '[페루산] 아보카도 4입/망',\n",
       " '[미국산] 냉동 블루베리 1.13kg/팩',\n",
       " '[국내산] 두번 엄선한 국산 냉동딸기1kg x 2봉',\n",
       " '[국내산] 프리미엄 탑감귤 1kg',\n",
       " '[국내산] 깜빠리 토마토 1kg/팩',\n",
       " '[미국산] 레몬 9~15입/봉',\n",
       " '[칠레산] 레몬 1개',\n",
       " '[국내산] 하루과일 토마토/봉',\n",
       " '[뉴질랜드산] 제스프리 썬골드키위 2입/봉',\n",
       " '[미국산] 씨없는 혼합포도 1.36kg/팩',\n",
       " '[국내산] 왕 천도복숭아 6입/팩',\n",
       " '크리스피 야채믹스칩 180g',\n",
       " '건크랜베리 500g',\n",
       " '[베트남산] 스위트망고 1.3kg',\n",
       " '[미국산] 허니듀 1통 (특대)',\n",
       " '[국내산] 방울토마토 1kg/팩',\n",
       " '[국내산] 청정강원 쿠마토 1.2kg/팩',\n",
       " '[국내산] 맑은청 대추 방울 토마토 1kg/팩',\n",
       " '[국내산] 천도복숭아 1개 (특)',\n",
       " '유기농 테일러푸룬 건자두 210g',\n",
       " '저탄소 인증 천도복숭아 1.5kg/팩',\n",
       " '요리하기 좋은 반쪽 아보카도 1kg(500g*2개입)',\n",
       " '[필리핀산] Dole 컷파인애플 540g',\n",
       " '[국내산] 대추방울토마토 1kg/팩',\n",
       " '[국내산] 달짝이 토마토 750g/팩',\n",
       " '저탄소 인증 초록사과 4~7입/봉',\n",
       " '[미국산] 오레곤 블루베리 510g/팩',\n",
       " '[국산의 힘] 원황배 4~7입/박스',\n",
       " '[국내산] 친환경 대추방울토마토 기획 2kg/박스',\n",
       " '다바오 바나나칩 450g',\n",
       " '[국내산] 건대추 (200g)',\n",
       " '[뉴질랜드산] 유기농 제스프리 썬골드키위/팩',\n",
       " '[피코크] 딸기 그대로 10g',\n",
       " '[미국산] 생블루베리 310g/팩',\n",
       " '[국내산] 친환경 칼라방울토마토 500g/팩',\n",
       " '[국내산] 그린 머스크메론 1통 (1.5kg 이상)',\n",
       " '[국내산] 나 혼자 수박',\n",
       " '[국내산] 강원 찰토마토 7~10입/팩',\n",
       " '[필리핀산]델몬트 파인애플스틱 6입/팩',\n",
       " '두번 엄선한 오색베리 500g',\n",
       " '땅끝 해남에서 온 고구마말랭이 180g (60g*3개입)',\n",
       " '냉동블루베리+망고 기획세트',\n",
       " '[뉴질랜드산] 제스프리그린키위/팩',\n",
       " '[칠레산] 냉동 트리플베리 300g',\n",
       " '[미국산] 뿌려먹는 레몬 5입/팩']"
      ]
     },
     "execution_count": 19,
     "metadata": {},
     "output_type": "execute_result"
    }
   ],
   "source": [
    "product_name_list"
   ]
  },
  {
   "cell_type": "code",
   "execution_count": 20,
   "metadata": {},
   "outputs": [],
   "source": [
    "import pandas as pd "
   ]
  },
  {
   "cell_type": "code",
   "execution_count": 21,
   "metadata": {},
   "outputs": [
    {
     "data": {
      "text/html": [
       "<div>\n",
       "<style scoped>\n",
       "    .dataframe tbody tr th:only-of-type {\n",
       "        vertical-align: middle;\n",
       "    }\n",
       "\n",
       "    .dataframe tbody tr th {\n",
       "        vertical-align: top;\n",
       "    }\n",
       "\n",
       "    .dataframe thead th {\n",
       "        text-align: right;\n",
       "    }\n",
       "</style>\n",
       "<table border=\"1\" class=\"dataframe\">\n",
       "  <thead>\n",
       "    <tr style=\"text-align: right;\">\n",
       "      <th></th>\n",
       "      <th>상품명</th>\n",
       "      <th>상품금액</th>\n",
       "      <th>이미지URL</th>\n",
       "    </tr>\n",
       "  </thead>\n",
       "  <tbody>\n",
       "    <tr>\n",
       "      <td>0</td>\n",
       "      <td>[콜롬비아산] 바나밸리 프레쉬 바나나 1송이</td>\n",
       "      <td>2,980</td>\n",
       "      <td>http://item.ssgcdn.com/53/94/67/item/100004867...</td>\n",
       "    </tr>\n",
       "    <tr>\n",
       "      <td>1</td>\n",
       "      <td>[국내산] 초록사과 5~8입/봉</td>\n",
       "      <td>7,980</td>\n",
       "      <td>http://item.ssgcdn.com/66/65/00/item/000001000...</td>\n",
       "    </tr>\n",
       "    <tr>\n",
       "      <td>2</td>\n",
       "      <td>[국내산] 당도선별 하우스감귤 1.4kg/팩</td>\n",
       "      <td>13,900</td>\n",
       "      <td>http://item.ssgcdn.com/92/65/45/item/000001045...</td>\n",
       "    </tr>\n",
       "    <tr>\n",
       "      <td>3</td>\n",
       "      <td>[필리핀산] Dole 스위티오바나나 1.3kg 내외</td>\n",
       "      <td>4,980</td>\n",
       "      <td>http://item.ssgcdn.com/31/32/54/item/100003354...</td>\n",
       "    </tr>\n",
       "    <tr>\n",
       "      <td>4</td>\n",
       "      <td>[국내산] 친환경 대추방울토마토 750g/팩</td>\n",
       "      <td>5,980</td>\n",
       "      <td>http://item.ssgcdn.com/09/60/56/item/100002656...</td>\n",
       "    </tr>\n",
       "  </tbody>\n",
       "</table>\n",
       "</div>"
      ],
      "text/plain": [
       "                            상품명    상품금액  \\\n",
       "0      [콜롬비아산] 바나밸리 프레쉬 바나나 1송이   2,980   \n",
       "1             [국내산] 초록사과 5~8입/봉   7,980   \n",
       "2      [국내산] 당도선별 하우스감귤 1.4kg/팩  13,900   \n",
       "3  [필리핀산] Dole 스위티오바나나 1.3kg 내외   4,980   \n",
       "4      [국내산] 친환경 대추방울토마토 750g/팩   5,980   \n",
       "\n",
       "                                              이미지URL  \n",
       "0  http://item.ssgcdn.com/53/94/67/item/100004867...  \n",
       "1  http://item.ssgcdn.com/66/65/00/item/000001000...  \n",
       "2  http://item.ssgcdn.com/92/65/45/item/000001045...  \n",
       "3  http://item.ssgcdn.com/31/32/54/item/100003354...  \n",
       "4  http://item.ssgcdn.com/09/60/56/item/100002656...  "
      ]
     },
     "execution_count": 21,
     "metadata": {},
     "output_type": "execute_result"
    }
   ],
   "source": [
    "df1 = pd.DataFrame({'상품명':product_name_list, '상품금액':price_list, '이미지URL':img_list})\n",
    "df1.shape\n",
    "df1.head()"
   ]
  },
  {
   "cell_type": "code",
   "execution_count": 22,
   "metadata": {},
   "outputs": [],
   "source": [
    "#파일 저장 (CSV)\n",
    "df1.to_csv('data1.csv')\n",
    "# 파일 저장 (Excel)\n",
    "df1.to_excel('data1.xlsx')"
   ]
  },
  {
   "cell_type": "code",
   "execution_count": 23,
   "metadata": {},
   "outputs": [],
   "source": [
    "# 한글 깨질 시 인코딩 하여 저장 \n",
    "df1.to_csv('data1.csv',encoding='cp949')"
   ]
  },
  {
   "cell_type": "code",
   "execution_count": 24,
   "metadata": {},
   "outputs": [],
   "source": [
    "driver.quit()"
   ]
  },
  {
   "cell_type": "markdown",
   "metadata": {},
   "source": [
    "## 예제2. 기업 평가데이터 크롤링 "
   ]
  },
  {
   "cell_type": "code",
   "execution_count": 4,
   "metadata": {},
   "outputs": [],
   "source": [
    "# 페이지 접속 \n",
    "driver = webdriver.Chrome('chromedriver')\n",
    "driver.get('https://www.jobplanet.co.kr')"
   ]
  },
  {
   "cell_type": "markdown",
   "metadata": {},
   "source": [
    "**페이지 작동 지연**"
   ]
  },
  {
   "cell_type": "code",
   "execution_count": 5,
   "metadata": {},
   "outputs": [],
   "source": [
    "driver.implicitly_wait(10)"
   ]
  },
  {
   "cell_type": "markdown",
   "metadata": {},
   "source": [
    "**특정 값 입력**\n",
    "\n",
    "- 로그인이나 특정 키워드 검색, 댓글, 게시글 입력 등 여러가지 방안으로 활용 "
   ]
  },
  {
   "cell_type": "code",
   "execution_count": 6,
   "metadata": {},
   "outputs": [],
   "source": [
    "# 로그인 페이지로 이동 \n",
    "driver.find_element_by_xpath('/html/body/div[1]/div[1]/header/div/div[2]/a[1]/span').click()"
   ]
  },
  {
   "cell_type": "code",
   "execution_count": 7,
   "metadata": {},
   "outputs": [],
   "source": [
    "# 아이디 입력하기 \n",
    "driver.find_element_by_xpath('//*[@id=\"user_email\"]').send_keys('52100108@dankook.ac.kr')"
   ]
  },
  {
   "cell_type": "code",
   "execution_count": 8,
   "metadata": {},
   "outputs": [],
   "source": [
    "# 패스워드 입력하기 \n",
    "driver.find_element_by_xpath('//*[@id=\"user_password\"]').send_keys('kgkg3920691')"
   ]
  },
  {
   "cell_type": "code",
   "execution_count": 9,
   "metadata": {},
   "outputs": [],
   "source": [
    "# 로그인 버튼 클릭 \n",
    "driver.find_element_by_xpath('//*[@id=\"signInSignInCon\"]/div[2]/div/section[2]/fieldset/button').click()"
   ]
  },
  {
   "cell_type": "markdown",
   "metadata": {},
   "source": [
    "**기업 데이터 리뷰 수집**\n",
    "\n",
    " - Try / Except / Finally 구문을 이용한, 오류 발생 방지 및 자동 수집 실시 \n",
    " - 창을 띄워놓지 않고 크롤링 하기 "
   ]
  },
  {
   "cell_type": "code",
   "execution_count": 12,
   "metadata": {},
   "outputs": [],
   "source": [
    "driver.get('https://www.jobplanet.co.kr/companies/20276/reviews?by_occupation=10100&filter_by_occu_folw=true&slug=%EC%97%90%EC%9D%B4%EC%97%90%EC%8A%A4%EC%97%A0%EC%97%98%EC%BD%94%EB%A6%AC%EC%95%84')"
   ]
  },
  {
   "cell_type": "code",
   "execution_count": 13,
   "metadata": {},
   "outputs": [],
   "source": [
    "# 오픈되어 있는 창 제거 \n",
    "driver.find_element_by_xpath('//*[@id=\"premiumReviewChart\"]/div/div[3]/div[2]/div/div[1]/button').click()"
   ]
  },
  {
   "cell_type": "code",
   "execution_count": 14,
   "metadata": {},
   "outputs": [],
   "source": [
    "# 수집 할 데이터 목록을 리스트로 생성 \n",
    "comm_list = [] \n",
    "good_comm_list = [] \n",
    "bad_comm_list = [] \n",
    "category_list = []\n",
    "employment_list = []\n",
    "region_list = []\n",
    "date_comm_list = []\n",
    "hope_comm_list = []\n",
    "grow_bin_list = []\n",
    "recomm_list = []"
   ]
  },
  {
   "cell_type": "code",
   "execution_count": 15,
   "metadata": {},
   "outputs": [],
   "source": [
    "# 모든 직군 선택 \n",
    "driver.find_element_by_xpath('//*[@id=\"occupation_select\"]/option[1]').click()"
   ]
  },
  {
   "cell_type": "code",
   "execution_count": 16,
   "metadata": {
    "scrolled": false
   },
   "outputs": [
    {
     "name": "stdout",
     "output_type": "stream",
     "text": [
      "Error 1\n",
      "Error 2\n",
      "Error 5\n",
      "Error 1\n",
      "Error 2\n",
      "Error 3\n",
      "Error 4\n",
      "Error 1\n",
      "Error 2\n",
      "Error 1\n",
      "Error 3\n",
      "Error 1\n",
      "Error 1\n",
      "Error 2\n",
      "Error 4\n",
      "Error 4\n",
      "Error 2\n",
      "Error 2\n",
      "Error 5\n",
      "Error 2\n",
      "Error 3\n",
      "Error 5\n",
      "Error 2\n",
      "Error 3\n",
      "Error 4\n"
     ]
    },
    {
     "ename": "KeyboardInterrupt",
     "evalue": "",
     "output_type": "error",
     "traceback": [
      "\u001b[1;31m---------------------------------------------------------------------------\u001b[0m",
      "\u001b[1;31mTypeError\u001b[0m                                 Traceback (most recent call last)",
      "\u001b[1;32mC:\\ProgramData\\Anaconda3\\lib\\site-packages\\urllib3\\connectionpool.py\u001b[0m in \u001b[0;36m_make_request\u001b[1;34m(self, conn, method, url, timeout, chunked, **httplib_request_kw)\u001b[0m\n\u001b[0;32m    379\u001b[0m             \u001b[1;32mtry\u001b[0m\u001b[1;33m:\u001b[0m  \u001b[1;31m# Python 2.7, use buffering of HTTP responses\u001b[0m\u001b[1;33m\u001b[0m\u001b[0m\n\u001b[1;32m--> 380\u001b[1;33m                 \u001b[0mhttplib_response\u001b[0m \u001b[1;33m=\u001b[0m \u001b[0mconn\u001b[0m\u001b[1;33m.\u001b[0m\u001b[0mgetresponse\u001b[0m\u001b[1;33m(\u001b[0m\u001b[0mbuffering\u001b[0m\u001b[1;33m=\u001b[0m\u001b[1;32mTrue\u001b[0m\u001b[1;33m)\u001b[0m\u001b[1;33m\u001b[0m\u001b[0m\n\u001b[0m\u001b[0;32m    381\u001b[0m             \u001b[1;32mexcept\u001b[0m \u001b[0mTypeError\u001b[0m\u001b[1;33m:\u001b[0m  \u001b[1;31m# Python 2.6 and older, Python 3\u001b[0m\u001b[1;33m\u001b[0m\u001b[0m\n",
      "\u001b[1;31mTypeError\u001b[0m: getresponse() got an unexpected keyword argument 'buffering'",
      "\nDuring handling of the above exception, another exception occurred:\n",
      "\u001b[1;31mKeyboardInterrupt\u001b[0m                         Traceback (most recent call last)",
      "\u001b[1;32m<ipython-input-16-b7b18b49c652>\u001b[0m in \u001b[0;36m<module>\u001b[1;34m()\u001b[0m\n\u001b[0;32m     12\u001b[0m             \u001b[0mhope_comm\u001b[0m \u001b[1;33m=\u001b[0m \u001b[0mdriver\u001b[0m\u001b[1;33m.\u001b[0m\u001b[0mfind_element_by_xpath\u001b[0m\u001b[1;33m(\u001b[0m\u001b[1;34m'//*[@id=\"viewReviewsList\"]/div/div/div/section['\u001b[0m\u001b[1;33m+\u001b[0m \u001b[0mstr\u001b[0m\u001b[1;33m(\u001b[0m\u001b[0mi\u001b[0m\u001b[1;33m)\u001b[0m \u001b[1;33m+\u001b[0m\u001b[1;34m']/div/div[2]/div/dl/dd[3]'\u001b[0m\u001b[1;33m)\u001b[0m\u001b[1;33m.\u001b[0m\u001b[0mtext\u001b[0m\u001b[1;33m\u001b[0m\u001b[0m\n\u001b[0;32m     13\u001b[0m             \u001b[0mgrow_bin\u001b[0m \u001b[1;33m=\u001b[0m \u001b[0mdriver\u001b[0m\u001b[1;33m.\u001b[0m\u001b[0mfind_element_by_xpath\u001b[0m\u001b[1;33m(\u001b[0m\u001b[1;34m'//*[@id=\"viewReviewsList\"]/div/div/div/section['\u001b[0m\u001b[1;33m+\u001b[0m \u001b[0mstr\u001b[0m\u001b[1;33m(\u001b[0m\u001b[0mi\u001b[0m\u001b[1;33m)\u001b[0m \u001b[1;33m+\u001b[0m\u001b[1;34m']/div/div[2]/div/p[1]/strong'\u001b[0m\u001b[1;33m)\u001b[0m\u001b[1;33m.\u001b[0m\u001b[0mtext\u001b[0m\u001b[1;33m\u001b[0m\u001b[0m\n\u001b[1;32m---> 14\u001b[1;33m             \u001b[0mrecomm\u001b[0m \u001b[1;33m=\u001b[0m \u001b[0mdriver\u001b[0m\u001b[1;33m.\u001b[0m\u001b[0mfind_element_by_xpath\u001b[0m\u001b[1;33m(\u001b[0m\u001b[1;34m'//*[@id=\"viewReviewsList\"]/div/div/div/section['\u001b[0m\u001b[1;33m+\u001b[0m \u001b[0mstr\u001b[0m\u001b[1;33m(\u001b[0m\u001b[0mi\u001b[0m\u001b[1;33m)\u001b[0m \u001b[1;33m+\u001b[0m\u001b[1;34m']/div/div[2]/div/p[2]/em'\u001b[0m\u001b[1;33m)\u001b[0m\u001b[1;33m.\u001b[0m\u001b[0mtext\u001b[0m\u001b[1;33m\u001b[0m\u001b[0m\n\u001b[0m\u001b[0;32m     15\u001b[0m \u001b[1;33m\u001b[0m\u001b[0m\n\u001b[0;32m     16\u001b[0m             \u001b[0mcomm_list\u001b[0m\u001b[1;33m.\u001b[0m\u001b[0mappend\u001b[0m\u001b[1;33m(\u001b[0m\u001b[0mcomm\u001b[0m\u001b[1;33m)\u001b[0m\u001b[1;33m\u001b[0m\u001b[0m\n",
      "\u001b[1;32mC:\\ProgramData\\Anaconda3\\lib\\site-packages\\selenium\\webdriver\\remote\\webdriver.py\u001b[0m in \u001b[0;36mfind_element_by_xpath\u001b[1;34m(self, xpath)\u001b[0m\n\u001b[0;32m    392\u001b[0m             \u001b[0melement\u001b[0m \u001b[1;33m=\u001b[0m \u001b[0mdriver\u001b[0m\u001b[1;33m.\u001b[0m\u001b[0mfind_element_by_xpath\u001b[0m\u001b[1;33m(\u001b[0m\u001b[1;34m'//div/td[1]'\u001b[0m\u001b[1;33m)\u001b[0m\u001b[1;33m\u001b[0m\u001b[0m\n\u001b[0;32m    393\u001b[0m         \"\"\"\n\u001b[1;32m--> 394\u001b[1;33m         \u001b[1;32mreturn\u001b[0m \u001b[0mself\u001b[0m\u001b[1;33m.\u001b[0m\u001b[0mfind_element\u001b[0m\u001b[1;33m(\u001b[0m\u001b[0mby\u001b[0m\u001b[1;33m=\u001b[0m\u001b[0mBy\u001b[0m\u001b[1;33m.\u001b[0m\u001b[0mXPATH\u001b[0m\u001b[1;33m,\u001b[0m \u001b[0mvalue\u001b[0m\u001b[1;33m=\u001b[0m\u001b[0mxpath\u001b[0m\u001b[1;33m)\u001b[0m\u001b[1;33m\u001b[0m\u001b[0m\n\u001b[0m\u001b[0;32m    395\u001b[0m \u001b[1;33m\u001b[0m\u001b[0m\n\u001b[0;32m    396\u001b[0m     \u001b[1;32mdef\u001b[0m \u001b[0mfind_elements_by_xpath\u001b[0m\u001b[1;33m(\u001b[0m\u001b[0mself\u001b[0m\u001b[1;33m,\u001b[0m \u001b[0mxpath\u001b[0m\u001b[1;33m)\u001b[0m\u001b[1;33m:\u001b[0m\u001b[1;33m\u001b[0m\u001b[0m\n",
      "\u001b[1;32mC:\\ProgramData\\Anaconda3\\lib\\site-packages\\selenium\\webdriver\\remote\\webdriver.py\u001b[0m in \u001b[0;36mfind_element\u001b[1;34m(self, by, value)\u001b[0m\n\u001b[0;32m    976\u001b[0m         return self.execute(Command.FIND_ELEMENT, {\n\u001b[0;32m    977\u001b[0m             \u001b[1;34m'using'\u001b[0m\u001b[1;33m:\u001b[0m \u001b[0mby\u001b[0m\u001b[1;33m,\u001b[0m\u001b[1;33m\u001b[0m\u001b[0m\n\u001b[1;32m--> 978\u001b[1;33m             'value': value})['value']\n\u001b[0m\u001b[0;32m    979\u001b[0m \u001b[1;33m\u001b[0m\u001b[0m\n\u001b[0;32m    980\u001b[0m     \u001b[1;32mdef\u001b[0m \u001b[0mfind_elements\u001b[0m\u001b[1;33m(\u001b[0m\u001b[0mself\u001b[0m\u001b[1;33m,\u001b[0m \u001b[0mby\u001b[0m\u001b[1;33m=\u001b[0m\u001b[0mBy\u001b[0m\u001b[1;33m.\u001b[0m\u001b[0mID\u001b[0m\u001b[1;33m,\u001b[0m \u001b[0mvalue\u001b[0m\u001b[1;33m=\u001b[0m\u001b[1;32mNone\u001b[0m\u001b[1;33m)\u001b[0m\u001b[1;33m:\u001b[0m\u001b[1;33m\u001b[0m\u001b[0m\n",
      "\u001b[1;32mC:\\ProgramData\\Anaconda3\\lib\\site-packages\\selenium\\webdriver\\remote\\webdriver.py\u001b[0m in \u001b[0;36mexecute\u001b[1;34m(self, driver_command, params)\u001b[0m\n\u001b[0;32m    317\u001b[0m \u001b[1;33m\u001b[0m\u001b[0m\n\u001b[0;32m    318\u001b[0m         \u001b[0mparams\u001b[0m \u001b[1;33m=\u001b[0m \u001b[0mself\u001b[0m\u001b[1;33m.\u001b[0m\u001b[0m_wrap_value\u001b[0m\u001b[1;33m(\u001b[0m\u001b[0mparams\u001b[0m\u001b[1;33m)\u001b[0m\u001b[1;33m\u001b[0m\u001b[0m\n\u001b[1;32m--> 319\u001b[1;33m         \u001b[0mresponse\u001b[0m \u001b[1;33m=\u001b[0m \u001b[0mself\u001b[0m\u001b[1;33m.\u001b[0m\u001b[0mcommand_executor\u001b[0m\u001b[1;33m.\u001b[0m\u001b[0mexecute\u001b[0m\u001b[1;33m(\u001b[0m\u001b[0mdriver_command\u001b[0m\u001b[1;33m,\u001b[0m \u001b[0mparams\u001b[0m\u001b[1;33m)\u001b[0m\u001b[1;33m\u001b[0m\u001b[0m\n\u001b[0m\u001b[0;32m    320\u001b[0m         \u001b[1;32mif\u001b[0m \u001b[0mresponse\u001b[0m\u001b[1;33m:\u001b[0m\u001b[1;33m\u001b[0m\u001b[0m\n\u001b[0;32m    321\u001b[0m             \u001b[0mself\u001b[0m\u001b[1;33m.\u001b[0m\u001b[0merror_handler\u001b[0m\u001b[1;33m.\u001b[0m\u001b[0mcheck_response\u001b[0m\u001b[1;33m(\u001b[0m\u001b[0mresponse\u001b[0m\u001b[1;33m)\u001b[0m\u001b[1;33m\u001b[0m\u001b[0m\n",
      "\u001b[1;32mC:\\ProgramData\\Anaconda3\\lib\\site-packages\\selenium\\webdriver\\remote\\remote_connection.py\u001b[0m in \u001b[0;36mexecute\u001b[1;34m(self, command, params)\u001b[0m\n\u001b[0;32m    372\u001b[0m         \u001b[0mdata\u001b[0m \u001b[1;33m=\u001b[0m \u001b[0mutils\u001b[0m\u001b[1;33m.\u001b[0m\u001b[0mdump_json\u001b[0m\u001b[1;33m(\u001b[0m\u001b[0mparams\u001b[0m\u001b[1;33m)\u001b[0m\u001b[1;33m\u001b[0m\u001b[0m\n\u001b[0;32m    373\u001b[0m         \u001b[0murl\u001b[0m \u001b[1;33m=\u001b[0m \u001b[1;34m'%s%s'\u001b[0m \u001b[1;33m%\u001b[0m \u001b[1;33m(\u001b[0m\u001b[0mself\u001b[0m\u001b[1;33m.\u001b[0m\u001b[0m_url\u001b[0m\u001b[1;33m,\u001b[0m \u001b[0mpath\u001b[0m\u001b[1;33m)\u001b[0m\u001b[1;33m\u001b[0m\u001b[0m\n\u001b[1;32m--> 374\u001b[1;33m         \u001b[1;32mreturn\u001b[0m \u001b[0mself\u001b[0m\u001b[1;33m.\u001b[0m\u001b[0m_request\u001b[0m\u001b[1;33m(\u001b[0m\u001b[0mcommand_info\u001b[0m\u001b[1;33m[\u001b[0m\u001b[1;36m0\u001b[0m\u001b[1;33m]\u001b[0m\u001b[1;33m,\u001b[0m \u001b[0murl\u001b[0m\u001b[1;33m,\u001b[0m \u001b[0mbody\u001b[0m\u001b[1;33m=\u001b[0m\u001b[0mdata\u001b[0m\u001b[1;33m)\u001b[0m\u001b[1;33m\u001b[0m\u001b[0m\n\u001b[0m\u001b[0;32m    375\u001b[0m \u001b[1;33m\u001b[0m\u001b[0m\n\u001b[0;32m    376\u001b[0m     \u001b[1;32mdef\u001b[0m \u001b[0m_request\u001b[0m\u001b[1;33m(\u001b[0m\u001b[0mself\u001b[0m\u001b[1;33m,\u001b[0m \u001b[0mmethod\u001b[0m\u001b[1;33m,\u001b[0m \u001b[0murl\u001b[0m\u001b[1;33m,\u001b[0m \u001b[0mbody\u001b[0m\u001b[1;33m=\u001b[0m\u001b[1;32mNone\u001b[0m\u001b[1;33m)\u001b[0m\u001b[1;33m:\u001b[0m\u001b[1;33m\u001b[0m\u001b[0m\n",
      "\u001b[1;32mC:\\ProgramData\\Anaconda3\\lib\\site-packages\\selenium\\webdriver\\remote\\remote_connection.py\u001b[0m in \u001b[0;36m_request\u001b[1;34m(self, method, url, body)\u001b[0m\n\u001b[0;32m    395\u001b[0m \u001b[1;33m\u001b[0m\u001b[0m\n\u001b[0;32m    396\u001b[0m         \u001b[1;32mif\u001b[0m \u001b[0mself\u001b[0m\u001b[1;33m.\u001b[0m\u001b[0mkeep_alive\u001b[0m\u001b[1;33m:\u001b[0m\u001b[1;33m\u001b[0m\u001b[0m\n\u001b[1;32m--> 397\u001b[1;33m             \u001b[0mresp\u001b[0m \u001b[1;33m=\u001b[0m \u001b[0mself\u001b[0m\u001b[1;33m.\u001b[0m\u001b[0m_conn\u001b[0m\u001b[1;33m.\u001b[0m\u001b[0mrequest\u001b[0m\u001b[1;33m(\u001b[0m\u001b[0mmethod\u001b[0m\u001b[1;33m,\u001b[0m \u001b[0murl\u001b[0m\u001b[1;33m,\u001b[0m \u001b[0mbody\u001b[0m\u001b[1;33m=\u001b[0m\u001b[0mbody\u001b[0m\u001b[1;33m,\u001b[0m \u001b[0mheaders\u001b[0m\u001b[1;33m=\u001b[0m\u001b[0mheaders\u001b[0m\u001b[1;33m)\u001b[0m\u001b[1;33m\u001b[0m\u001b[0m\n\u001b[0m\u001b[0;32m    398\u001b[0m \u001b[1;33m\u001b[0m\u001b[0m\n\u001b[0;32m    399\u001b[0m             \u001b[0mstatuscode\u001b[0m \u001b[1;33m=\u001b[0m \u001b[0mresp\u001b[0m\u001b[1;33m.\u001b[0m\u001b[0mstatus\u001b[0m\u001b[1;33m\u001b[0m\u001b[0m\n",
      "\u001b[1;32mC:\\ProgramData\\Anaconda3\\lib\\site-packages\\urllib3\\request.py\u001b[0m in \u001b[0;36mrequest\u001b[1;34m(self, method, url, fields, headers, **urlopen_kw)\u001b[0m\n\u001b[0;32m     68\u001b[0m             return self.request_encode_body(method, url, fields=fields,\n\u001b[0;32m     69\u001b[0m                                             \u001b[0mheaders\u001b[0m\u001b[1;33m=\u001b[0m\u001b[0mheaders\u001b[0m\u001b[1;33m,\u001b[0m\u001b[1;33m\u001b[0m\u001b[0m\n\u001b[1;32m---> 70\u001b[1;33m                                             **urlopen_kw)\n\u001b[0m\u001b[0;32m     71\u001b[0m \u001b[1;33m\u001b[0m\u001b[0m\n\u001b[0;32m     72\u001b[0m     def request_encode_url(self, method, url, fields=None, headers=None,\n",
      "\u001b[1;32mC:\\ProgramData\\Anaconda3\\lib\\site-packages\\urllib3\\request.py\u001b[0m in \u001b[0;36mrequest_encode_body\u001b[1;34m(self, method, url, fields, headers, encode_multipart, multipart_boundary, **urlopen_kw)\u001b[0m\n\u001b[0;32m    146\u001b[0m         \u001b[0mextra_kw\u001b[0m\u001b[1;33m.\u001b[0m\u001b[0mupdate\u001b[0m\u001b[1;33m(\u001b[0m\u001b[0murlopen_kw\u001b[0m\u001b[1;33m)\u001b[0m\u001b[1;33m\u001b[0m\u001b[0m\n\u001b[0;32m    147\u001b[0m \u001b[1;33m\u001b[0m\u001b[0m\n\u001b[1;32m--> 148\u001b[1;33m         \u001b[1;32mreturn\u001b[0m \u001b[0mself\u001b[0m\u001b[1;33m.\u001b[0m\u001b[0murlopen\u001b[0m\u001b[1;33m(\u001b[0m\u001b[0mmethod\u001b[0m\u001b[1;33m,\u001b[0m \u001b[0murl\u001b[0m\u001b[1;33m,\u001b[0m \u001b[1;33m**\u001b[0m\u001b[0mextra_kw\u001b[0m\u001b[1;33m)\u001b[0m\u001b[1;33m\u001b[0m\u001b[0m\n\u001b[0m",
      "\u001b[1;32mC:\\ProgramData\\Anaconda3\\lib\\site-packages\\urllib3\\poolmanager.py\u001b[0m in \u001b[0;36murlopen\u001b[1;34m(self, method, url, redirect, **kw)\u001b[0m\n\u001b[0;32m    319\u001b[0m             \u001b[0mresponse\u001b[0m \u001b[1;33m=\u001b[0m \u001b[0mconn\u001b[0m\u001b[1;33m.\u001b[0m\u001b[0murlopen\u001b[0m\u001b[1;33m(\u001b[0m\u001b[0mmethod\u001b[0m\u001b[1;33m,\u001b[0m \u001b[0murl\u001b[0m\u001b[1;33m,\u001b[0m \u001b[1;33m**\u001b[0m\u001b[0mkw\u001b[0m\u001b[1;33m)\u001b[0m\u001b[1;33m\u001b[0m\u001b[0m\n\u001b[0;32m    320\u001b[0m         \u001b[1;32melse\u001b[0m\u001b[1;33m:\u001b[0m\u001b[1;33m\u001b[0m\u001b[0m\n\u001b[1;32m--> 321\u001b[1;33m             \u001b[0mresponse\u001b[0m \u001b[1;33m=\u001b[0m \u001b[0mconn\u001b[0m\u001b[1;33m.\u001b[0m\u001b[0murlopen\u001b[0m\u001b[1;33m(\u001b[0m\u001b[0mmethod\u001b[0m\u001b[1;33m,\u001b[0m \u001b[0mu\u001b[0m\u001b[1;33m.\u001b[0m\u001b[0mrequest_uri\u001b[0m\u001b[1;33m,\u001b[0m \u001b[1;33m**\u001b[0m\u001b[0mkw\u001b[0m\u001b[1;33m)\u001b[0m\u001b[1;33m\u001b[0m\u001b[0m\n\u001b[0m\u001b[0;32m    322\u001b[0m \u001b[1;33m\u001b[0m\u001b[0m\n\u001b[0;32m    323\u001b[0m         \u001b[0mredirect_location\u001b[0m \u001b[1;33m=\u001b[0m \u001b[0mredirect\u001b[0m \u001b[1;32mand\u001b[0m \u001b[0mresponse\u001b[0m\u001b[1;33m.\u001b[0m\u001b[0mget_redirect_location\u001b[0m\u001b[1;33m(\u001b[0m\u001b[1;33m)\u001b[0m\u001b[1;33m\u001b[0m\u001b[0m\n",
      "\u001b[1;32mC:\\ProgramData\\Anaconda3\\lib\\site-packages\\urllib3\\connectionpool.py\u001b[0m in \u001b[0;36murlopen\u001b[1;34m(self, method, url, body, headers, retries, redirect, assert_same_host, timeout, pool_timeout, release_conn, chunked, body_pos, **response_kw)\u001b[0m\n\u001b[0;32m    599\u001b[0m                                                   \u001b[0mtimeout\u001b[0m\u001b[1;33m=\u001b[0m\u001b[0mtimeout_obj\u001b[0m\u001b[1;33m,\u001b[0m\u001b[1;33m\u001b[0m\u001b[0m\n\u001b[0;32m    600\u001b[0m                                                   \u001b[0mbody\u001b[0m\u001b[1;33m=\u001b[0m\u001b[0mbody\u001b[0m\u001b[1;33m,\u001b[0m \u001b[0mheaders\u001b[0m\u001b[1;33m=\u001b[0m\u001b[0mheaders\u001b[0m\u001b[1;33m,\u001b[0m\u001b[1;33m\u001b[0m\u001b[0m\n\u001b[1;32m--> 601\u001b[1;33m                                                   chunked=chunked)\n\u001b[0m\u001b[0;32m    602\u001b[0m \u001b[1;33m\u001b[0m\u001b[0m\n\u001b[0;32m    603\u001b[0m             \u001b[1;31m# If we're going to release the connection in ``finally:``, then\u001b[0m\u001b[1;33m\u001b[0m\u001b[1;33m\u001b[0m\u001b[0m\n",
      "\u001b[1;32mC:\\ProgramData\\Anaconda3\\lib\\site-packages\\urllib3\\connectionpool.py\u001b[0m in \u001b[0;36m_make_request\u001b[1;34m(self, conn, method, url, timeout, chunked, **httplib_request_kw)\u001b[0m\n\u001b[0;32m    381\u001b[0m             \u001b[1;32mexcept\u001b[0m \u001b[0mTypeError\u001b[0m\u001b[1;33m:\u001b[0m  \u001b[1;31m# Python 2.6 and older, Python 3\u001b[0m\u001b[1;33m\u001b[0m\u001b[0m\n\u001b[0;32m    382\u001b[0m                 \u001b[1;32mtry\u001b[0m\u001b[1;33m:\u001b[0m\u001b[1;33m\u001b[0m\u001b[0m\n\u001b[1;32m--> 383\u001b[1;33m                     \u001b[0mhttplib_response\u001b[0m \u001b[1;33m=\u001b[0m \u001b[0mconn\u001b[0m\u001b[1;33m.\u001b[0m\u001b[0mgetresponse\u001b[0m\u001b[1;33m(\u001b[0m\u001b[1;33m)\u001b[0m\u001b[1;33m\u001b[0m\u001b[0m\n\u001b[0m\u001b[0;32m    384\u001b[0m                 \u001b[1;32mexcept\u001b[0m \u001b[0mException\u001b[0m \u001b[1;32mas\u001b[0m \u001b[0me\u001b[0m\u001b[1;33m:\u001b[0m\u001b[1;33m\u001b[0m\u001b[0m\n\u001b[0;32m    385\u001b[0m                     \u001b[1;31m# Remove the TypeError from the exception chain in Python 3;\u001b[0m\u001b[1;33m\u001b[0m\u001b[1;33m\u001b[0m\u001b[0m\n",
      "\u001b[1;32mC:\\ProgramData\\Anaconda3\\lib\\http\\client.py\u001b[0m in \u001b[0;36mgetresponse\u001b[1;34m(self)\u001b[0m\n\u001b[0;32m   1329\u001b[0m         \u001b[1;32mtry\u001b[0m\u001b[1;33m:\u001b[0m\u001b[1;33m\u001b[0m\u001b[0m\n\u001b[0;32m   1330\u001b[0m             \u001b[1;32mtry\u001b[0m\u001b[1;33m:\u001b[0m\u001b[1;33m\u001b[0m\u001b[0m\n\u001b[1;32m-> 1331\u001b[1;33m                 \u001b[0mresponse\u001b[0m\u001b[1;33m.\u001b[0m\u001b[0mbegin\u001b[0m\u001b[1;33m(\u001b[0m\u001b[1;33m)\u001b[0m\u001b[1;33m\u001b[0m\u001b[0m\n\u001b[0m\u001b[0;32m   1332\u001b[0m             \u001b[1;32mexcept\u001b[0m \u001b[0mConnectionError\u001b[0m\u001b[1;33m:\u001b[0m\u001b[1;33m\u001b[0m\u001b[0m\n\u001b[0;32m   1333\u001b[0m                 \u001b[0mself\u001b[0m\u001b[1;33m.\u001b[0m\u001b[0mclose\u001b[0m\u001b[1;33m(\u001b[0m\u001b[1;33m)\u001b[0m\u001b[1;33m\u001b[0m\u001b[0m\n",
      "\u001b[1;32mC:\\ProgramData\\Anaconda3\\lib\\http\\client.py\u001b[0m in \u001b[0;36mbegin\u001b[1;34m(self)\u001b[0m\n\u001b[0;32m    295\u001b[0m         \u001b[1;31m# read until we get a non-100 response\u001b[0m\u001b[1;33m\u001b[0m\u001b[1;33m\u001b[0m\u001b[0m\n\u001b[0;32m    296\u001b[0m         \u001b[1;32mwhile\u001b[0m \u001b[1;32mTrue\u001b[0m\u001b[1;33m:\u001b[0m\u001b[1;33m\u001b[0m\u001b[0m\n\u001b[1;32m--> 297\u001b[1;33m             \u001b[0mversion\u001b[0m\u001b[1;33m,\u001b[0m \u001b[0mstatus\u001b[0m\u001b[1;33m,\u001b[0m \u001b[0mreason\u001b[0m \u001b[1;33m=\u001b[0m \u001b[0mself\u001b[0m\u001b[1;33m.\u001b[0m\u001b[0m_read_status\u001b[0m\u001b[1;33m(\u001b[0m\u001b[1;33m)\u001b[0m\u001b[1;33m\u001b[0m\u001b[0m\n\u001b[0m\u001b[0;32m    298\u001b[0m             \u001b[1;32mif\u001b[0m \u001b[0mstatus\u001b[0m \u001b[1;33m!=\u001b[0m \u001b[0mCONTINUE\u001b[0m\u001b[1;33m:\u001b[0m\u001b[1;33m\u001b[0m\u001b[0m\n\u001b[0;32m    299\u001b[0m                 \u001b[1;32mbreak\u001b[0m\u001b[1;33m\u001b[0m\u001b[0m\n",
      "\u001b[1;32mC:\\ProgramData\\Anaconda3\\lib\\http\\client.py\u001b[0m in \u001b[0;36m_read_status\u001b[1;34m(self)\u001b[0m\n\u001b[0;32m    256\u001b[0m \u001b[1;33m\u001b[0m\u001b[0m\n\u001b[0;32m    257\u001b[0m     \u001b[1;32mdef\u001b[0m \u001b[0m_read_status\u001b[0m\u001b[1;33m(\u001b[0m\u001b[0mself\u001b[0m\u001b[1;33m)\u001b[0m\u001b[1;33m:\u001b[0m\u001b[1;33m\u001b[0m\u001b[0m\n\u001b[1;32m--> 258\u001b[1;33m         \u001b[0mline\u001b[0m \u001b[1;33m=\u001b[0m \u001b[0mstr\u001b[0m\u001b[1;33m(\u001b[0m\u001b[0mself\u001b[0m\u001b[1;33m.\u001b[0m\u001b[0mfp\u001b[0m\u001b[1;33m.\u001b[0m\u001b[0mreadline\u001b[0m\u001b[1;33m(\u001b[0m\u001b[0m_MAXLINE\u001b[0m \u001b[1;33m+\u001b[0m \u001b[1;36m1\u001b[0m\u001b[1;33m)\u001b[0m\u001b[1;33m,\u001b[0m \u001b[1;34m\"iso-8859-1\"\u001b[0m\u001b[1;33m)\u001b[0m\u001b[1;33m\u001b[0m\u001b[0m\n\u001b[0m\u001b[0;32m    259\u001b[0m         \u001b[1;32mif\u001b[0m \u001b[0mlen\u001b[0m\u001b[1;33m(\u001b[0m\u001b[0mline\u001b[0m\u001b[1;33m)\u001b[0m \u001b[1;33m>\u001b[0m \u001b[0m_MAXLINE\u001b[0m\u001b[1;33m:\u001b[0m\u001b[1;33m\u001b[0m\u001b[0m\n\u001b[0;32m    260\u001b[0m             \u001b[1;32mraise\u001b[0m \u001b[0mLineTooLong\u001b[0m\u001b[1;33m(\u001b[0m\u001b[1;34m\"status line\"\u001b[0m\u001b[1;33m)\u001b[0m\u001b[1;33m\u001b[0m\u001b[0m\n",
      "\u001b[1;32mC:\\ProgramData\\Anaconda3\\lib\\socket.py\u001b[0m in \u001b[0;36mreadinto\u001b[1;34m(self, b)\u001b[0m\n\u001b[0;32m    584\u001b[0m         \u001b[1;32mwhile\u001b[0m \u001b[1;32mTrue\u001b[0m\u001b[1;33m:\u001b[0m\u001b[1;33m\u001b[0m\u001b[0m\n\u001b[0;32m    585\u001b[0m             \u001b[1;32mtry\u001b[0m\u001b[1;33m:\u001b[0m\u001b[1;33m\u001b[0m\u001b[0m\n\u001b[1;32m--> 586\u001b[1;33m                 \u001b[1;32mreturn\u001b[0m \u001b[0mself\u001b[0m\u001b[1;33m.\u001b[0m\u001b[0m_sock\u001b[0m\u001b[1;33m.\u001b[0m\u001b[0mrecv_into\u001b[0m\u001b[1;33m(\u001b[0m\u001b[0mb\u001b[0m\u001b[1;33m)\u001b[0m\u001b[1;33m\u001b[0m\u001b[0m\n\u001b[0m\u001b[0;32m    587\u001b[0m             \u001b[1;32mexcept\u001b[0m \u001b[0mtimeout\u001b[0m\u001b[1;33m:\u001b[0m\u001b[1;33m\u001b[0m\u001b[0m\n\u001b[0;32m    588\u001b[0m                 \u001b[0mself\u001b[0m\u001b[1;33m.\u001b[0m\u001b[0m_timeout_occurred\u001b[0m \u001b[1;33m=\u001b[0m \u001b[1;32mTrue\u001b[0m\u001b[1;33m\u001b[0m\u001b[0m\n",
      "\u001b[1;31mKeyboardInterrupt\u001b[0m: "
     ]
    }
   ],
   "source": [
    "# 데이터 수집 \n",
    "for j in range(0,47):\n",
    "    for i in range(1,6):\n",
    "        try:\n",
    "            comm = driver.find_element_by_xpath('//*[@id=\"viewReviewsList\"]/div/div/div/section['+ str(i) +']/div/div[2]/div/div[1]/h2').text\n",
    "            good_comm = driver.find_element_by_xpath('//*[@id=\"viewReviewsList\"]/div/div/div/section['+ str(i) +']/div/div[2]/div/dl/dd[1]').text\n",
    "            bad_comm = driver.find_element_by_xpath('//*[@id=\"viewReviewsList\"]/div/div/div/section['+ str(i) +']/div/div[2]/div/dl/dd[2]').text \n",
    "            category = driver.find_element_by_xpath('//*[@id=\"viewReviewsList\"]/div/div/div/section['+ str(i) +']/div/div[1]/span[2]').text\n",
    "            employment = driver.find_element_by_xpath('//*[@id=\"viewReviewsList\"]/div/div/div/section['+ str(i) +']/div/div[1]/span[4]').text\n",
    "            region = driver.find_element_by_xpath('//*[@id=\"viewReviewsList\"]/div/div/div/section['+ str(i) +']/div/div[1]/span[6]').text\n",
    "            date_comm = driver.find_element_by_xpath('//*[@id=\"viewReviewsList\"]/div/div/div/section['+ str(i) +']/div/div[1]/span[8]').text\n",
    "            hope_comm = driver.find_element_by_xpath('//*[@id=\"viewReviewsList\"]/div/div/div/section['+ str(i) +']/div/div[2]/div/dl/dd[3]').text\n",
    "            grow_bin = driver.find_element_by_xpath('//*[@id=\"viewReviewsList\"]/div/div/div/section['+ str(i) +']/div/div[2]/div/p[1]/strong').text\n",
    "            recomm = driver.find_element_by_xpath('//*[@id=\"viewReviewsList\"]/div/div/div/section['+ str(i) +']/div/div[2]/div/p[2]/em').text\n",
    "\n",
    "            comm_list.append(comm)\n",
    "            good_comm_list.append(good_comm) \n",
    "            bad_comm_list.append(bad_comm)\n",
    "            category_list.append(category)\n",
    "            employment_list.append(employment)\n",
    "            region_list.append(region)\n",
    "            date_comm_list.append(date_comm)\n",
    "            hope_comm_list.append(hope_comm)\n",
    "            grow_bin_list.append(grow_bin)\n",
    "            recomm_list.append(recomm)\n",
    "        \n",
    "        except Exception as e :\n",
    "            print('Error',i)\n",
    "\n",
    "        finally:\n",
    "            pass \n",
    "        \n",
    "    driver.find_element_by_xpath('//*[@id=\"viewReviewsList\"]/div/div/div/div[2]/article/a[7]').click()"
   ]
  },
  {
   "cell_type": "code",
   "execution_count": 17,
   "metadata": {},
   "outputs": [],
   "source": [
    "#브라우져 종료\n",
    "driver.quit()"
   ]
  },
  {
   "cell_type": "markdown",
   "metadata": {},
   "source": [
    "**수집한 데이터 저장**"
   ]
  },
  {
   "cell_type": "code",
   "execution_count": 18,
   "metadata": {},
   "outputs": [],
   "source": [
    "import pandas as pd "
   ]
  },
  {
   "cell_type": "code",
   "execution_count": 19,
   "metadata": {},
   "outputs": [
    {
     "name": "stdout",
     "output_type": "stream",
     "text": [
      "(71, 10)\n"
     ]
    },
    {
     "data": {
      "text/html": [
       "<div>\n",
       "<style scoped>\n",
       "    .dataframe tbody tr th:only-of-type {\n",
       "        vertical-align: middle;\n",
       "    }\n",
       "\n",
       "    .dataframe tbody tr th {\n",
       "        vertical-align: top;\n",
       "    }\n",
       "\n",
       "    .dataframe thead th {\n",
       "        text-align: right;\n",
       "    }\n",
       "</style>\n",
       "<table border=\"1\" class=\"dataframe\">\n",
       "  <thead>\n",
       "    <tr style=\"text-align: right;\">\n",
       "      <th></th>\n",
       "      <th>직종</th>\n",
       "      <th>재직여부</th>\n",
       "      <th>지역</th>\n",
       "      <th>작성시간</th>\n",
       "      <th>한줄평</th>\n",
       "      <th>기업장점</th>\n",
       "      <th>기업단점</th>\n",
       "      <th>바라는점</th>\n",
       "      <th>기업성장여부</th>\n",
       "      <th>기업추천여부</th>\n",
       "    </tr>\n",
       "  </thead>\n",
       "  <tbody>\n",
       "    <tr>\n",
       "      <td>0</td>\n",
       "      <td>서비스/고객지원</td>\n",
       "      <td>현직원</td>\n",
       "      <td>경기</td>\n",
       "      <td>2020. 08. 11</td>\n",
       "      <td>\"자유도가 높고 엔지니어의 역량을 펼칠수 있는곳\"</td>\n",
       "      <td>재택근무!!!! (코로나시즌) 연차 촉진, block leave, 자유로운 분위기,...</td>\n",
       "      <td>하이레벨로 갈수록 스피크업이 어렵다? 보고가많다, 고객바이 고객으로 업무강도가 달라...</td>\n",
       "      <td>효율적으로 일하는 회사가 되었으면! 재택근무 계속 하게 해주세요</td>\n",
       "      <td>성장</td>\n",
       "      <td>추천</td>\n",
       "    </tr>\n",
       "    <tr>\n",
       "      <td>1</td>\n",
       "      <td>서비스/고객지원</td>\n",
       "      <td>현직원</td>\n",
       "      <td>경기</td>\n",
       "      <td>2020. 07. 21</td>\n",
       "      <td>\"반도체 제조업 CS 회사중에서는 수준급, 그러나 업계 자체에 한계가 있음\"</td>\n",
       "      <td>최고의 기술력을 보유한 회사. 워라벨 및 급여 나쁘지 않습니다</td>\n",
       "      <td>기술력을 갖춘 회사이지만 ASML KOREA 는 연구개발을 하는 곳이 아니라 cus...</td>\n",
       "      <td>엔지니어를 홀대하는 문화가 만연합니다. 기술을 가진 엔지니어를 대우하는 회사였으면 ...</td>\n",
       "      <td>성장</td>\n",
       "      <td>추천</td>\n",
       "    </tr>\n",
       "    <tr>\n",
       "      <td>2</td>\n",
       "      <td>생산/제조</td>\n",
       "      <td>전직원</td>\n",
       "      <td>경기</td>\n",
       "      <td>2020. 07. 07</td>\n",
       "      <td>\"사회초년생에 고액연봉자 타이틀을 갖기 위한 목적이라면 강추, 그만큼 연봉은 쎄다(...</td>\n",
       "      <td>장비의 현상유지가 주 업무이기 때문에, 본인의 일만 잘하면 터치 받지 않음. 또한 ...</td>\n",
       "      <td>야간 근무가 체질상 맞지 않는 사람은 고됨. 3일 쉬어도 3일 쉬는게 아님</td>\n",
       "      <td>반도체 산업의 리더로서 자긍심을 더욱 가질 수 있도록 직원들을 격려 해줬으면 함</td>\n",
       "      <td>성장</td>\n",
       "      <td>추천</td>\n",
       "    </tr>\n",
       "    <tr>\n",
       "      <td>3</td>\n",
       "      <td>경영/기획/컨설팅</td>\n",
       "      <td>현직원</td>\n",
       "      <td>경기</td>\n",
       "      <td>2020. 07. 01</td>\n",
       "      <td>\"복지 좋고 기업 문화가 좋은 곳 글로벌 기업으로 다양한 사람들과 일할 수 있는 기...</td>\n",
       "      <td>복지가 우선적으로 좋습니다. 수평적인 분위기로 경직되지 않은 문화</td>\n",
       "      <td>야근이 있는 편이며 본사 확인이 필요한 건으로 인한 업무 지연 많음</td>\n",
       "      <td>업무지연에 대한 문제에 대해 해결책이 마련 되었으면 좋겠습니다</td>\n",
       "      <td>성장</td>\n",
       "      <td>추천</td>\n",
       "    </tr>\n",
       "    <tr>\n",
       "      <td>4</td>\n",
       "      <td>서비스/고객지원</td>\n",
       "      <td>현직원</td>\n",
       "      <td>경기</td>\n",
       "      <td>2020. 06. 30</td>\n",
       "      <td>\"반도체 회사인데 IT회사처럼 근무할 수 있는 그런 퀄리티 높은 업무를 맡을 수 있음.\"</td>\n",
       "      <td>너무 자유롭고 수평적인 분위기. 높은 연봉. 물론 모든 건 부서, 업무에 따라 다름.</td>\n",
       "      <td>복지 혜택에 있어서는 많이 부족하다고 느낌. 그냥 깡 돈만 많이 주는 느낌.</td>\n",
       "      <td>직원들의 복지 혜택을 많이 늘려줬으면 좋겠음. 연봉 외에도 만족할 부분이 많아져야 함.</td>\n",
       "      <td>성장</td>\n",
       "      <td>추천</td>\n",
       "    </tr>\n",
       "  </tbody>\n",
       "</table>\n",
       "</div>"
      ],
      "text/plain": [
       "          직종 재직여부  지역          작성시간  \\\n",
       "0   서비스/고객지원  현직원  경기  2020. 08. 11   \n",
       "1   서비스/고객지원  현직원  경기  2020. 07. 21   \n",
       "2      생산/제조  전직원  경기  2020. 07. 07   \n",
       "3  경영/기획/컨설팅  현직원  경기  2020. 07. 01   \n",
       "4   서비스/고객지원  현직원  경기  2020. 06. 30   \n",
       "\n",
       "                                                 한줄평  \\\n",
       "0                        \"자유도가 높고 엔지니어의 역량을 펼칠수 있는곳\"   \n",
       "1         \"반도체 제조업 CS 회사중에서는 수준급, 그러나 업계 자체에 한계가 있음\"   \n",
       "2  \"사회초년생에 고액연봉자 타이틀을 갖기 위한 목적이라면 강추, 그만큼 연봉은 쎄다(...   \n",
       "3  \"복지 좋고 기업 문화가 좋은 곳 글로벌 기업으로 다양한 사람들과 일할 수 있는 기...   \n",
       "4  \"반도체 회사인데 IT회사처럼 근무할 수 있는 그런 퀄리티 높은 업무를 맡을 수 있음.\"   \n",
       "\n",
       "                                                기업장점  \\\n",
       "0  재택근무!!!! (코로나시즌) 연차 촉진, block leave, 자유로운 분위기,...   \n",
       "1                 최고의 기술력을 보유한 회사. 워라벨 및 급여 나쁘지 않습니다   \n",
       "2  장비의 현상유지가 주 업무이기 때문에, 본인의 일만 잘하면 터치 받지 않음. 또한 ...   \n",
       "3               복지가 우선적으로 좋습니다. 수평적인 분위기로 경직되지 않은 문화   \n",
       "4    너무 자유롭고 수평적인 분위기. 높은 연봉. 물론 모든 건 부서, 업무에 따라 다름.   \n",
       "\n",
       "                                                기업단점  \\\n",
       "0  하이레벨로 갈수록 스피크업이 어렵다? 보고가많다, 고객바이 고객으로 업무강도가 달라...   \n",
       "1  기술력을 갖춘 회사이지만 ASML KOREA 는 연구개발을 하는 곳이 아니라 cus...   \n",
       "2          야간 근무가 체질상 맞지 않는 사람은 고됨. 3일 쉬어도 3일 쉬는게 아님   \n",
       "3              야근이 있는 편이며 본사 확인이 필요한 건으로 인한 업무 지연 많음   \n",
       "4         복지 혜택에 있어서는 많이 부족하다고 느낌. 그냥 깡 돈만 많이 주는 느낌.   \n",
       "\n",
       "                                                바라는점 기업성장여부 기업추천여부  \n",
       "0                효율적으로 일하는 회사가 되었으면! 재택근무 계속 하게 해주세요     성장     추천  \n",
       "1  엔지니어를 홀대하는 문화가 만연합니다. 기술을 가진 엔지니어를 대우하는 회사였으면 ...     성장     추천  \n",
       "2       반도체 산업의 리더로서 자긍심을 더욱 가질 수 있도록 직원들을 격려 해줬으면 함     성장     추천  \n",
       "3                 업무지연에 대한 문제에 대해 해결책이 마련 되었으면 좋겠습니다     성장     추천  \n",
       "4   직원들의 복지 혜택을 많이 늘려줬으면 좋겠음. 연봉 외에도 만족할 부분이 많아져야 함.     성장     추천  "
      ]
     },
     "execution_count": 19,
     "metadata": {},
     "output_type": "execute_result"
    }
   ],
   "source": [
    "df1 = pd.DataFrame({'직종':category_list,'재직여부':employment_list, '지역':region_list,\n",
    "              '작성시간':date_comm_list, '한줄평':comm_list, \n",
    "              '기업장점':good_comm_list, '기업단점':bad_comm_list,\n",
    "             '바라는점':hope_comm_list, '기업성장여부':grow_bin_list,\n",
    "             '기업추천여부':recomm_list})\n",
    "print(df1.shape)\n",
    "df1.head()"
   ]
  },
  {
   "cell_type": "code",
   "execution_count": 20,
   "metadata": {},
   "outputs": [],
   "source": [
    "df1.to_csv('result.csv')"
   ]
  },
  {
   "cell_type": "markdown",
   "metadata": {},
   "source": [
    "## 기타 Selenium 함수 "
   ]
  },
  {
   "cell_type": "markdown",
   "metadata": {},
   "source": [
    "**Headless를 활용한 데이터 자동 수집**\n",
    "\n",
    "- 브라우져를 화면에 띄우지 않고 메모리상에서만 올려서 크롤링하는 방법\n",
    "- window가 지원되지 않는 환경에서 사용이 가능\n",
    "- chrome version 60부터 지원"
   ]
  },
  {
   "cell_type": "markdown",
   "metadata": {},
   "source": [
    "**크롬 버젼확인**"
   ]
  },
  {
   "cell_type": "code",
   "execution_count": null,
   "metadata": {},
   "outputs": [],
   "source": [
    "driver_version = webdriver.Chrome()\n",
    "version = driver_version.capabilities[\"browserVersion\"]\n",
    "print(version)\n",
    "driver_version.quit()"
   ]
  },
  {
   "cell_type": "code",
   "execution_count": null,
   "metadata": {},
   "outputs": [],
   "source": [
    "options = webdriver.ChromeOptions()\n",
    "options.add_argument('headless')\n",
    "\n",
    "# driver 생성시 headless option 추가\n",
    "driver = webdriver.Chrome(options=options)\n",
    "driver.get(\"https://www.jobplanet.co.kr\")\n",
    "print(driver.title)"
   ]
  },
  {
   "cell_type": "markdown",
   "metadata": {},
   "source": [
    "**Alert 창 제거**\n",
    "- 크롤링이나 자동화를 하는 중간에 alert 메시지가 나오는 경우\n",
    "- 자동화를 계속 진행 하기 위해 alert 메시지를 제거 "
   ]
  },
  {
   "cell_type": "code",
   "execution_count": null,
   "metadata": {},
   "outputs": [],
   "source": [
    "driver = webdriver.Chrome()\n",
    "driver.get('https://www.data.go.kr/')"
   ]
  },
  {
   "cell_type": "code",
   "execution_count": null,
   "metadata": {},
   "outputs": [],
   "source": [
    "# 임의의 Alert 창 생성 \n",
    "driver.execute_script(\"alert('selenium test');\")"
   ]
  },
  {
   "cell_type": "code",
   "execution_count": null,
   "metadata": {},
   "outputs": [],
   "source": [
    "# alert 확인 버튼 누르기\n",
    "driver.switch_to.alert.accept()"
   ]
  },
  {
   "cell_type": "code",
   "execution_count": null,
   "metadata": {},
   "outputs": [],
   "source": [
    "print('Done')"
   ]
  }
 ],
 "metadata": {
  "kernelspec": {
   "display_name": "Python 3",
   "language": "python",
   "name": "python3"
  },
  "language_info": {
   "codemirror_mode": {
    "name": "ipython",
    "version": 3
   },
   "file_extension": ".py",
   "mimetype": "text/x-python",
   "name": "python",
   "nbconvert_exporter": "python",
   "pygments_lexer": "ipython3",
   "version": "3.6.5"
  },
  "toc": {
   "base_numbering": 1,
   "nav_menu": {},
   "number_sections": true,
   "sideBar": true,
   "skip_h1_title": false,
   "title_cell": "Table of Contents",
   "title_sidebar": "Contents",
   "toc_cell": false,
   "toc_position": {},
   "toc_section_display": true,
   "toc_window_display": false
  }
 },
 "nbformat": 4,
 "nbformat_minor": 2
}
