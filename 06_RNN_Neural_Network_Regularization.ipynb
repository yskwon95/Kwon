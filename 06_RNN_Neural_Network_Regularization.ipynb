{
 "cells": [
  {
   "cell_type": "markdown",
   "metadata": {},
   "source": [
    "# Feature Engineering (특성공학) "
   ]
  },
  {
   "cell_type": "markdown",
   "metadata": {},
   "source": [
    "**신경망을 위한 데이터 전처리**\n",
    "\n",
    "* 벡터화(Data Vectorization)\n",
    "    - 신경망내 모든 입력값과 목표값(Target)은 부동 소수데이터로 이루어진 Tensor이여야 함 \n",
    "    - 비정형 데이터를 신경망 알고리즘에 적용하기 위해 Tensor로 변환해야 함 \n",
    "   \n",
    "* 정규화 (Data Normalization)\n",
    "    - 신경망의 가중치 보다 큰 데이터이거나, 불균일한 데이터의 경우 모델 형성에 위험이 될 수 있음 \n",
    "    - 일반적으로 대부분의 input 값이 0 ~ 1사이를 가져야 한다\n",
    "    - 모든 특성이 대체로 비슷해야 한다 (균일성)\n",
    "   \n",
    "* 결측값 (Missing Data) \n",
    "    - 신경망 내에서 0값이 사전에 정의되어 있지 않다면, 결측값을 0으로 대처해도 좋다\n",
    "    - 누락 데이터를 0으로 훈련 한다면, 네트워크가 누락된 값을 무시하고 훈련이 진행됨  "
   ]
  },
  {
   "cell_type": "markdown",
   "metadata": {},
   "source": [
    "**특성공학**\n",
    "\n",
    "* 데이터를 간단한 형태로 변환하여 주어진 학습에 대한 문제를 쉽게 만든다 \n",
    "* 모델링에 있어서 딥러닝 이전엔 (머신러닝) 특성공학이 매우 중요한 부분으로 작용했다\n",
    "* 기존 머신러닝에서는 알고리즘이 데이터를 표현하는 방식에 따라 성공여부가 달라졌다 \n",
    "* 딥러닝에서는 특성공학이 크게 필요하지 않음 (원본데이터로 부터 유용한 특성을 찾을 수 있기 때문)\n",
    "    - 데이터가 적은경우 또는 모델의 성능을 극대화 하는 경우에는 사용해야함 "
   ]
  },
  {
   "cell_type": "markdown",
   "metadata": {},
   "source": [
    "# Overfitting & Underfitting\n",
    "\n",
    "* 최적화(Optimization)과 일반화(Generalization)의 Trade off \n",
    "    - 최적화(Optimization) : 모델을 최적의 성능으로 향상 시키는 것 \n",
    "    - 일반화(Generalization) : 모델에 다른 데이터가 들어가도 잘 작동 되는 것 \n",
    "    \n",
    "* 데이터 훈련 초기에는 훈련 데이터의 손실이 낮아질수록, 테스트데이터의 손실도 낮아짐 \n",
    "    - (underfitting: 모델의 최적의 성능이 안나옴 / 학습이 완전히 진행되지 않은 상태)\n",
    "* 일정 훈련을 지속하고 나면, 일반화가 더 이상 진행되지 않음 \n",
    "    - (overfitting이 시작됨, 다른 데이터에 대해 적용이 어려워 짐 / 훈련데이터에 특화된 특성만 학습을 시작 함)\n",
    "* 가장 좋은 방법은 훈련데이터를 많이 모으는 것\n",
    "* 그러나 더 많은 훈련데이터를 확보하는 것이 어려울 땐 **규제(Regularization)**을 적용     "
   ]
  },
  {
   "cell_type": "markdown",
   "metadata": {},
   "source": [
    "**Network 축소**\n",
    "* Overfitting을 조절하는 가장 간단한 방법으로, 모델에 있는 학습 파라미터(모델의 규모, Capacity)를 줄이는 것 \n",
    "    - 파라미터의 크기는 층 수와, 각 층의 Unit 수에 의해 결정된다.\n",
    "    - DeepLearning에서 Model에 있는 학습 Parameter 수를 모델의 **Capacity** 라고 표현 (Layer 수, Unit 수)\n",
    "    - Capacity가 많을 수록 Optimization은 잘 되지만, Generalization은 점점 어려워 진다 \n",
    "    - Loss를 최소화 하기 위한 Target에 대한 압축된 표현(Capacity가 조절 된)을 학습해야함 \n",
    "    - 적은 층의 Capacity로 시작해 Test의 Loss가 감소할 때 까지, Capacity를 점진적으로 늘려가면서 Model을 생성하는 것이 좋다 "
   ]
  },
  {
   "cell_type": "markdown",
   "metadata": {},
   "source": [
    "**DropOut**\n",
    "\n",
    "* 신경망 규제 방법 중 하나로, 가장 효과적인 방법 \n",
    "* 특정 Network 층에 Dropout을 적용하면, 훈련 중 무작위로 Layer의 일부 특성을 제외시킨다. \n",
    "* Test 단계에서는 Drop out이 발생하지 않으나, 출력값이 Drop out 비율에 비례하여 줄어 듦\n",
    "* Neural 간 특정 특성에 대한 학습을 방지하고(훈련 세트의 독특한 특성을 학습해 일반화를 저하시키는 특성을 제거) Overfitting을 감소시키는 효과 "
   ]
  },
  {
   "cell_type": "markdown",
   "metadata": {},
   "source": [
    "# Project. Kick Starter"
   ]
  },
  {
   "cell_type": "markdown",
   "metadata": {},
   "source": [
    "**Example Data**\n",
    "\n",
    "* Kickstarter의 Funded Data를 시계열 분석을 통해 성공예측모델 생성 \n",
    "* 모금기간의 1/3 지점의 Data를 가져와, 모금진행도가 100%가 되는 날짜를 예측 하는 것이 목적 \n",
    "* 프로젝트마다 모금기간이 다르며, 각 프로젝트에 특성을 추가 할 시 모델 정확도에 어떤 영향이 있는지 확인\n",
    "* LSTM 알고리즘을 사용/ Dropout 및 Regularization의 적용 여부 판단 "
   ]
  },
  {
   "cell_type": "markdown",
   "metadata": {},
   "source": [
    "**데이터에 대한 제언**\n",
    "\n",
    " - 특정프로젝트의 모금 완료 날짜를 예측하려면, 데이터를 프로젝트 별로 모델을 생성하거나, 프로젝트 분류 별로(항목, 예를 들면 art 부분 만)가져와서 분석을 진행 해야합니다. \n",
    " - 1/3 지점의 데이터를 가져와 모델을 생성한다고 했는데, 그럼 자동화 시스템을 구축해하여, 전체 Project 기간 중 1/3 지점을 지날 때, 데이터를 수집해 각각 Model에 의한 예측값을 계산해야 합니다. (매우 복잡한 시스템을 구축해야 할 것 입니다.)\n",
    " - 크롤링 기간도 짧아서 사실상 Time Series를 만들기엔 데이터가 너무 부족합니다.\n",
    " - TimeSeries 형태로 특정 일자에 Target값을 예측하기엔, 설명데이터가 불필요해 보입니다. \n",
    " \n",
    " \n",
    "**수업을 위한 단순화**\n",
    "\n",
    "1. \n",
    "     - 목표금액에서 현재모금된 금액의 차이를 계산하여 해당 차액(목표금액까지 남은 금액)을 Target으로 시계열에 따라 예측 실시 \n",
    "     - 가장 모금 기간이 긴 Tag를 추출해와서 해당 데이터에 대한 모델을 생성 \n",
    "     - Regularization과 dropout을 적용하기 위해, Capacity를 점진적으로 개선 \n",
    " \n",
    " \n",
    "2.  \n",
    "    - 앞서 전처리한 시계열 데이터에 대한 전체 통계량을 계산 "
   ]
  },
  {
   "cell_type": "markdown",
   "metadata": {},
   "source": [
    "**라이브러리 호출**"
   ]
  },
  {
   "cell_type": "code",
   "execution_count": 4,
   "metadata": {},
   "outputs": [],
   "source": [
    "import pandas as pd \n",
    "import numpy as np \n",
    "import seaborn as sns "
   ]
  },
  {
   "cell_type": "code",
   "execution_count": 250,
   "metadata": {},
   "outputs": [],
   "source": [
    "from keras.models import Model \n",
    "from keras.models import Sequential\n",
    "from keras.layers import Dense\n",
    "from keras.layers import LSTM\n",
    "from keras.layers import Bidirectional\n",
    "from keras.layers import Dropout\n",
    "\n",
    "from keras.preprocessing.sequence import pad_sequences"
   ]
  },
  {
   "cell_type": "markdown",
   "metadata": {},
   "source": [
    "**데이터 호출 및 전처리**"
   ]
  },
  {
   "cell_type": "code",
   "execution_count": 70,
   "metadata": {},
   "outputs": [
    {
     "name": "stdout",
     "output_type": "stream",
     "text": [
      "(536493, 18)\n"
     ]
    },
    {
     "data": {
      "text/html": [
       "<div>\n",
       "<style scoped>\n",
       "    .dataframe tbody tr th:only-of-type {\n",
       "        vertical-align: middle;\n",
       "    }\n",
       "\n",
       "    .dataframe tbody tr th {\n",
       "        vertical-align: top;\n",
       "    }\n",
       "\n",
       "    .dataframe thead th {\n",
       "        text-align: right;\n",
       "    }\n",
       "</style>\n",
       "<table border=\"1\" class=\"dataframe\">\n",
       "  <thead>\n",
       "    <tr style=\"text-align: right;\">\n",
       "      <th></th>\n",
       "      <th>Project ID</th>\n",
       "      <th>Title</th>\n",
       "      <th>URL</th>\n",
       "      <th>DayN</th>\n",
       "      <th>Crawling Date</th>\n",
       "      <th>Backers</th>\n",
       "      <th>Pledge</th>\n",
       "      <th>Funded</th>\n",
       "      <th>DaysToGo</th>\n",
       "      <th>Rank_Magic</th>\n",
       "      <th>Rank_Popularity</th>\n",
       "      <th>Rank_Most_Funded</th>\n",
       "      <th>Rank_S_Magic</th>\n",
       "      <th>Rank_S_Popularity</th>\n",
       "      <th>Rank_S_Newest</th>\n",
       "      <th>Rank_S_End_Date</th>\n",
       "      <th>Rank_S_Most_Funded</th>\n",
       "      <th>Rewards...</th>\n",
       "    </tr>\n",
       "  </thead>\n",
       "  <tbody>\n",
       "    <tr>\n",
       "      <td>0</td>\n",
       "      <td>prjt1</td>\n",
       "      <td>Give Ear Gospel Songs by Michael hathaway — Ki...</td>\n",
       "      <td>https://www.kickstarter.com/projects/dancineag...</td>\n",
       "      <td>1</td>\n",
       "      <td>2015-11-16</td>\n",
       "      <td>0.0</td>\n",
       "      <td>0.0</td>\n",
       "      <td>0.0</td>\n",
       "      <td>19.0</td>\n",
       "      <td>0.0</td>\n",
       "      <td>0.0</td>\n",
       "      <td>0.0</td>\n",
       "      <td>0.0</td>\n",
       "      <td>0.0</td>\n",
       "      <td>0.0</td>\n",
       "      <td>0.0</td>\n",
       "      <td>0.0</td>\n",
       "      <td>NaN</td>\n",
       "    </tr>\n",
       "    <tr>\n",
       "      <td>1</td>\n",
       "      <td>prjt1</td>\n",
       "      <td>NaN</td>\n",
       "      <td>NaN</td>\n",
       "      <td>2</td>\n",
       "      <td>2015-11-17</td>\n",
       "      <td>0.0</td>\n",
       "      <td>0.0</td>\n",
       "      <td>0.0</td>\n",
       "      <td>18.0</td>\n",
       "      <td>0.0</td>\n",
       "      <td>0.0</td>\n",
       "      <td>0.0</td>\n",
       "      <td>0.0</td>\n",
       "      <td>0.0</td>\n",
       "      <td>0.0</td>\n",
       "      <td>0.0</td>\n",
       "      <td>0.0</td>\n",
       "      <td>NaN</td>\n",
       "    </tr>\n",
       "    <tr>\n",
       "      <td>2</td>\n",
       "      <td>prjt1</td>\n",
       "      <td>NaN</td>\n",
       "      <td>NaN</td>\n",
       "      <td>3</td>\n",
       "      <td>2015-11-18</td>\n",
       "      <td>0.0</td>\n",
       "      <td>0.0</td>\n",
       "      <td>0.0</td>\n",
       "      <td>17.0</td>\n",
       "      <td>0.0</td>\n",
       "      <td>0.0</td>\n",
       "      <td>0.0</td>\n",
       "      <td>0.0</td>\n",
       "      <td>0.0</td>\n",
       "      <td>0.0</td>\n",
       "      <td>0.0</td>\n",
       "      <td>0.0</td>\n",
       "      <td>NaN</td>\n",
       "    </tr>\n",
       "    <tr>\n",
       "      <td>3</td>\n",
       "      <td>prjt1</td>\n",
       "      <td>NaN</td>\n",
       "      <td>NaN</td>\n",
       "      <td>4</td>\n",
       "      <td>2015-11-19</td>\n",
       "      <td>0.0</td>\n",
       "      <td>0.0</td>\n",
       "      <td>0.0</td>\n",
       "      <td>16.0</td>\n",
       "      <td>0.0</td>\n",
       "      <td>0.0</td>\n",
       "      <td>0.0</td>\n",
       "      <td>0.0</td>\n",
       "      <td>0.0</td>\n",
       "      <td>0.0</td>\n",
       "      <td>0.0</td>\n",
       "      <td>0.0</td>\n",
       "      <td>NaN</td>\n",
       "    </tr>\n",
       "    <tr>\n",
       "      <td>4</td>\n",
       "      <td>prjt1</td>\n",
       "      <td>NaN</td>\n",
       "      <td>NaN</td>\n",
       "      <td>5</td>\n",
       "      <td>2015-11-20</td>\n",
       "      <td>0.0</td>\n",
       "      <td>0.0</td>\n",
       "      <td>0.0</td>\n",
       "      <td>15.0</td>\n",
       "      <td>0.0</td>\n",
       "      <td>0.0</td>\n",
       "      <td>0.0</td>\n",
       "      <td>0.0</td>\n",
       "      <td>0.0</td>\n",
       "      <td>0.0</td>\n",
       "      <td>0.0</td>\n",
       "      <td>0.0</td>\n",
       "      <td>NaN</td>\n",
       "    </tr>\n",
       "  </tbody>\n",
       "</table>\n",
       "</div>"
      ],
      "text/plain": [
       "  Project ID                                              Title  ... Rank_S_Most_Funded  Rewards...\n",
       "0      prjt1  Give Ear Gospel Songs by Michael hathaway — Ki...  ...                0.0         NaN\n",
       "1      prjt1                                                NaN  ...                0.0         NaN\n",
       "2      prjt1                                                NaN  ...                0.0         NaN\n",
       "3      prjt1                                                NaN  ...                0.0         NaN\n",
       "4      prjt1                                                NaN  ...                0.0         NaN\n",
       "\n",
       "[5 rows x 18 columns]"
      ]
     },
     "execution_count": 70,
     "metadata": {},
     "output_type": "execute_result"
    }
   ],
   "source": [
    "df1 = pd.read_excel(\"Daily_refactoring_daily 20160429.xlsx\")\n",
    "print(df1.shape)\n",
    "df1.head()"
   ]
  },
  {
   "cell_type": "markdown",
   "metadata": {},
   "source": [
    "* 가장 모금기간이 긴 Project ID 확인"
   ]
  },
  {
   "cell_type": "code",
   "execution_count": 76,
   "metadata": {},
   "outputs": [
    {
     "name": "stdout",
     "output_type": "stream",
     "text": [
      "(20502, 36)\n"
     ]
    },
    {
     "data": {
      "text/html": [
       "<div>\n",
       "<style scoped>\n",
       "    .dataframe tbody tr th:only-of-type {\n",
       "        vertical-align: middle;\n",
       "    }\n",
       "\n",
       "    .dataframe tbody tr th {\n",
       "        vertical-align: top;\n",
       "    }\n",
       "\n",
       "    .dataframe thead th {\n",
       "        text-align: right;\n",
       "    }\n",
       "</style>\n",
       "<table border=\"1\" class=\"dataframe\">\n",
       "  <thead>\n",
       "    <tr style=\"text-align: right;\">\n",
       "      <th></th>\n",
       "      <th>Project ID</th>\n",
       "      <th>Title</th>\n",
       "      <th>URL</th>\n",
       "      <th>Backers</th>\n",
       "      <th>Pledge</th>\n",
       "      <th>Funded</th>\n",
       "      <th>Country</th>\n",
       "      <th>CountryCode</th>\n",
       "      <th>ShortDescription</th>\n",
       "      <th>VideoCount</th>\n",
       "      <th>ImageCount</th>\n",
       "      <th>WebSiteURL</th>\n",
       "      <th>WebSiteCode</th>\n",
       "      <th>Tag</th>\n",
       "      <th>TagCode</th>\n",
       "      <th>Goal</th>\n",
       "      <th>Period</th>\n",
       "      <th>StartDate</th>\n",
       "      <th>EndDate</th>\n",
       "      <th>Creator</th>\n",
       "      <th>Creator Ind</th>\n",
       "      <th>Location</th>\n",
       "      <th>LocationCode</th>\n",
       "      <th>ShortBio</th>\n",
       "      <th>SNS</th>\n",
       "      <th>Fiends</th>\n",
       "      <th>Created</th>\n",
       "      <th>Created Success</th>\n",
       "      <th>Backed</th>\n",
       "      <th>Backed Success</th>\n",
       "      <th>Total Rewards</th>\n",
       "      <th>Comments Creator</th>\n",
       "      <th>Comments User</th>\n",
       "      <th>Total Updates</th>\n",
       "      <th>Updates Likes</th>\n",
       "      <th>Updates Comments</th>\n",
       "    </tr>\n",
       "  </thead>\n",
       "  <tbody>\n",
       "    <tr>\n",
       "      <td>0</td>\n",
       "      <td>prjt1</td>\n",
       "      <td>Give Ear Gospel Songs by Michael hathaway — Ki...</td>\n",
       "      <td>https://www.kickstarter.com/projects/dancineag...</td>\n",
       "      <td>0.0</td>\n",
       "      <td>0.00</td>\n",
       "      <td>0.00</td>\n",
       "      <td>Nashville, TN</td>\n",
       "      <td>1.0</td>\n",
       "      <td>In order to finish my album I need 4800.00 to ...</td>\n",
       "      <td>0.0</td>\n",
       "      <td>0.0</td>\n",
       "      <td>No URL</td>\n",
       "      <td>0.0</td>\n",
       "      <td>Faith</td>\n",
       "      <td>13.0</td>\n",
       "      <td>4800.00</td>\n",
       "      <td>19.0</td>\n",
       "      <td>Mon, 16 Nov 2015</td>\n",
       "      <td>Sun, 06 Dec 2015</td>\n",
       "      <td>Michael Hathaway</td>\n",
       "      <td>Michael hathaway</td>\n",
       "      <td>Camden, TN</td>\n",
       "      <td>1.0</td>\n",
       "      <td>singer songwriter and recording artist of inst...</td>\n",
       "      <td>1.0</td>\n",
       "      <td>26.0</td>\n",
       "      <td>1.0</td>\n",
       "      <td>0.0</td>\n",
       "      <td>0.0</td>\n",
       "      <td>0.0</td>\n",
       "      <td>1.0</td>\n",
       "      <td>0.0</td>\n",
       "      <td>0.0</td>\n",
       "      <td>0.0</td>\n",
       "      <td>0.0</td>\n",
       "      <td>0.0</td>\n",
       "    </tr>\n",
       "    <tr>\n",
       "      <td>1</td>\n",
       "      <td>prjt2</td>\n",
       "      <td>Mentally Strong Book by Michelle Jacobi — Kick...</td>\n",
       "      <td>https://www.kickstarter.com/projects/85040221/...</td>\n",
       "      <td>4.0</td>\n",
       "      <td>1140.00</td>\n",
       "      <td>11.40</td>\n",
       "      <td>Marsing, ID</td>\n",
       "      <td>1.0</td>\n",
       "      <td>After an MS diagnosis at age 29, Michelle Jaco...</td>\n",
       "      <td>0.0</td>\n",
       "      <td>0.0</td>\n",
       "      <td>http://www.mentallystrong.life</td>\n",
       "      <td>1.0</td>\n",
       "      <td>Publishing</td>\n",
       "      <td>13.0</td>\n",
       "      <td>10000.00</td>\n",
       "      <td>30.0</td>\n",
       "      <td>Mon, 16 Nov 2015</td>\n",
       "      <td>Wed, 16 Dec 2015</td>\n",
       "      <td>Michelle Lynne Jacobi</td>\n",
       "      <td>Michelle Jacobi</td>\n",
       "      <td>Marsing, ID</td>\n",
       "      <td>1.0</td>\n",
       "      <td>Michelle Jacobi started to make a name for her...</td>\n",
       "      <td>1.0</td>\n",
       "      <td>2873.0</td>\n",
       "      <td>11.0</td>\n",
       "      <td>0.0</td>\n",
       "      <td>0.0</td>\n",
       "      <td>0.0</td>\n",
       "      <td>9.0</td>\n",
       "      <td>0.0</td>\n",
       "      <td>0.0</td>\n",
       "      <td>0.0</td>\n",
       "      <td>0.0</td>\n",
       "      <td>0.0</td>\n",
       "    </tr>\n",
       "    <tr>\n",
       "      <td>2</td>\n",
       "      <td>prjt3</td>\n",
       "      <td>High Quality Delta 3D Printer For Everybode by...</td>\n",
       "      <td>https://www.kickstarter.com/projects/107477096...</td>\n",
       "      <td>0.0</td>\n",
       "      <td>0.00</td>\n",
       "      <td>0.00</td>\n",
       "      <td>Deutsch, Germany</td>\n",
       "      <td>6.0</td>\n",
       "      <td>Hi, my name is Jörn. I would like to create a ...</td>\n",
       "      <td>0.0</td>\n",
       "      <td>0.0</td>\n",
       "      <td>No URL</td>\n",
       "      <td>0.0</td>\n",
       "      <td>3D Printing</td>\n",
       "      <td>1.0</td>\n",
       "      <td>5361.53</td>\n",
       "      <td>30.0</td>\n",
       "      <td>Mon, 16 Nov 2015</td>\n",
       "      <td>Wed, 16 Dec 2015</td>\n",
       "      <td>Jörn Phillipp Optatzi</td>\n",
       "      <td>Jörn Optatzi</td>\n",
       "      <td>Lohmar, Germany</td>\n",
       "      <td>6.0</td>\n",
       "      <td>Ich bin derzeit noch Schüler eines Gymnasiums....</td>\n",
       "      <td>1.0</td>\n",
       "      <td>583.0</td>\n",
       "      <td>1.0</td>\n",
       "      <td>0.0</td>\n",
       "      <td>0.0</td>\n",
       "      <td>0.0</td>\n",
       "      <td>2.0</td>\n",
       "      <td>0.0</td>\n",
       "      <td>0.0</td>\n",
       "      <td>0.0</td>\n",
       "      <td>0.0</td>\n",
       "      <td>0.0</td>\n",
       "    </tr>\n",
       "    <tr>\n",
       "      <td>3</td>\n",
       "      <td>prjt4</td>\n",
       "      <td>United - Helping hand by Marco Da Veiga — Kick...</td>\n",
       "      <td>https://www.kickstarter.com/projects/318423328...</td>\n",
       "      <td>1.0</td>\n",
       "      <td>34.51</td>\n",
       "      <td>0.10</td>\n",
       "      <td>Oslo, Norway</td>\n",
       "      <td>9.0</td>\n",
       "      <td>I am creating my dream. My love and passion fo...</td>\n",
       "      <td>0.0</td>\n",
       "      <td>3.0</td>\n",
       "      <td>http://www.soundcloud.com/marcodaveiga</td>\n",
       "      <td>1.0</td>\n",
       "      <td>Music</td>\n",
       "      <td>11.0</td>\n",
       "      <td>34513.70</td>\n",
       "      <td>30.0</td>\n",
       "      <td>Mon, 16 Nov 2015</td>\n",
       "      <td>Wed, 16 Dec 2015</td>\n",
       "      <td>Marco Da Veiga</td>\n",
       "      <td>Marco Da Veiga</td>\n",
       "      <td>Strømmen, Norway</td>\n",
       "      <td>9.0</td>\n",
       "      <td>Marco Da Veiga, born in Norway, but from the C...</td>\n",
       "      <td>1.0</td>\n",
       "      <td>4675.0</td>\n",
       "      <td>1.0</td>\n",
       "      <td>0.0</td>\n",
       "      <td>0.0</td>\n",
       "      <td>0.0</td>\n",
       "      <td>4.0</td>\n",
       "      <td>0.0</td>\n",
       "      <td>0.0</td>\n",
       "      <td>7.0</td>\n",
       "      <td>2.0</td>\n",
       "      <td>0.0</td>\n",
       "    </tr>\n",
       "    <tr>\n",
       "      <td>4</td>\n",
       "      <td>prjt5</td>\n",
       "      <td>UNCLIP - Quick Release Carabiner/Bottle Opener...</td>\n",
       "      <td>https://www.kickstarter.com/projects/unsettle/...</td>\n",
       "      <td>1510.0</td>\n",
       "      <td>52471.00</td>\n",
       "      <td>1049.42</td>\n",
       "      <td>San Diego, CA</td>\n",
       "      <td>1.0</td>\n",
       "      <td>Unclip is a Quick Release Carabiner/ Bottle Op...</td>\n",
       "      <td>0.0</td>\n",
       "      <td>39.0</td>\n",
       "      <td>http://www.unsettleco.com</td>\n",
       "      <td>1.0</td>\n",
       "      <td>Product Design</td>\n",
       "      <td>5.0</td>\n",
       "      <td>5000.00</td>\n",
       "      <td>59.0</td>\n",
       "      <td>Mon, 16 Nov 2015</td>\n",
       "      <td>Fri, 15 Jan 2016</td>\n",
       "      <td>Charlie Yip</td>\n",
       "      <td>Unsettle &amp; Co</td>\n",
       "      <td>San Diego, CA</td>\n",
       "      <td>1.0</td>\n",
       "      <td>Unsettle &amp; Co is an urban design company based...</td>\n",
       "      <td>0.0</td>\n",
       "      <td>0.0</td>\n",
       "      <td>1.0</td>\n",
       "      <td>0.0</td>\n",
       "      <td>0.0</td>\n",
       "      <td>4.0</td>\n",
       "      <td>8.0</td>\n",
       "      <td>18.0</td>\n",
       "      <td>31.0</td>\n",
       "      <td>13.0</td>\n",
       "      <td>88.0</td>\n",
       "      <td>13.0</td>\n",
       "    </tr>\n",
       "  </tbody>\n",
       "</table>\n",
       "</div>"
      ],
      "text/plain": [
       "  Project ID                                              Title  ... Updates Likes  Updates Comments\n",
       "0      prjt1  Give Ear Gospel Songs by Michael hathaway — Ki...  ...           0.0               0.0\n",
       "1      prjt2  Mentally Strong Book by Michelle Jacobi — Kick...  ...           0.0               0.0\n",
       "2      prjt3  High Quality Delta 3D Printer For Everybode by...  ...           0.0               0.0\n",
       "3      prjt4  United - Helping hand by Marco Da Veiga — Kick...  ...           2.0               0.0\n",
       "4      prjt5  UNCLIP - Quick Release Carabiner/Bottle Opener...  ...          88.0              13.0\n",
       "\n",
       "[5 rows x 36 columns]"
      ]
     },
     "execution_count": 76,
     "metadata": {},
     "output_type": "execute_result"
    }
   ],
   "source": [
    "df2 = pd.read_excel(\"Daily_refactoring_final 20160429.xlsx\")\n",
    "print(df2.shape)\n",
    "df2.head()"
   ]
  },
  {
   "cell_type": "code",
   "execution_count": 77,
   "metadata": {
    "scrolled": false
   },
   "outputs": [
    {
     "data": {
      "text/html": [
       "<div>\n",
       "<style scoped>\n",
       "    .dataframe tbody tr th:only-of-type {\n",
       "        vertical-align: middle;\n",
       "    }\n",
       "\n",
       "    .dataframe tbody tr th {\n",
       "        vertical-align: top;\n",
       "    }\n",
       "\n",
       "    .dataframe thead th {\n",
       "        text-align: right;\n",
       "    }\n",
       "</style>\n",
       "<table border=\"1\" class=\"dataframe\">\n",
       "  <thead>\n",
       "    <tr style=\"text-align: right;\">\n",
       "      <th></th>\n",
       "      <th>Project ID</th>\n",
       "      <th>Title</th>\n",
       "      <th>URL</th>\n",
       "      <th>Backers</th>\n",
       "      <th>Pledge</th>\n",
       "      <th>Funded</th>\n",
       "      <th>Country</th>\n",
       "      <th>CountryCode</th>\n",
       "      <th>ShortDescription</th>\n",
       "      <th>VideoCount</th>\n",
       "      <th>ImageCount</th>\n",
       "      <th>WebSiteURL</th>\n",
       "      <th>WebSiteCode</th>\n",
       "      <th>Tag</th>\n",
       "      <th>TagCode</th>\n",
       "      <th>Goal</th>\n",
       "      <th>Period</th>\n",
       "      <th>StartDate</th>\n",
       "      <th>EndDate</th>\n",
       "      <th>Creator</th>\n",
       "      <th>Creator Ind</th>\n",
       "      <th>Location</th>\n",
       "      <th>LocationCode</th>\n",
       "      <th>ShortBio</th>\n",
       "      <th>SNS</th>\n",
       "      <th>Fiends</th>\n",
       "      <th>Created</th>\n",
       "      <th>Created Success</th>\n",
       "      <th>Backed</th>\n",
       "      <th>Backed Success</th>\n",
       "      <th>Total Rewards</th>\n",
       "      <th>Comments Creator</th>\n",
       "      <th>Comments User</th>\n",
       "      <th>Total Updates</th>\n",
       "      <th>Updates Likes</th>\n",
       "      <th>Updates Comments</th>\n",
       "    </tr>\n",
       "  </thead>\n",
       "  <tbody>\n",
       "    <tr>\n",
       "      <td>13373</td>\n",
       "      <td>prjt12826</td>\n",
       "      <td>\\nTAMANGO by Bors &amp; Ritiu, Claudia Radulescu, ...</td>\n",
       "      <td>https://www.kickstarter.com/projects/192116386...</td>\n",
       "      <td>9.0</td>\n",
       "      <td>308.05</td>\n",
       "      <td>4.31</td>\n",
       "      <td>Brussels, Belgium</td>\n",
       "      <td>9.0</td>\n",
       "      <td>Help us finish Tamango`s sculpture and bring i...</td>\n",
       "      <td>0.0</td>\n",
       "      <td>11.0</td>\n",
       "      <td>https://www.facebook.com/TAMANGO-800668093384611/</td>\n",
       "      <td>1.0</td>\n",
       "      <td>Sculpture</td>\n",
       "      <td>3.0</td>\n",
       "      <td>7151.27</td>\n",
       "      <td>62.0</td>\n",
       "      <td>Tue, 23 Feb 2016</td>\n",
       "      <td>Tue, 26 Apr 2016</td>\n",
       "      <td>koen van sande</td>\n",
       "      <td>TAMANGO</td>\n",
       "      <td>Brussels, Belgium</td>\n",
       "      <td>9.0</td>\n",
       "      <td>bors-ritiu.com/</td>\n",
       "      <td>0.0</td>\n",
       "      <td>0.0</td>\n",
       "      <td>1.0</td>\n",
       "      <td>0.0</td>\n",
       "      <td>0.0</td>\n",
       "      <td>0.0</td>\n",
       "      <td>4.0</td>\n",
       "      <td>0.0</td>\n",
       "      <td>0.0</td>\n",
       "      <td>0.0</td>\n",
       "      <td>0.0</td>\n",
       "      <td>0.0</td>\n",
       "    </tr>\n",
       "    <tr>\n",
       "      <td>13906</td>\n",
       "      <td>prjt13355</td>\n",
       "      <td>\\n4LMNTS - Cycling &amp; Triathlon ActiveWear for ...</td>\n",
       "      <td>https://www.kickstarter.com/projects/4lmnts/4l...</td>\n",
       "      <td>17.0</td>\n",
       "      <td>2333.26</td>\n",
       "      <td>106.00</td>\n",
       "      <td>Brussels, Belgium</td>\n",
       "      <td>9.0</td>\n",
       "      <td>Activewear for women to swim, bike and run in ...</td>\n",
       "      <td>0.0</td>\n",
       "      <td>6.0</td>\n",
       "      <td>http://www.4lmnts.eu</td>\n",
       "      <td>1.0</td>\n",
       "      <td>Apparel</td>\n",
       "      <td>6.0</td>\n",
       "      <td>2201.19</td>\n",
       "      <td>62.0</td>\n",
       "      <td>Sat, 27 Feb 2016</td>\n",
       "      <td>Sat, 30 Apr 2016</td>\n",
       "      <td>Marie-Laure Clement</td>\n",
       "      <td>Marie-Laure &amp; Astrid</td>\n",
       "      <td>Brussels, Belgium</td>\n",
       "      <td>9.0</td>\n",
       "      <td>Marie-Laure, Business Engineer, and Astrid, La...</td>\n",
       "      <td>0.0</td>\n",
       "      <td>0.0</td>\n",
       "      <td>1.0</td>\n",
       "      <td>0.0</td>\n",
       "      <td>0.0</td>\n",
       "      <td>0.0</td>\n",
       "      <td>5.0</td>\n",
       "      <td>0.0</td>\n",
       "      <td>0.0</td>\n",
       "      <td>2.0</td>\n",
       "      <td>0.0</td>\n",
       "      <td>0.0</td>\n",
       "    </tr>\n",
       "    <tr>\n",
       "      <td>3844</td>\n",
       "      <td>prjt3803</td>\n",
       "      <td>\\nHelp Young Catholic Latinos Grow In Their Fa...</td>\n",
       "      <td>https://www.kickstarter.com/projects/110135601...</td>\n",
       "      <td>0.0</td>\n",
       "      <td>0.00</td>\n",
       "      <td>0.00</td>\n",
       "      <td>Apache, OK</td>\n",
       "      <td>1.0</td>\n",
       "      <td>Help young Americans and Latinos Grow in their...</td>\n",
       "      <td>0.0</td>\n",
       "      <td>2.0</td>\n",
       "      <td>No URL</td>\n",
       "      <td>0.0</td>\n",
       "      <td>Children's Books</td>\n",
       "      <td>2.0</td>\n",
       "      <td>15000.00</td>\n",
       "      <td>60.0</td>\n",
       "      <td>Thu, 10 Dec 2015</td>\n",
       "      <td>Mon, 08 Feb 2016</td>\n",
       "      <td>Samuel  Ottenwalder</td>\n",
       "      <td>Samuel Ottenwalder</td>\n",
       "      <td>Cyril, OK</td>\n",
       "      <td>1.0</td>\n",
       "      <td>Hi, everyone I'm Samuel Ottenwalder, you can c...</td>\n",
       "      <td>1.0</td>\n",
       "      <td>0.0</td>\n",
       "      <td>7.0</td>\n",
       "      <td>0.0</td>\n",
       "      <td>0.0</td>\n",
       "      <td>0.0</td>\n",
       "      <td>2.0</td>\n",
       "      <td>0.0</td>\n",
       "      <td>0.0</td>\n",
       "      <td>0.0</td>\n",
       "      <td>0.0</td>\n",
       "      <td>0.0</td>\n",
       "    </tr>\n",
       "  </tbody>\n",
       "</table>\n",
       "</div>"
      ],
      "text/plain": [
       "      Project ID                                              Title  ... Updates Likes  Updates Comments\n",
       "13373  prjt12826  \\nTAMANGO by Bors & Ritiu, Claudia Radulescu, ...  ...           0.0               0.0\n",
       "13906  prjt13355  \\n4LMNTS - Cycling & Triathlon ActiveWear for ...  ...           0.0               0.0\n",
       "3844    prjt3803  \\nHelp Young Catholic Latinos Grow In Their Fa...  ...           0.0               0.0\n",
       "\n",
       "[3 rows x 36 columns]"
      ]
     },
     "execution_count": 77,
     "metadata": {},
     "output_type": "execute_result"
    }
   ],
   "source": [
    "df2.sort_values(by='Period',ascending=False).head(3)"
   ]
  },
  {
   "cell_type": "markdown",
   "metadata": {},
   "source": [
    "* 시계열 데이터에 설명데이터 결합 "
   ]
  },
  {
   "cell_type": "code",
   "execution_count": 132,
   "metadata": {},
   "outputs": [],
   "source": [
    "cond1 = (df1['Project ID'] =='prjt12826')\n",
    "data1 = df1.loc[cond1]"
   ]
  },
  {
   "cell_type": "markdown",
   "metadata": {},
   "source": [
    "* 분석에 필요한 데이터 추출 "
   ]
  },
  {
   "cell_type": "code",
   "execution_count": 133,
   "metadata": {},
   "outputs": [
    {
     "data": {
      "text/plain": [
       "Index(['Project ID', 'Title', 'URL', 'DayN', 'Crawling Date', 'Backers',\n",
       "       'Pledge', 'Funded', 'DaysToGo', 'Rank_Magic', 'Rank_Popularity',\n",
       "       'Rank_Most_Funded', 'Rank_S_Magic', 'Rank_S_Popularity',\n",
       "       'Rank_S_Newest', 'Rank_S_End_Date', 'Rank_S_Most_Funded', 'Rewards...'],\n",
       "      dtype='object')"
      ]
     },
     "execution_count": 133,
     "metadata": {},
     "output_type": "execute_result"
    }
   ],
   "source": [
    "df1.columns"
   ]
  },
  {
   "cell_type": "code",
   "execution_count": 164,
   "metadata": {},
   "outputs": [
    {
     "data": {
      "text/plain": [
       "(58, 7)"
      ]
     },
     "execution_count": 164,
     "metadata": {},
     "output_type": "execute_result"
    }
   ],
   "source": [
    "data2 = data1[['Backers','Pledge', 'Funded', 'DaysToGo', 'Rank_Magic', \n",
    "       'Rank_Popularity','Rank_Most_Funded']].reset_index()\n",
    "data2 = data2.drop(columns='index')\n",
    "data2.shape"
   ]
  },
  {
   "cell_type": "code",
   "execution_count": 165,
   "metadata": {},
   "outputs": [
    {
     "data": {
      "text/html": [
       "<div>\n",
       "<style scoped>\n",
       "    .dataframe tbody tr th:only-of-type {\n",
       "        vertical-align: middle;\n",
       "    }\n",
       "\n",
       "    .dataframe tbody tr th {\n",
       "        vertical-align: top;\n",
       "    }\n",
       "\n",
       "    .dataframe thead th {\n",
       "        text-align: right;\n",
       "    }\n",
       "</style>\n",
       "<table border=\"1\" class=\"dataframe\">\n",
       "  <thead>\n",
       "    <tr style=\"text-align: right;\">\n",
       "      <th></th>\n",
       "      <th>Backers</th>\n",
       "      <th>Pledge</th>\n",
       "      <th>Funded</th>\n",
       "      <th>DaysToGo</th>\n",
       "      <th>Rank_Magic</th>\n",
       "      <th>Rank_Popularity</th>\n",
       "      <th>Rank_Most_Funded</th>\n",
       "    </tr>\n",
       "  </thead>\n",
       "  <tbody>\n",
       "    <tr>\n",
       "      <td>0</td>\n",
       "      <td>1.0</td>\n",
       "      <td>11.00</td>\n",
       "      <td>0.15</td>\n",
       "      <td>46.0</td>\n",
       "      <td>1102.0</td>\n",
       "      <td>0.0</td>\n",
       "      <td>3980.0</td>\n",
       "    </tr>\n",
       "    <tr>\n",
       "      <td>1</td>\n",
       "      <td>1.0</td>\n",
       "      <td>10.98</td>\n",
       "      <td>0.15</td>\n",
       "      <td>45.0</td>\n",
       "      <td>1631.0</td>\n",
       "      <td>0.0</td>\n",
       "      <td>0.0</td>\n",
       "    </tr>\n",
       "    <tr>\n",
       "      <td>2</td>\n",
       "      <td>2.0</td>\n",
       "      <td>82.70</td>\n",
       "      <td>1.15</td>\n",
       "      <td>44.0</td>\n",
       "      <td>3041.0</td>\n",
       "      <td>2546.0</td>\n",
       "      <td>0.0</td>\n",
       "    </tr>\n",
       "    <tr>\n",
       "      <td>3</td>\n",
       "      <td>2.0</td>\n",
       "      <td>82.54</td>\n",
       "      <td>1.15</td>\n",
       "      <td>43.0</td>\n",
       "      <td>3587.0</td>\n",
       "      <td>2140.0</td>\n",
       "      <td>3316.0</td>\n",
       "    </tr>\n",
       "    <tr>\n",
       "      <td>4</td>\n",
       "      <td>2.0</td>\n",
       "      <td>82.54</td>\n",
       "      <td>1.15</td>\n",
       "      <td>42.0</td>\n",
       "      <td>3542.0</td>\n",
       "      <td>2361.0</td>\n",
       "      <td>3313.0</td>\n",
       "    </tr>\n",
       "  </tbody>\n",
       "</table>\n",
       "</div>"
      ],
      "text/plain": [
       "   Backers  Pledge  Funded  DaysToGo  Rank_Magic  Rank_Popularity  Rank_Most_Funded\n",
       "0      1.0   11.00    0.15      46.0      1102.0              0.0            3980.0\n",
       "1      1.0   10.98    0.15      45.0      1631.0              0.0               0.0\n",
       "2      2.0   82.70    1.15      44.0      3041.0           2546.0               0.0\n",
       "3      2.0   82.54    1.15      43.0      3587.0           2140.0            3316.0\n",
       "4      2.0   82.54    1.15      42.0      3542.0           2361.0            3313.0"
      ]
     },
     "execution_count": 165,
     "metadata": {},
     "output_type": "execute_result"
    }
   ],
   "source": [
    "data2.head()"
   ]
  },
  {
   "cell_type": "markdown",
   "metadata": {},
   "source": [
    "* 입력값(input)을 Series로 선언"
   ]
  },
  {
   "cell_type": "code",
   "execution_count": 166,
   "metadata": {},
   "outputs": [],
   "source": [
    "data2['Vector_x'] = data2[['Backers','Pledge','DaysToGo', 'Rank_Magic', \n",
    "       'Rank_Popularity','Rank_Most_Funded']].apply(tuple, axis=1).apply(list)"
   ]
  },
  {
   "cell_type": "code",
   "execution_count": 167,
   "metadata": {},
   "outputs": [
    {
     "data": {
      "text/html": [
       "<div>\n",
       "<style scoped>\n",
       "    .dataframe tbody tr th:only-of-type {\n",
       "        vertical-align: middle;\n",
       "    }\n",
       "\n",
       "    .dataframe tbody tr th {\n",
       "        vertical-align: top;\n",
       "    }\n",
       "\n",
       "    .dataframe thead th {\n",
       "        text-align: right;\n",
       "    }\n",
       "</style>\n",
       "<table border=\"1\" class=\"dataframe\">\n",
       "  <thead>\n",
       "    <tr style=\"text-align: right;\">\n",
       "      <th></th>\n",
       "      <th>Vector_x</th>\n",
       "    </tr>\n",
       "  </thead>\n",
       "  <tbody>\n",
       "    <tr>\n",
       "      <td>0</td>\n",
       "      <td>[1.0, 11.0, 46.0, 1102.0, 0.0, 3980.0]</td>\n",
       "    </tr>\n",
       "    <tr>\n",
       "      <td>1</td>\n",
       "      <td>[1.0, 10.98, 45.0, 1631.0, 0.0, 0.0]</td>\n",
       "    </tr>\n",
       "    <tr>\n",
       "      <td>2</td>\n",
       "      <td>[2.0, 82.7, 44.0, 3041.0, 2546.0, 0.0]</td>\n",
       "    </tr>\n",
       "  </tbody>\n",
       "</table>\n",
       "</div>"
      ],
      "text/plain": [
       "                                 Vector_x\n",
       "0  [1.0, 11.0, 46.0, 1102.0, 0.0, 3980.0]\n",
       "1    [1.0, 10.98, 45.0, 1631.0, 0.0, 0.0]\n",
       "2  [2.0, 82.7, 44.0, 3041.0, 2546.0, 0.0]"
      ]
     },
     "execution_count": 167,
     "metadata": {},
     "output_type": "execute_result"
    }
   ],
   "source": [
    "data2[['Vector_x']].head(3)"
   ]
  },
  {
   "cell_type": "markdown",
   "metadata": {},
   "source": [
    "* 데이터를 이중 List로 처리 (Time Step을 유지하기 위해)"
   ]
  },
  {
   "cell_type": "code",
   "execution_count": 168,
   "metadata": {},
   "outputs": [],
   "source": [
    "data2['Vector_x'] = data2.Vector_x.apply(lambda x: [list(x)])"
   ]
  },
  {
   "cell_type": "code",
   "execution_count": 169,
   "metadata": {},
   "outputs": [
    {
     "data": {
      "text/html": [
       "<div>\n",
       "<style scoped>\n",
       "    .dataframe tbody tr th:only-of-type {\n",
       "        vertical-align: middle;\n",
       "    }\n",
       "\n",
       "    .dataframe tbody tr th {\n",
       "        vertical-align: top;\n",
       "    }\n",
       "\n",
       "    .dataframe thead th {\n",
       "        text-align: right;\n",
       "    }\n",
       "</style>\n",
       "<table border=\"1\" class=\"dataframe\">\n",
       "  <thead>\n",
       "    <tr style=\"text-align: right;\">\n",
       "      <th></th>\n",
       "      <th>Vector_x</th>\n",
       "    </tr>\n",
       "  </thead>\n",
       "  <tbody>\n",
       "    <tr>\n",
       "      <td>0</td>\n",
       "      <td>[[1.0, 11.0, 46.0, 1102.0, 0.0, 3980.0]]</td>\n",
       "    </tr>\n",
       "    <tr>\n",
       "      <td>1</td>\n",
       "      <td>[[1.0, 10.98, 45.0, 1631.0, 0.0, 0.0]]</td>\n",
       "    </tr>\n",
       "    <tr>\n",
       "      <td>2</td>\n",
       "      <td>[[2.0, 82.7, 44.0, 3041.0, 2546.0, 0.0]]</td>\n",
       "    </tr>\n",
       "  </tbody>\n",
       "</table>\n",
       "</div>"
      ],
      "text/plain": [
       "                                   Vector_x\n",
       "0  [[1.0, 11.0, 46.0, 1102.0, 0.0, 3980.0]]\n",
       "1    [[1.0, 10.98, 45.0, 1631.0, 0.0, 0.0]]\n",
       "2  [[2.0, 82.7, 44.0, 3041.0, 2546.0, 0.0]]"
      ]
     },
     "execution_count": 169,
     "metadata": {},
     "output_type": "execute_result"
    }
   ],
   "source": [
    "data2[['Vector_x']].head(3)"
   ]
  },
  {
   "cell_type": "markdown",
   "metadata": {},
   "source": [
    "* cumsum 함수를 이용해, 데이터를 이전 데이터가 포함된 형태로 변환시킨다"
   ]
  },
  {
   "cell_type": "code",
   "execution_count": 170,
   "metadata": {},
   "outputs": [],
   "source": [
    "data2['Vector_x_cumsum'] = data2.Vector_x.cumsum()"
   ]
  },
  {
   "cell_type": "markdown",
   "metadata": {},
   "source": [
    "* 아래와 같이, 시간이 지날수록, 이전 데이터의 정보를 포함한 형태로 출력 된다"
   ]
  },
  {
   "cell_type": "code",
   "execution_count": 171,
   "metadata": {
    "scrolled": true
   },
   "outputs": [
    {
     "data": {
      "text/plain": [
       "[[[1.0, 11.0, 46.0, 1102.0, 0.0, 3980.0]]]"
      ]
     },
     "execution_count": 171,
     "metadata": {},
     "output_type": "execute_result"
    }
   ],
   "source": [
    "data2[['Vector_x_cumsum']].values.tolist()[0]"
   ]
  },
  {
   "cell_type": "code",
   "execution_count": 172,
   "metadata": {},
   "outputs": [
    {
     "data": {
      "text/plain": [
       "[[[1.0, 11.0, 46.0, 1102.0, 0.0, 3980.0],\n",
       "  [1.0, 10.98, 45.0, 1631.0, 0.0, 0.0]]]"
      ]
     },
     "execution_count": 172,
     "metadata": {},
     "output_type": "execute_result"
    }
   ],
   "source": [
    "data2[['Vector_x_cumsum']].values.tolist()[1]"
   ]
  },
  {
   "cell_type": "code",
   "execution_count": 173,
   "metadata": {},
   "outputs": [
    {
     "data": {
      "text/plain": [
       "[[[1.0, 11.0, 46.0, 1102.0, 0.0, 3980.0],\n",
       "  [1.0, 10.98, 45.0, 1631.0, 0.0, 0.0],\n",
       "  [2.0, 82.7, 44.0, 3041.0, 2546.0, 0.0]]]"
      ]
     },
     "execution_count": 173,
     "metadata": {},
     "output_type": "execute_result"
    }
   ],
   "source": [
    "data2[['Vector_x_cumsum']].values.tolist()[2]"
   ]
  },
  {
   "cell_type": "code",
   "execution_count": 174,
   "metadata": {},
   "outputs": [
    {
     "data": {
      "text/plain": [
       "[[[1.0, 11.0, 46.0, 1102.0, 0.0, 3980.0],\n",
       "  [1.0, 10.98, 45.0, 1631.0, 0.0, 0.0],\n",
       "  [2.0, 82.7, 44.0, 3041.0, 2546.0, 0.0],\n",
       "  [2.0, 82.54, 43.0, 3587.0, 2140.0, 3316.0]]]"
      ]
     },
     "execution_count": 174,
     "metadata": {},
     "output_type": "execute_result"
    }
   ],
   "source": [
    "data2[['Vector_x_cumsum']].values.tolist()[3]"
   ]
  },
  {
   "cell_type": "markdown",
   "metadata": {},
   "source": [
    "* Target 데이터 또한 벡터로 변환"
   ]
  },
  {
   "cell_type": "code",
   "execution_count": 175,
   "metadata": {},
   "outputs": [],
   "source": [
    "data2['Vector_y'] = data2[['Funded']].apply(tuple, axis=1).apply(list)"
   ]
  },
  {
   "cell_type": "code",
   "execution_count": 176,
   "metadata": {},
   "outputs": [
    {
     "data": {
      "text/html": [
       "<div>\n",
       "<style scoped>\n",
       "    .dataframe tbody tr th:only-of-type {\n",
       "        vertical-align: middle;\n",
       "    }\n",
       "\n",
       "    .dataframe tbody tr th {\n",
       "        vertical-align: top;\n",
       "    }\n",
       "\n",
       "    .dataframe thead th {\n",
       "        text-align: right;\n",
       "    }\n",
       "</style>\n",
       "<table border=\"1\" class=\"dataframe\">\n",
       "  <thead>\n",
       "    <tr style=\"text-align: right;\">\n",
       "      <th></th>\n",
       "      <th>Vector_y</th>\n",
       "    </tr>\n",
       "  </thead>\n",
       "  <tbody>\n",
       "    <tr>\n",
       "      <td>0</td>\n",
       "      <td>[0.15]</td>\n",
       "    </tr>\n",
       "    <tr>\n",
       "      <td>1</td>\n",
       "      <td>[0.15]</td>\n",
       "    </tr>\n",
       "    <tr>\n",
       "      <td>2</td>\n",
       "      <td>[1.15]</td>\n",
       "    </tr>\n",
       "  </tbody>\n",
       "</table>\n",
       "</div>"
      ],
      "text/plain": [
       "  Vector_y\n",
       "0   [0.15]\n",
       "1   [0.15]\n",
       "2   [1.15]"
      ]
     },
     "execution_count": 176,
     "metadata": {},
     "output_type": "execute_result"
    }
   ],
   "source": [
    "data2[['Vector_y']].head(3)"
   ]
  },
  {
   "cell_type": "markdown",
   "metadata": {},
   "source": [
    "* 벡터 데이터의 길이를 맞춰주기 위해 Padding 작업을 실시한다. \n",
    "    - Padding : 입력값의 벡터를 모두 같이 일치시키기 위해, 데이터가 비어있는공간에, 0 값으로 채워 넣어 데이터의 차원을 일치시키는 과정 "
   ]
  },
  {
   "cell_type": "code",
   "execution_count": 177,
   "metadata": {},
   "outputs": [],
   "source": [
    "max_sequence_length = data2.Vector_x_cumsum.apply(len).max()\n",
    "padded_sequences = pad_sequences(data2.Vector_x_cumsum.tolist(), max_sequence_length).tolist()\n",
    "data2['Padding_Vector_X'] = pd.Series(padded_sequences).apply(np.asarray)"
   ]
  },
  {
   "cell_type": "markdown",
   "metadata": {},
   "source": [
    "* 신경망 알고리즘에 적용될 수 있는 형태로 저장 \n",
    "    - 3차원 형태의 Numpy Array 형태로 변환\n",
    "    - DataFrame 형태에서 Array로 변환하는 작업이 필요함 "
   ]
  },
  {
   "cell_type": "code",
   "execution_count": 184,
   "metadata": {},
   "outputs": [],
   "source": [
    "X_train_init = np.asarray(data2.Padding_Vector_X)"
   ]
  },
  {
   "cell_type": "markdown",
   "metadata": {},
   "source": [
    "* Target 데이터에 대해서도 전처리 후, 차원 확인\n",
    "     - hstack 과 reshape 함수를 이용해, 3-D Array로 변환 "
   ]
  },
  {
   "cell_type": "code",
   "execution_count": 202,
   "metadata": {},
   "outputs": [],
   "source": [
    "X_train = np.hstack(X_train_init).reshape(len(data2),max_sequence_length,6)\n",
    "y_train = np.hstack(np.asarray(data2.Vector_y)).reshape(len(data2),1)"
   ]
  },
  {
   "cell_type": "code",
   "execution_count": 203,
   "metadata": {},
   "outputs": [
    {
     "name": "stdout",
     "output_type": "stream",
     "text": [
      "(58,)\n"
     ]
    }
   ],
   "source": [
    "print(X_train_init.shape)"
   ]
  },
  {
   "cell_type": "code",
   "execution_count": 204,
   "metadata": {},
   "outputs": [
    {
     "name": "stdout",
     "output_type": "stream",
     "text": [
      "(58, 58, 6)\n"
     ]
    }
   ],
   "source": [
    "print(X_train.shape)"
   ]
  },
  {
   "cell_type": "code",
   "execution_count": 265,
   "metadata": {},
   "outputs": [
    {
     "data": {
      "text/plain": [
       "(58, 1)"
      ]
     },
     "execution_count": 265,
     "metadata": {},
     "output_type": "execute_result"
    }
   ],
   "source": [
    "y_train.shape"
   ]
  },
  {
   "cell_type": "markdown",
   "metadata": {},
   "source": [
    "* 입력차원에 대한 Parameter를 정의하여, Model 생성 시 주입"
   ]
  },
  {
   "cell_type": "code",
   "execution_count": 206,
   "metadata": {},
   "outputs": [],
   "source": [
    "# 입력값의 Sequence 길이 (sample의 행 갯수)\n",
    "input_length = X_train.shape[1]\n",
    "# 입력값의 벡더 차원의 갯수 (sample의 열 갯수)\n",
    "input_dim = X_train.shape[2]"
   ]
  },
  {
   "cell_type": "code",
   "execution_count": 208,
   "metadata": {},
   "outputs": [],
   "source": [
    "output_dim = len(y_train[0])"
   ]
  },
  {
   "cell_type": "markdown",
   "metadata": {},
   "source": [
    "**LSTM 모델 생성**"
   ]
  },
  {
   "cell_type": "code",
   "execution_count": 233,
   "metadata": {},
   "outputs": [
    {
     "name": "stderr",
     "output_type": "stream",
     "text": [
      "C:\\ProgramData\\Anaconda3\\lib\\site-packages\\ipykernel_launcher.py:3: UserWarning: The `input_dim` and `input_length` arguments in recurrent layers are deprecated. Use `input_shape` instead.\n",
      "  This is separate from the ipykernel package so we can avoid doing imports until\n",
      "C:\\ProgramData\\Anaconda3\\lib\\site-packages\\ipykernel_launcher.py:3: UserWarning: Update your `LSTM` call to the Keras 2 API: `LSTM(8, input_shape=(58, 6))`\n",
      "  This is separate from the ipykernel package so we can avoid doing imports until\n",
      "C:\\ProgramData\\Anaconda3\\lib\\site-packages\\ipykernel_launcher.py:16: UserWarning: The `nb_epoch` argument in `fit` has been renamed `epochs`.\n",
      "  app.launch_new_instance()\n"
     ]
    },
    {
     "name": "stdout",
     "output_type": "stream",
     "text": [
      "Train on 46 samples, validate on 12 samples\n",
      "Epoch 1/20\n",
      "46/46 [==============================] - 0s 7ms/step - loss: 6.4063 - mse: 6.4063 - val_loss: 14.8334 - val_mse: 14.8334\n",
      "Epoch 2/20\n",
      "46/46 [==============================] - 0s 1ms/step - loss: 6.4063 - mse: 6.4063 - val_loss: 14.8334 - val_mse: 14.8334\n",
      "Epoch 3/20\n",
      "46/46 [==============================] - 0s 1ms/step - loss: 6.4063 - mse: 6.4063 - val_loss: 14.8334 - val_mse: 14.8334\n",
      "Epoch 4/20\n",
      "46/46 [==============================] - 0s 1ms/step - loss: 6.4063 - mse: 6.4063 - val_loss: 14.8334 - val_mse: 14.8334\n",
      "Epoch 5/20\n",
      "46/46 [==============================] - 0s 1ms/step - loss: 6.4063 - mse: 6.4063 - val_loss: 14.8334 - val_mse: 14.8334\n",
      "Epoch 6/20\n",
      "46/46 [==============================] - 0s 1ms/step - loss: 6.4063 - mse: 6.4063 - val_loss: 14.8334 - val_mse: 14.8334\n",
      "Epoch 7/20\n",
      "46/46 [==============================] - 0s 1ms/step - loss: 6.4063 - mse: 6.4063 - val_loss: 14.8334 - val_mse: 14.8334\n",
      "Epoch 8/20\n",
      "46/46 [==============================] - 0s 1ms/step - loss: 6.4063 - mse: 6.4063 - val_loss: 14.8334 - val_mse: 14.8334\n",
      "Epoch 9/20\n",
      "46/46 [==============================] - 0s 1ms/step - loss: 6.4063 - mse: 6.4063 - val_loss: 14.8334 - val_mse: 14.8334\n",
      "Epoch 10/20\n",
      "46/46 [==============================] - 0s 1ms/step - loss: 6.4063 - mse: 6.4063 - val_loss: 14.8334 - val_mse: 14.8334\n",
      "Epoch 11/20\n",
      "46/46 [==============================] - 0s 1ms/step - loss: 6.4063 - mse: 6.4063 - val_loss: 14.8334 - val_mse: 14.8334\n",
      "Epoch 12/20\n",
      "46/46 [==============================] - 0s 1ms/step - loss: 6.4063 - mse: 6.4063 - val_loss: 14.8334 - val_mse: 14.8334\n",
      "Epoch 13/20\n",
      "46/46 [==============================] - 0s 1ms/step - loss: 6.4063 - mse: 6.4063 - val_loss: 14.8334 - val_mse: 14.8334\n",
      "Epoch 14/20\n",
      "46/46 [==============================] - 0s 1ms/step - loss: 6.4063 - mse: 6.4063 - val_loss: 14.8334 - val_mse: 14.8334\n",
      "Epoch 15/20\n",
      "46/46 [==============================] - 0s 1ms/step - loss: 6.4063 - mse: 6.4063 - val_loss: 14.8334 - val_mse: 14.8334\n",
      "Epoch 16/20\n",
      "46/46 [==============================] - 0s 1ms/step - loss: 6.4063 - mse: 6.4063 - val_loss: 14.8334 - val_mse: 14.8334\n",
      "Epoch 17/20\n",
      "46/46 [==============================] - 0s 1ms/step - loss: 6.4063 - mse: 6.4063 - val_loss: 14.8334 - val_mse: 14.8334\n",
      "Epoch 18/20\n",
      "46/46 [==============================] - 0s 1ms/step - loss: 6.4063 - mse: 6.4063 - val_loss: 14.8334 - val_mse: 14.8334\n",
      "Epoch 19/20\n",
      "46/46 [==============================] - 0s 1ms/step - loss: 6.4063 - mse: 6.4063 - val_loss: 14.8334 - val_mse: 14.8334\n",
      "Epoch 20/20\n",
      "46/46 [==============================] - 0s 1ms/step - loss: 6.4063 - mse: 6.4063 - val_loss: 14.8334 - val_mse: 14.8334\n"
     ]
    }
   ],
   "source": [
    "model = Sequential()\n",
    "# 출력값의 크기를 8로 설정 \n",
    "model.add(LSTM(8, input_dim = input_dim, input_length = input_length))\n",
    "# 최대 출력값이 1보다 크므로, relu 함수를 최정 활성 함수로 사용 \n",
    "model.add(Dense(output_dim, activation='relu'))\n",
    "\n",
    "# 연속형 데이터에 대한 평가 지표 정의 \n",
    "model.compile(loss='mean_squared_error',\n",
    "              optimizer='sgd',\n",
    "              metrics=['mse'])\n",
    "\n",
    "# batch_size를 10, epoch을 4로 설정, Validation Set 설정 후 모델 생성 \n",
    "history = model.fit(X_train, y_train,\n",
    "              batch_size=10, nb_epoch=20,\n",
    "              verbose = 1,\n",
    "              validation_split=0.2)"
   ]
  },
  {
   "cell_type": "markdown",
   "metadata": {},
   "source": [
    "* 평가 "
   ]
  },
  {
   "cell_type": "code",
   "execution_count": 234,
   "metadata": {},
   "outputs": [],
   "source": [
    "epochs = range(1, 21)"
   ]
  },
  {
   "cell_type": "code",
   "execution_count": 235,
   "metadata": {},
   "outputs": [
    {
     "data": {
      "image/png": "[encoded data removed]",
      "text/plain": [
       "<Figure size 432x288 with 1 Axes>"
      ]
     },
     "metadata": {
      "needs_background": "light"
     },
     "output_type": "display_data"
    }
   ],
   "source": [
    "loss = history.history['loss']\n",
    "val_loss = history.history['val_loss']\n",
    "plt.plot(epochs, loss, 'bo', label='Training loss')\n",
    "plt.plot(epochs, val_loss, 'b', label='Validation loss')\n",
    "plt.title('Training and validation loss')\n",
    "plt.legend()\n",
    "plt.show() "
   ]
  },
  {
   "cell_type": "code",
   "execution_count": 232,
   "metadata": {},
   "outputs": [
    {
     "data": {
      "image/png": "[encoded data removed]",
      "text/plain": [
       "<Figure size 432x288 with 1 Axes>"
      ]
     },
     "metadata": {
      "needs_background": "light"
     },
     "output_type": "display_data"
    }
   ],
   "source": [
    "accuracy = history.history['mse']\n",
    "val_accuracy = history.history['val_mse']\n",
    "plt.plot(epochs, accuracy, 'bo', label='Training mse')\n",
    "plt.plot(epochs, val_accuracy, 'b', label='Validation mse')\n",
    "plt.title('Training and validation loss')\n",
    "plt.legend()\n",
    "plt.show() "
   ]
  },
  {
   "cell_type": "markdown",
   "metadata": {},
   "source": [
    "**Model의 Capacity를 증가**"
   ]
  },
  {
   "cell_type": "code",
   "execution_count": 240,
   "metadata": {},
   "outputs": [
    {
     "name": "stderr",
     "output_type": "stream",
     "text": [
      "C:\\ProgramData\\Anaconda3\\lib\\site-packages\\ipykernel_launcher.py:3: UserWarning: The `input_dim` and `input_length` arguments in recurrent layers are deprecated. Use `input_shape` instead.\n",
      "  This is separate from the ipykernel package so we can avoid doing imports until\n",
      "C:\\ProgramData\\Anaconda3\\lib\\site-packages\\ipykernel_launcher.py:3: UserWarning: Update your `LSTM` call to the Keras 2 API: `LSTM(16, input_shape=(58, 6))`\n",
      "  This is separate from the ipykernel package so we can avoid doing imports until\n",
      "C:\\ProgramData\\Anaconda3\\lib\\site-packages\\ipykernel_launcher.py:16: UserWarning: The `nb_epoch` argument in `fit` has been renamed `epochs`.\n",
      "  app.launch_new_instance()\n"
     ]
    },
    {
     "name": "stdout",
     "output_type": "stream",
     "text": [
      "Train on 46 samples, validate on 12 samples\n",
      "Epoch 1/20\n",
      "46/46 [==============================] - 0s 7ms/step - loss: 5.2957 - mse: 5.2957 - val_loss: 8.7567 - val_mse: 8.7567\n",
      "Epoch 2/20\n",
      "46/46 [==============================] - 0s 1ms/step - loss: 2.9750 - mse: 2.9750 - val_loss: 6.3811 - val_mse: 6.3811\n",
      "Epoch 3/20\n",
      "46/46 [==============================] - 0s 1ms/step - loss: 2.0550 - mse: 2.0550 - val_loss: 4.8365 - val_mse: 4.8365\n",
      "Epoch 4/20\n",
      "46/46 [==============================] - 0s 1ms/step - loss: 1.5261 - mse: 1.5261 - val_loss: 3.8651 - val_mse: 3.8651\n",
      "Epoch 5/20\n",
      "46/46 [==============================] - 0s 1ms/step - loss: 1.2223 - mse: 1.2223 - val_loss: 3.1555 - val_mse: 3.1555\n",
      "Epoch 6/20\n",
      "46/46 [==============================] - 0s 1ms/step - loss: 1.0454 - mse: 1.0454 - val_loss: 2.6820 - val_mse: 2.6820\n",
      "Epoch 7/20\n",
      "46/46 [==============================] - 0s 1ms/step - loss: 0.9319 - mse: 0.9319 - val_loss: 2.3773 - val_mse: 2.3773\n",
      "Epoch 8/20\n",
      "46/46 [==============================] - 0s 1ms/step - loss: 0.8652 - mse: 0.8652 - val_loss: 2.1426 - val_mse: 2.1426\n",
      "Epoch 9/20\n",
      "46/46 [==============================] - 0s 1ms/step - loss: 0.8221 - mse: 0.8221 - val_loss: 1.9349 - val_mse: 1.9349\n",
      "Epoch 10/20\n",
      "46/46 [==============================] - 0s 1ms/step - loss: 0.7926 - mse: 0.7926 - val_loss: 1.8003 - val_mse: 1.8003\n",
      "Epoch 11/20\n",
      "46/46 [==============================] - 0s 1ms/step - loss: 0.7742 - mse: 0.7742 - val_loss: 1.7018 - val_mse: 1.7018\n",
      "Epoch 12/20\n",
      "46/46 [==============================] - 0s 1ms/step - loss: 0.7619 - mse: 0.7619 - val_loss: 1.6282 - val_mse: 1.6282\n",
      "Epoch 13/20\n",
      "46/46 [==============================] - 0s 1ms/step - loss: 0.7562 - mse: 0.7562 - val_loss: 1.5733 - val_mse: 1.5733\n",
      "Epoch 14/20\n",
      "46/46 [==============================] - 0s 1ms/step - loss: 0.7442 - mse: 0.7442 - val_loss: 1.5375 - val_mse: 1.5375\n",
      "Epoch 15/20\n",
      "46/46 [==============================] - 0s 1ms/step - loss: 0.7387 - mse: 0.7387 - val_loss: 1.5181 - val_mse: 1.5181\n",
      "Epoch 16/20\n",
      "46/46 [==============================] - 0s 1ms/step - loss: 0.7324 - mse: 0.7324 - val_loss: 1.5300 - val_mse: 1.5300\n",
      "Epoch 17/20\n",
      "46/46 [==============================] - 0s 1ms/step - loss: 0.7282 - mse: 0.7282 - val_loss: 1.5015 - val_mse: 1.5015\n",
      "Epoch 18/20\n",
      "46/46 [==============================] - 0s 1ms/step - loss: 0.7240 - mse: 0.7240 - val_loss: 1.5138 - val_mse: 1.5138\n",
      "Epoch 19/20\n",
      "46/46 [==============================] - 0s 1ms/step - loss: 0.7164 - mse: 0.7164 - val_loss: 1.5191 - val_mse: 1.5191\n",
      "Epoch 20/20\n",
      "46/46 [==============================] - 0s 1ms/step - loss: 0.7120 - mse: 0.7120 - val_loss: 1.5487 - val_mse: 1.5487\n"
     ]
    }
   ],
   "source": [
    "model = Sequential()\n",
    "# 출력값의 크기를 16로 설정 \n",
    "model.add(LSTM(16, input_dim = input_dim, input_length = input_length))\n",
    "# 최대 출력값이 1보다 크므로, relu 함수를 최정 활성 함수로 사용 \n",
    "model.add(Dense(output_dim, activation='relu'))\n",
    "\n",
    "# 연속형 데이터에 대한 평가 지표 정의 \n",
    "model.compile(loss='mean_squared_error',\n",
    "              optimizer='sgd',\n",
    "              metrics=['mse'])\n",
    "\n",
    "# batch_size를 10, epoch을 4로 설정, Validation Set 설정 후 모델 생성 \n",
    "history = model.fit(X_train, y_train,\n",
    "              batch_size=10, nb_epoch=20,\n",
    "              verbose = 1,\n",
    "              validation_split=0.2)"
   ]
  },
  {
   "cell_type": "code",
   "execution_count": 241,
   "metadata": {},
   "outputs": [],
   "source": [
    "epochs = range(1, 21)"
   ]
  },
  {
   "cell_type": "code",
   "execution_count": 242,
   "metadata": {},
   "outputs": [
    {
     "data": {
      "image/png": "[encoded data removed]",
      "text/plain": [
       "<Figure size 432x288 with 1 Axes>"
      ]
     },
     "metadata": {
      "needs_background": "light"
     },
     "output_type": "display_data"
    }
   ],
   "source": [
    "loss = history.history['loss']\n",
    "val_loss = history.history['val_loss']\n",
    "plt.plot(epochs, loss, 'bo', label='Training loss')\n",
    "plt.plot(epochs, val_loss, 'b', label='Validation loss')\n",
    "plt.title('Training and validation loss')\n",
    "plt.legend()\n",
    "plt.show() "
   ]
  },
  {
   "cell_type": "code",
   "execution_count": 243,
   "metadata": {},
   "outputs": [
    {
     "data": {
      "image/png": "[encoded data removed]",
      "text/plain": [
       "<Figure size 432x288 with 1 Axes>"
      ]
     },
     "metadata": {
      "needs_background": "light"
     },
     "output_type": "display_data"
    }
   ],
   "source": [
    "accuracy = history.history['mse']\n",
    "val_accuracy = history.history['val_mse']\n",
    "plt.plot(epochs, accuracy, 'bo', label='Training mse')\n",
    "plt.plot(epochs, val_accuracy, 'b', label='Validation mse')\n",
    "plt.title('Training and validation loss')\n",
    "plt.legend()\n",
    "plt.show() "
   ]
  },
  {
   "cell_type": "markdown",
   "metadata": {},
   "source": [
    "**양방향 LSTM 적용**"
   ]
  },
  {
   "cell_type": "code",
   "execution_count": 246,
   "metadata": {},
   "outputs": [
    {
     "name": "stderr",
     "output_type": "stream",
     "text": [
      "C:\\ProgramData\\Anaconda3\\lib\\site-packages\\ipykernel_launcher.py:3: UserWarning: The `input_dim` and `input_length` arguments in recurrent layers are deprecated. Use `input_shape` instead.\n",
      "  This is separate from the ipykernel package so we can avoid doing imports until\n",
      "C:\\ProgramData\\Anaconda3\\lib\\site-packages\\ipykernel_launcher.py:3: UserWarning: Update your `LSTM` call to the Keras 2 API: `LSTM(16, input_shape=(58, 6))`\n",
      "  This is separate from the ipykernel package so we can avoid doing imports until\n",
      "C:\\ProgramData\\Anaconda3\\lib\\site-packages\\ipykernel_launcher.py:16: UserWarning: The `nb_epoch` argument in `fit` has been renamed `epochs`.\n",
      "  app.launch_new_instance()\n"
     ]
    },
    {
     "name": "stdout",
     "output_type": "stream",
     "text": [
      "Train on 46 samples, validate on 12 samples\n",
      "Epoch 1/20\n",
      "46/46 [==============================] - 1s 12ms/step - loss: 5.1628 - mse: 5.1628 - val_loss: 12.3310 - val_mse: 12.3310\n",
      "Epoch 2/20\n",
      "46/46 [==============================] - 0s 1ms/step - loss: 2.9510 - mse: 2.9510 - val_loss: 9.9550 - val_mse: 9.9550\n",
      "Epoch 3/20\n",
      "46/46 [==============================] - 0s 1ms/step - loss: 1.7367 - mse: 1.7367 - val_loss: 8.4703 - val_mse: 8.4703\n",
      "Epoch 4/20\n",
      "46/46 [==============================] - 0s 1ms/step - loss: 1.1846 - mse: 1.1846 - val_loss: 7.5194 - val_mse: 7.5194\n",
      "Epoch 5/20\n",
      "46/46 [==============================] - 0s 1ms/step - loss: 0.9501 - mse: 0.9501 - val_loss: 6.8480 - val_mse: 6.8480\n",
      "Epoch 6/20\n",
      "46/46 [==============================] - 0s 1ms/step - loss: 0.8161 - mse: 0.8161 - val_loss: 6.3909 - val_mse: 6.3909\n",
      "Epoch 7/20\n",
      "46/46 [==============================] - 0s 1ms/step - loss: 0.7558 - mse: 0.7558 - val_loss: 6.0855 - val_mse: 6.0855\n",
      "Epoch 8/20\n",
      "46/46 [==============================] - 0s 1ms/step - loss: 0.7147 - mse: 0.7147 - val_loss: 5.7829 - val_mse: 5.7829\n",
      "Epoch 9/20\n",
      "46/46 [==============================] - 0s 1ms/step - loss: 0.6806 - mse: 0.6806 - val_loss: 5.5902 - val_mse: 5.5902\n",
      "Epoch 10/20\n",
      "46/46 [==============================] - 0s 1ms/step - loss: 0.6576 - mse: 0.6576 - val_loss: 5.4097 - val_mse: 5.4097\n",
      "Epoch 11/20\n",
      "46/46 [==============================] - 0s 1ms/step - loss: 0.6378 - mse: 0.6378 - val_loss: 5.3393 - val_mse: 5.3393\n",
      "Epoch 12/20\n",
      "46/46 [==============================] - 0s 1ms/step - loss: 0.6212 - mse: 0.6212 - val_loss: 5.2382 - val_mse: 5.2382\n",
      "Epoch 13/20\n",
      "46/46 [==============================] - 0s 1ms/step - loss: 0.5956 - mse: 0.5956 - val_loss: 5.1254 - val_mse: 5.1254\n",
      "Epoch 14/20\n",
      "46/46 [==============================] - 0s 1ms/step - loss: 0.5794 - mse: 0.5794 - val_loss: 4.9954 - val_mse: 4.9954\n",
      "Epoch 15/20\n",
      "46/46 [==============================] - 0s 1ms/step - loss: 0.5626 - mse: 0.5626 - val_loss: 4.8770 - val_mse: 4.8770\n",
      "Epoch 16/20\n",
      "46/46 [==============================] - 0s 1ms/step - loss: 0.5486 - mse: 0.5486 - val_loss: 4.7494 - val_mse: 4.7494\n",
      "Epoch 17/20\n",
      "46/46 [==============================] - 0s 1ms/step - loss: 0.5338 - mse: 0.5338 - val_loss: 4.7101 - val_mse: 4.7101\n",
      "Epoch 18/20\n",
      "46/46 [==============================] - 0s 1ms/step - loss: 0.5299 - mse: 0.5299 - val_loss: 4.5607 - val_mse: 4.5607\n",
      "Epoch 19/20\n",
      "46/46 [==============================] - 0s 1ms/step - loss: 0.5118 - mse: 0.5118 - val_loss: 4.4587 - val_mse: 4.4587\n",
      "Epoch 20/20\n",
      "46/46 [==============================] - 0s 1ms/step - loss: 0.5012 - mse: 0.5012 - val_loss: 4.3932 - val_mse: 4.3932\n"
     ]
    }
   ],
   "source": [
    "model = Sequential()\n",
    "# 출력값의 크기를 16로 설정 \n",
    "model.add(Bidirectional(LSTM(16, input_dim = input_dim, input_length = input_length)))\n",
    "# 최대 출력값이 1보다 크므로, relu 함수를 최정 활성 함수로 사용 \n",
    "model.add(Dense(output_dim, activation='relu'))\n",
    "\n",
    "# 연속형 데이터에 대한 평가 지표 정의 \n",
    "model.compile(loss='mean_squared_error',\n",
    "              optimizer='sgd',\n",
    "              metrics=['mse'])\n",
    "\n",
    "# batch_size를 10, epoch을 4로 설정, Validation Set 설정 후 모델 생성 \n",
    "history = model.fit(X_train, y_train,\n",
    "              batch_size=10, nb_epoch=20,\n",
    "              verbose = 1,\n",
    "              validation_split=0.2)"
   ]
  },
  {
   "cell_type": "code",
   "execution_count": 247,
   "metadata": {},
   "outputs": [],
   "source": [
    "epochs = range(1, 21)"
   ]
  },
  {
   "cell_type": "code",
   "execution_count": 248,
   "metadata": {},
   "outputs": [
    {
     "data": {
      "image/png": "[encoded data removed]",
      "text/plain": [
       "<Figure size 432x288 with 1 Axes>"
      ]
     },
     "metadata": {
      "needs_background": "light"
     },
     "output_type": "display_data"
    }
   ],
   "source": [
    "loss = history.history['loss']\n",
    "val_loss = history.history['val_loss']\n",
    "plt.plot(epochs, loss, 'bo', label='Training loss')\n",
    "plt.plot(epochs, val_loss, 'b', label='Validation loss')\n",
    "plt.title('Training and validation loss')\n",
    "plt.legend()\n",
    "plt.show() "
   ]
  },
  {
   "cell_type": "code",
   "execution_count": 249,
   "metadata": {},
   "outputs": [
    {
     "data": {
      "image/png": "[encoded data removed]",
      "text/plain": [
       "<Figure size 432x288 with 1 Axes>"
      ]
     },
     "metadata": {
      "needs_background": "light"
     },
     "output_type": "display_data"
    }
   ],
   "source": [
    "accuracy = history.history['mse']\n",
    "val_accuracy = history.history['val_mse']\n",
    "plt.plot(epochs, accuracy, 'bo', label='Training mse')\n",
    "plt.plot(epochs, val_accuracy, 'b', label='Validation mse')\n",
    "plt.title('Training and validation loss')\n",
    "plt.legend()\n",
    "plt.show() "
   ]
  },
  {
   "cell_type": "markdown",
   "metadata": {},
   "source": [
    "**규제를 적용**"
   ]
  },
  {
   "cell_type": "code",
   "execution_count": 251,
   "metadata": {},
   "outputs": [
    {
     "name": "stderr",
     "output_type": "stream",
     "text": [
      "C:\\ProgramData\\Anaconda3\\lib\\site-packages\\ipykernel_launcher.py:3: UserWarning: The `input_dim` and `input_length` arguments in recurrent layers are deprecated. Use `input_shape` instead.\n",
      "  This is separate from the ipykernel package so we can avoid doing imports until\n",
      "C:\\ProgramData\\Anaconda3\\lib\\site-packages\\ipykernel_launcher.py:3: UserWarning: Update your `LSTM` call to the Keras 2 API: `LSTM(16, input_shape=(58, 6))`\n",
      "  This is separate from the ipykernel package so we can avoid doing imports until\n",
      "C:\\ProgramData\\Anaconda3\\lib\\site-packages\\ipykernel_launcher.py:18: UserWarning: The `nb_epoch` argument in `fit` has been renamed `epochs`.\n"
     ]
    },
    {
     "name": "stdout",
     "output_type": "stream",
     "text": [
      "Train on 46 samples, validate on 12 samples\n",
      "Epoch 1/20\n",
      "46/46 [==============================] - 1s 12ms/step - loss: 3.6404 - mse: 3.6404 - val_loss: 9.6648 - val_mse: 9.6648\n",
      "Epoch 2/20\n",
      "46/46 [==============================] - 0s 1ms/step - loss: 2.4207 - mse: 2.4207 - val_loss: 6.9952 - val_mse: 6.9952\n",
      "Epoch 3/20\n",
      "46/46 [==============================] - 0s 1ms/step - loss: 1.7995 - mse: 1.7995 - val_loss: 5.7294 - val_mse: 5.7294\n",
      "Epoch 4/20\n",
      "46/46 [==============================] - 0s 1ms/step - loss: 1.4061 - mse: 1.4061 - val_loss: 5.0892 - val_mse: 5.0892\n",
      "Epoch 5/20\n",
      "46/46 [==============================] - 0s 2ms/step - loss: 1.3016 - mse: 1.3016 - val_loss: 4.7199 - val_mse: 4.7199\n",
      "Epoch 6/20\n",
      "46/46 [==============================] - 0s 2ms/step - loss: 1.0725 - mse: 1.0725 - val_loss: 4.5528 - val_mse: 4.5528\n",
      "Epoch 7/20\n",
      "46/46 [==============================] - 0s 3ms/step - loss: 1.2459 - mse: 1.2459 - val_loss: 4.5287 - val_mse: 4.5287\n",
      "Epoch 8/20\n",
      "46/46 [==============================] - 0s 3ms/step - loss: 1.0797 - mse: 1.0797 - val_loss: 4.3755 - val_mse: 4.3755\n",
      "Epoch 9/20\n",
      "46/46 [==============================] - 0s 3ms/step - loss: 1.4624 - mse: 1.4624 - val_loss: 4.4169 - val_mse: 4.4169\n",
      "Epoch 10/20\n",
      "46/46 [==============================] - 0s 3ms/step - loss: 1.1370 - mse: 1.1370 - val_loss: 4.5416 - val_mse: 4.5416\n",
      "Epoch 11/20\n",
      "46/46 [==============================] - 0s 3ms/step - loss: 0.9578 - mse: 0.9578 - val_loss: 4.4185 - val_mse: 4.4185\n",
      "Epoch 12/20\n",
      "46/46 [==============================] - 0s 3ms/step - loss: 1.0584 - mse: 1.0584 - val_loss: 4.0890 - val_mse: 4.0890\n",
      "Epoch 13/20\n",
      "46/46 [==============================] - 0s 3ms/step - loss: 1.1217 - mse: 1.1217 - val_loss: 4.0594 - val_mse: 4.0594\n",
      "Epoch 14/20\n",
      "46/46 [==============================] - 0s 2ms/step - loss: 0.9543 - mse: 0.9543 - val_loss: 3.8976 - val_mse: 3.8976\n",
      "Epoch 15/20\n",
      "46/46 [==============================] - 0s 3ms/step - loss: 1.0051 - mse: 1.0051 - val_loss: 3.9483 - val_mse: 3.9483\n",
      "Epoch 16/20\n",
      "46/46 [==============================] - 0s 2ms/step - loss: 1.0606 - mse: 1.0606 - val_loss: 3.9770 - val_mse: 3.9770\n",
      "Epoch 17/20\n",
      "46/46 [==============================] - 0s 3ms/step - loss: 0.8011 - mse: 0.8011 - val_loss: 3.8501 - val_mse: 3.8501\n",
      "Epoch 18/20\n",
      "46/46 [==============================] - 0s 3ms/step - loss: 0.9171 - mse: 0.9171 - val_loss: 3.6045 - val_mse: 3.6045\n",
      "Epoch 19/20\n",
      "46/46 [==============================] - 0s 3ms/step - loss: 0.8344 - mse: 0.8344 - val_loss: 3.6150 - val_mse: 3.6150\n",
      "Epoch 20/20\n",
      "46/46 [==============================] - 0s 3ms/step - loss: 0.9389 - mse: 0.9389 - val_loss: 3.6996 - val_mse: 3.6996\n"
     ]
    }
   ],
   "source": [
    "model = Sequential()\n",
    "# 출력값의 크기를 16로 설정 \n",
    "model.add(Bidirectional(LSTM(16, input_dim = input_dim, input_length = input_length)))\n",
    "# Drop Out 적용\n",
    "model.add(Dropout(0.5))\n",
    "# 최대 출력값이 1보다 크므로, relu 함수를 최정 활성 함수로 사용 \n",
    "model.add(Dense(output_dim, activation='relu'))\n",
    "\n",
    "# 연속형 데이터에 대한 평가 지표 정의 \n",
    "model.compile(loss='mean_squared_error',\n",
    "              optimizer='sgd',\n",
    "              metrics=['mse'])\n",
    "\n",
    "# batch_size를 10, epoch을 4로 설정, Validation Set 설정 후 모델 생성 \n",
    "history = model.fit(X_train, y_train,\n",
    "              batch_size=10, nb_epoch=20,\n",
    "              verbose = 1,\n",
    "              validation_split=0.2)"
   ]
  },
  {
   "cell_type": "code",
   "execution_count": 252,
   "metadata": {},
   "outputs": [],
   "source": [
    "epochs = range(1, 21)"
   ]
  },
  {
   "cell_type": "code",
   "execution_count": 253,
   "metadata": {},
   "outputs": [
    {
     "data": {
      "image/png": "[encoded data removed]",
      "text/plain": [
       "<Figure size 432x288 with 1 Axes>"
      ]
     },
     "metadata": {
      "needs_background": "light"
     },
     "output_type": "display_data"
    }
   ],
   "source": [
    "loss = history.history['loss']\n",
    "val_loss = history.history['val_loss']\n",
    "plt.plot(epochs, loss, 'bo', label='Training loss')\n",
    "plt.plot(epochs, val_loss, 'b', label='Validation loss')\n",
    "plt.title('Training and validation loss')\n",
    "plt.legend()\n",
    "plt.show() "
   ]
  },
  {
   "cell_type": "code",
   "execution_count": 254,
   "metadata": {},
   "outputs": [
    {
     "data": {
      "image/png": "[encoded data removed]",
      "text/plain": [
       "<Figure size 432x288 with 1 Axes>"
      ]
     },
     "metadata": {
      "needs_background": "light"
     },
     "output_type": "display_data"
    }
   ],
   "source": [
    "accuracy = history.history['mse']\n",
    "val_accuracy = history.history['val_mse']\n",
    "plt.plot(epochs, accuracy, 'bo', label='Training mse')\n",
    "plt.plot(epochs, val_accuracy, 'b', label='Validation mse')\n",
    "plt.title('Training and validation loss')\n",
    "plt.legend()\n",
    "plt.show() "
   ]
  },
  {
   "cell_type": "code",
   "execution_count": 255,
   "metadata": {},
   "outputs": [
    {
     "name": "stdout",
     "output_type": "stream",
     "text": [
      "Done\n"
     ]
    }
   ],
   "source": [
    "print('Done')"
   ]
  }
 ],
 "metadata": {
  "kernelspec": {
   "display_name": "Python 3",
   "language": "python",
   "name": "python3"
  },
  "language_info": {
   "codemirror_mode": {
    "name": "ipython",
    "version": 3
   },
   "file_extension": ".py",
   "mimetype": "text/x-python",
   "name": "python",
   "nbconvert_exporter": "python",
   "pygments_lexer": "ipython3",
   "version": "3.7.4"
  }
 },
 "nbformat": 4,
 "nbformat_minor": 2
}
